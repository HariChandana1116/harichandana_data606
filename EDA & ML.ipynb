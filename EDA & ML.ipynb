{
  "nbformat": 4,
  "nbformat_minor": 0,
  "metadata": {
    "colab": {
      "name": "606 EDA & ML 2nd.ipynb",
      "provenance": [],
      "collapsed_sections": [
        "yxIQluknFbP9",
        "ijUb-IQHJsDm",
        "dUSTCWbuJ8L1"
      ]
    },
    "kernelspec": {
      "name": "python3",
      "display_name": "Python 3"
    },
    "language_info": {
      "name": "python"
    },
    "widgets": {
      "application/vnd.jupyter.widget-state+json": {
        "1391db3d4cc24305a34af4874c60ec8e": {
          "model_module": "@jupyter-widgets/controls",
          "model_name": "HBoxModel",
          "model_module_version": "1.5.0",
          "state": {
            "_dom_classes": [],
            "_model_module": "@jupyter-widgets/controls",
            "_model_module_version": "1.5.0",
            "_model_name": "HBoxModel",
            "_view_count": null,
            "_view_module": "@jupyter-widgets/controls",
            "_view_module_version": "1.5.0",
            "_view_name": "HBoxView",
            "box_style": "",
            "children": [
              "IPY_MODEL_b26e0fe037ed4f03b8d70a63cb296994",
              "IPY_MODEL_5a23c88faa3a40abaf81501c3a79f995",
              "IPY_MODEL_22431d9991a244a392e325d6914d1ffb"
            ],
            "layout": "IPY_MODEL_c65c12b9ce874730bd8c2ed5f41a5153"
          }
        },
        "b26e0fe037ed4f03b8d70a63cb296994": {
          "model_module": "@jupyter-widgets/controls",
          "model_name": "HTMLModel",
          "model_module_version": "1.5.0",
          "state": {
            "_dom_classes": [],
            "_model_module": "@jupyter-widgets/controls",
            "_model_module_version": "1.5.0",
            "_model_name": "HTMLModel",
            "_view_count": null,
            "_view_module": "@jupyter-widgets/controls",
            "_view_module_version": "1.5.0",
            "_view_name": "HTMLView",
            "description": "",
            "description_tooltip": null,
            "layout": "IPY_MODEL_94141246fa1149089cd7f59370ad81b6",
            "placeholder": "​",
            "style": "IPY_MODEL_298ef9aa36a648bb958399d0cae40fbf",
            "value": "Done! Use &#x27;show&#x27; commands to display/save.   "
          }
        },
        "5a23c88faa3a40abaf81501c3a79f995": {
          "model_module": "@jupyter-widgets/controls",
          "model_name": "FloatProgressModel",
          "model_module_version": "1.5.0",
          "state": {
            "_dom_classes": [],
            "_model_module": "@jupyter-widgets/controls",
            "_model_module_version": "1.5.0",
            "_model_name": "FloatProgressModel",
            "_view_count": null,
            "_view_module": "@jupyter-widgets/controls",
            "_view_module_version": "1.5.0",
            "_view_name": "ProgressView",
            "bar_style": "success",
            "description": "",
            "description_tooltip": null,
            "layout": "IPY_MODEL_6aa0b4dc901e44d89399d6f2c3383600",
            "max": 1,
            "min": 0,
            "orientation": "horizontal",
            "style": "IPY_MODEL_59e188c9f763409ebe11c4b3287df7c1",
            "value": 1
          }
        },
        "22431d9991a244a392e325d6914d1ffb": {
          "model_module": "@jupyter-widgets/controls",
          "model_name": "HTMLModel",
          "model_module_version": "1.5.0",
          "state": {
            "_dom_classes": [],
            "_model_module": "@jupyter-widgets/controls",
            "_model_module_version": "1.5.0",
            "_model_name": "HTMLModel",
            "_view_count": null,
            "_view_module": "@jupyter-widgets/controls",
            "_view_module_version": "1.5.0",
            "_view_name": "HTMLView",
            "description": "",
            "description_tooltip": null,
            "layout": "IPY_MODEL_c1592ff0eda745b19464130e8666e4ca",
            "placeholder": "​",
            "style": "IPY_MODEL_aab7857b9a494959abe4607db66a0af5",
            "value": " [100%]   00:00 -&gt; (00:00 left)"
          }
        },
        "c65c12b9ce874730bd8c2ed5f41a5153": {
          "model_module": "@jupyter-widgets/base",
          "model_name": "LayoutModel",
          "model_module_version": "1.2.0",
          "state": {
            "_model_module": "@jupyter-widgets/base",
            "_model_module_version": "1.2.0",
            "_model_name": "LayoutModel",
            "_view_count": null,
            "_view_module": "@jupyter-widgets/base",
            "_view_module_version": "1.2.0",
            "_view_name": "LayoutView",
            "align_content": null,
            "align_items": null,
            "align_self": null,
            "border": null,
            "bottom": null,
            "display": "inline-flex",
            "flex": null,
            "flex_flow": "row wrap",
            "grid_area": null,
            "grid_auto_columns": null,
            "grid_auto_flow": null,
            "grid_auto_rows": null,
            "grid_column": null,
            "grid_gap": null,
            "grid_row": null,
            "grid_template_areas": null,
            "grid_template_columns": null,
            "grid_template_rows": null,
            "height": null,
            "justify_content": null,
            "justify_items": null,
            "left": null,
            "margin": null,
            "max_height": null,
            "max_width": null,
            "min_height": null,
            "min_width": null,
            "object_fit": null,
            "object_position": null,
            "order": null,
            "overflow": null,
            "overflow_x": null,
            "overflow_y": null,
            "padding": null,
            "right": null,
            "top": null,
            "visibility": null,
            "width": "100%"
          }
        },
        "94141246fa1149089cd7f59370ad81b6": {
          "model_module": "@jupyter-widgets/base",
          "model_name": "LayoutModel",
          "model_module_version": "1.2.0",
          "state": {
            "_model_module": "@jupyter-widgets/base",
            "_model_module_version": "1.2.0",
            "_model_name": "LayoutModel",
            "_view_count": null,
            "_view_module": "@jupyter-widgets/base",
            "_view_module_version": "1.2.0",
            "_view_name": "LayoutView",
            "align_content": null,
            "align_items": null,
            "align_self": null,
            "border": null,
            "bottom": null,
            "display": null,
            "flex": null,
            "flex_flow": null,
            "grid_area": null,
            "grid_auto_columns": null,
            "grid_auto_flow": null,
            "grid_auto_rows": null,
            "grid_column": null,
            "grid_gap": null,
            "grid_row": null,
            "grid_template_areas": null,
            "grid_template_columns": null,
            "grid_template_rows": null,
            "height": null,
            "justify_content": null,
            "justify_items": null,
            "left": null,
            "margin": null,
            "max_height": null,
            "max_width": null,
            "min_height": null,
            "min_width": null,
            "object_fit": null,
            "object_position": null,
            "order": null,
            "overflow": null,
            "overflow_x": null,
            "overflow_y": null,
            "padding": null,
            "right": null,
            "top": null,
            "visibility": null,
            "width": null
          }
        },
        "298ef9aa36a648bb958399d0cae40fbf": {
          "model_module": "@jupyter-widgets/controls",
          "model_name": "DescriptionStyleModel",
          "model_module_version": "1.5.0",
          "state": {
            "_model_module": "@jupyter-widgets/controls",
            "_model_module_version": "1.5.0",
            "_model_name": "DescriptionStyleModel",
            "_view_count": null,
            "_view_module": "@jupyter-widgets/base",
            "_view_module_version": "1.2.0",
            "_view_name": "StyleView",
            "description_width": ""
          }
        },
        "6aa0b4dc901e44d89399d6f2c3383600": {
          "model_module": "@jupyter-widgets/base",
          "model_name": "LayoutModel",
          "model_module_version": "1.2.0",
          "state": {
            "_model_module": "@jupyter-widgets/base",
            "_model_module_version": "1.2.0",
            "_model_name": "LayoutModel",
            "_view_count": null,
            "_view_module": "@jupyter-widgets/base",
            "_view_module_version": "1.2.0",
            "_view_name": "LayoutView",
            "align_content": null,
            "align_items": null,
            "align_self": null,
            "border": null,
            "bottom": null,
            "display": null,
            "flex": "2",
            "flex_flow": null,
            "grid_area": null,
            "grid_auto_columns": null,
            "grid_auto_flow": null,
            "grid_auto_rows": null,
            "grid_column": null,
            "grid_gap": null,
            "grid_row": null,
            "grid_template_areas": null,
            "grid_template_columns": null,
            "grid_template_rows": null,
            "height": null,
            "justify_content": null,
            "justify_items": null,
            "left": null,
            "margin": null,
            "max_height": null,
            "max_width": null,
            "min_height": null,
            "min_width": null,
            "object_fit": null,
            "object_position": null,
            "order": null,
            "overflow": null,
            "overflow_x": null,
            "overflow_y": null,
            "padding": null,
            "right": null,
            "top": null,
            "visibility": null,
            "width": null
          }
        },
        "59e188c9f763409ebe11c4b3287df7c1": {
          "model_module": "@jupyter-widgets/controls",
          "model_name": "ProgressStyleModel",
          "model_module_version": "1.5.0",
          "state": {
            "_model_module": "@jupyter-widgets/controls",
            "_model_module_version": "1.5.0",
            "_model_name": "ProgressStyleModel",
            "_view_count": null,
            "_view_module": "@jupyter-widgets/base",
            "_view_module_version": "1.2.0",
            "_view_name": "StyleView",
            "bar_color": null,
            "description_width": ""
          }
        },
        "c1592ff0eda745b19464130e8666e4ca": {
          "model_module": "@jupyter-widgets/base",
          "model_name": "LayoutModel",
          "model_module_version": "1.2.0",
          "state": {
            "_model_module": "@jupyter-widgets/base",
            "_model_module_version": "1.2.0",
            "_model_name": "LayoutModel",
            "_view_count": null,
            "_view_module": "@jupyter-widgets/base",
            "_view_module_version": "1.2.0",
            "_view_name": "LayoutView",
            "align_content": null,
            "align_items": null,
            "align_self": null,
            "border": null,
            "bottom": null,
            "display": null,
            "flex": null,
            "flex_flow": null,
            "grid_area": null,
            "grid_auto_columns": null,
            "grid_auto_flow": null,
            "grid_auto_rows": null,
            "grid_column": null,
            "grid_gap": null,
            "grid_row": null,
            "grid_template_areas": null,
            "grid_template_columns": null,
            "grid_template_rows": null,
            "height": null,
            "justify_content": null,
            "justify_items": null,
            "left": null,
            "margin": null,
            "max_height": null,
            "max_width": null,
            "min_height": null,
            "min_width": null,
            "object_fit": null,
            "object_position": null,
            "order": null,
            "overflow": null,
            "overflow_x": null,
            "overflow_y": null,
            "padding": null,
            "right": null,
            "top": null,
            "visibility": null,
            "width": null
          }
        },
        "aab7857b9a494959abe4607db66a0af5": {
          "model_module": "@jupyter-widgets/controls",
          "model_name": "DescriptionStyleModel",
          "model_module_version": "1.5.0",
          "state": {
            "_model_module": "@jupyter-widgets/controls",
            "_model_module_version": "1.5.0",
            "_model_name": "DescriptionStyleModel",
            "_view_count": null,
            "_view_module": "@jupyter-widgets/base",
            "_view_module_version": "1.2.0",
            "_view_name": "StyleView",
            "description_width": ""
          }
        },
        "2814715087534e6a91ab302d5fef2195": {
          "model_module": "@jupyter-widgets/controls",
          "model_name": "HBoxModel",
          "model_module_version": "1.5.0",
          "state": {
            "_dom_classes": [],
            "_model_module": "@jupyter-widgets/controls",
            "_model_module_version": "1.5.0",
            "_model_name": "HBoxModel",
            "_view_count": null,
            "_view_module": "@jupyter-widgets/controls",
            "_view_module_version": "1.5.0",
            "_view_name": "HBoxView",
            "box_style": "",
            "children": [
              "IPY_MODEL_82e75a81ca99446daa10955b3d0d084e",
              "IPY_MODEL_a80d287cb33c4ac8b4e1e9269a3b2711",
              "IPY_MODEL_b248265c3c13407a86bdfe1324232686"
            ],
            "layout": "IPY_MODEL_8e0834b089f042b7b93d86c2f1a8af34"
          }
        },
        "82e75a81ca99446daa10955b3d0d084e": {
          "model_module": "@jupyter-widgets/controls",
          "model_name": "HTMLModel",
          "model_module_version": "1.5.0",
          "state": {
            "_dom_classes": [],
            "_model_module": "@jupyter-widgets/controls",
            "_model_module_version": "1.5.0",
            "_model_name": "HTMLModel",
            "_view_count": null,
            "_view_module": "@jupyter-widgets/controls",
            "_view_module_version": "1.5.0",
            "_view_name": "HTMLView",
            "description": "",
            "description_tooltip": null,
            "layout": "IPY_MODEL_f6ecf7392d614a0ca53613eb42221d65",
            "placeholder": "​",
            "style": "IPY_MODEL_d996f74e98c14f3b9f69dfdee5e93be1",
            "value": "Done! Use &#x27;show&#x27; commands to display/save.   "
          }
        },
        "a80d287cb33c4ac8b4e1e9269a3b2711": {
          "model_module": "@jupyter-widgets/controls",
          "model_name": "FloatProgressModel",
          "model_module_version": "1.5.0",
          "state": {
            "_dom_classes": [],
            "_model_module": "@jupyter-widgets/controls",
            "_model_module_version": "1.5.0",
            "_model_name": "FloatProgressModel",
            "_view_count": null,
            "_view_module": "@jupyter-widgets/controls",
            "_view_module_version": "1.5.0",
            "_view_name": "ProgressView",
            "bar_style": "success",
            "description": "",
            "description_tooltip": null,
            "layout": "IPY_MODEL_e6c89e70f5be4104aa48791cec73c3ae",
            "max": 1,
            "min": 0,
            "orientation": "horizontal",
            "style": "IPY_MODEL_7120024dc41a416c8588588b475c3948",
            "value": 1
          }
        },
        "b248265c3c13407a86bdfe1324232686": {
          "model_module": "@jupyter-widgets/controls",
          "model_name": "HTMLModel",
          "model_module_version": "1.5.0",
          "state": {
            "_dom_classes": [],
            "_model_module": "@jupyter-widgets/controls",
            "_model_module_version": "1.5.0",
            "_model_name": "HTMLModel",
            "_view_count": null,
            "_view_module": "@jupyter-widgets/controls",
            "_view_module_version": "1.5.0",
            "_view_name": "HTMLView",
            "description": "",
            "description_tooltip": null,
            "layout": "IPY_MODEL_714b2a6938804668a5672c57fa09d2f0",
            "placeholder": "​",
            "style": "IPY_MODEL_0f2289e3eb5a495ca3d9c57ffbcc9c70",
            "value": " [100%]   00:01 -&gt; (00:00 left)"
          }
        },
        "8e0834b089f042b7b93d86c2f1a8af34": {
          "model_module": "@jupyter-widgets/base",
          "model_name": "LayoutModel",
          "model_module_version": "1.2.0",
          "state": {
            "_model_module": "@jupyter-widgets/base",
            "_model_module_version": "1.2.0",
            "_model_name": "LayoutModel",
            "_view_count": null,
            "_view_module": "@jupyter-widgets/base",
            "_view_module_version": "1.2.0",
            "_view_name": "LayoutView",
            "align_content": null,
            "align_items": null,
            "align_self": null,
            "border": null,
            "bottom": null,
            "display": "inline-flex",
            "flex": null,
            "flex_flow": "row wrap",
            "grid_area": null,
            "grid_auto_columns": null,
            "grid_auto_flow": null,
            "grid_auto_rows": null,
            "grid_column": null,
            "grid_gap": null,
            "grid_row": null,
            "grid_template_areas": null,
            "grid_template_columns": null,
            "grid_template_rows": null,
            "height": null,
            "justify_content": null,
            "justify_items": null,
            "left": null,
            "margin": null,
            "max_height": null,
            "max_width": null,
            "min_height": null,
            "min_width": null,
            "object_fit": null,
            "object_position": null,
            "order": null,
            "overflow": null,
            "overflow_x": null,
            "overflow_y": null,
            "padding": null,
            "right": null,
            "top": null,
            "visibility": null,
            "width": "100%"
          }
        },
        "f6ecf7392d614a0ca53613eb42221d65": {
          "model_module": "@jupyter-widgets/base",
          "model_name": "LayoutModel",
          "model_module_version": "1.2.0",
          "state": {
            "_model_module": "@jupyter-widgets/base",
            "_model_module_version": "1.2.0",
            "_model_name": "LayoutModel",
            "_view_count": null,
            "_view_module": "@jupyter-widgets/base",
            "_view_module_version": "1.2.0",
            "_view_name": "LayoutView",
            "align_content": null,
            "align_items": null,
            "align_self": null,
            "border": null,
            "bottom": null,
            "display": null,
            "flex": null,
            "flex_flow": null,
            "grid_area": null,
            "grid_auto_columns": null,
            "grid_auto_flow": null,
            "grid_auto_rows": null,
            "grid_column": null,
            "grid_gap": null,
            "grid_row": null,
            "grid_template_areas": null,
            "grid_template_columns": null,
            "grid_template_rows": null,
            "height": null,
            "justify_content": null,
            "justify_items": null,
            "left": null,
            "margin": null,
            "max_height": null,
            "max_width": null,
            "min_height": null,
            "min_width": null,
            "object_fit": null,
            "object_position": null,
            "order": null,
            "overflow": null,
            "overflow_x": null,
            "overflow_y": null,
            "padding": null,
            "right": null,
            "top": null,
            "visibility": null,
            "width": null
          }
        },
        "d996f74e98c14f3b9f69dfdee5e93be1": {
          "model_module": "@jupyter-widgets/controls",
          "model_name": "DescriptionStyleModel",
          "model_module_version": "1.5.0",
          "state": {
            "_model_module": "@jupyter-widgets/controls",
            "_model_module_version": "1.5.0",
            "_model_name": "DescriptionStyleModel",
            "_view_count": null,
            "_view_module": "@jupyter-widgets/base",
            "_view_module_version": "1.2.0",
            "_view_name": "StyleView",
            "description_width": ""
          }
        },
        "e6c89e70f5be4104aa48791cec73c3ae": {
          "model_module": "@jupyter-widgets/base",
          "model_name": "LayoutModel",
          "model_module_version": "1.2.0",
          "state": {
            "_model_module": "@jupyter-widgets/base",
            "_model_module_version": "1.2.0",
            "_model_name": "LayoutModel",
            "_view_count": null,
            "_view_module": "@jupyter-widgets/base",
            "_view_module_version": "1.2.0",
            "_view_name": "LayoutView",
            "align_content": null,
            "align_items": null,
            "align_self": null,
            "border": null,
            "bottom": null,
            "display": null,
            "flex": "2",
            "flex_flow": null,
            "grid_area": null,
            "grid_auto_columns": null,
            "grid_auto_flow": null,
            "grid_auto_rows": null,
            "grid_column": null,
            "grid_gap": null,
            "grid_row": null,
            "grid_template_areas": null,
            "grid_template_columns": null,
            "grid_template_rows": null,
            "height": null,
            "justify_content": null,
            "justify_items": null,
            "left": null,
            "margin": null,
            "max_height": null,
            "max_width": null,
            "min_height": null,
            "min_width": null,
            "object_fit": null,
            "object_position": null,
            "order": null,
            "overflow": null,
            "overflow_x": null,
            "overflow_y": null,
            "padding": null,
            "right": null,
            "top": null,
            "visibility": null,
            "width": null
          }
        },
        "7120024dc41a416c8588588b475c3948": {
          "model_module": "@jupyter-widgets/controls",
          "model_name": "ProgressStyleModel",
          "model_module_version": "1.5.0",
          "state": {
            "_model_module": "@jupyter-widgets/controls",
            "_model_module_version": "1.5.0",
            "_model_name": "ProgressStyleModel",
            "_view_count": null,
            "_view_module": "@jupyter-widgets/base",
            "_view_module_version": "1.2.0",
            "_view_name": "StyleView",
            "bar_color": null,
            "description_width": ""
          }
        },
        "714b2a6938804668a5672c57fa09d2f0": {
          "model_module": "@jupyter-widgets/base",
          "model_name": "LayoutModel",
          "model_module_version": "1.2.0",
          "state": {
            "_model_module": "@jupyter-widgets/base",
            "_model_module_version": "1.2.0",
            "_model_name": "LayoutModel",
            "_view_count": null,
            "_view_module": "@jupyter-widgets/base",
            "_view_module_version": "1.2.0",
            "_view_name": "LayoutView",
            "align_content": null,
            "align_items": null,
            "align_self": null,
            "border": null,
            "bottom": null,
            "display": null,
            "flex": null,
            "flex_flow": null,
            "grid_area": null,
            "grid_auto_columns": null,
            "grid_auto_flow": null,
            "grid_auto_rows": null,
            "grid_column": null,
            "grid_gap": null,
            "grid_row": null,
            "grid_template_areas": null,
            "grid_template_columns": null,
            "grid_template_rows": null,
            "height": null,
            "justify_content": null,
            "justify_items": null,
            "left": null,
            "margin": null,
            "max_height": null,
            "max_width": null,
            "min_height": null,
            "min_width": null,
            "object_fit": null,
            "object_position": null,
            "order": null,
            "overflow": null,
            "overflow_x": null,
            "overflow_y": null,
            "padding": null,
            "right": null,
            "top": null,
            "visibility": null,
            "width": null
          }
        },
        "0f2289e3eb5a495ca3d9c57ffbcc9c70": {
          "model_module": "@jupyter-widgets/controls",
          "model_name": "DescriptionStyleModel",
          "model_module_version": "1.5.0",
          "state": {
            "_model_module": "@jupyter-widgets/controls",
            "_model_module_version": "1.5.0",
            "_model_name": "DescriptionStyleModel",
            "_view_count": null,
            "_view_module": "@jupyter-widgets/base",
            "_view_module_version": "1.2.0",
            "_view_name": "StyleView",
            "description_width": ""
          }
        }
      }
    }
  },
  "cells": [
    {
      "cell_type": "code",
      "execution_count": 1,
      "metadata": {
        "id": "mkcg-60-DhRm"
      },
      "outputs": [],
      "source": [
        "import pandas as pd\n",
        "import missingno as msno\n",
        "import matplotlib.pyplot as plt \n",
        "import seaborn as sns\n",
        "from sklearn.utils import resample\n",
        "from imblearn.ensemble import BalancedBaggingClassifier\n",
        "from sklearn.tree import DecisionTreeClassifier\n",
        "from sklearn.model_selection import train_test_split\n",
        "from sklearn.ensemble import RandomForestClassifier\n",
        "from sklearn.metrics import accuracy_score\n",
        "from sklearn.linear_model import LogisticRegression\n",
        "%matplotlib inline\n",
        "from sklearn.model_selection import cross_val_score\n",
        "from sklearn.datasets import make_blobs"
      ]
    },
    {
      "cell_type": "code",
      "source": [
        "df1 = pd.read_csv(\"/content/500_Cities.csv\")          # reading the CSV file\n",
        "df1.head()"
      ],
      "metadata": {
        "colab": {
          "base_uri": "https://localhost:8080/",
          "height": 733
        },
        "id": "UZjJMjx6ENZP",
        "outputId": "a31c24dd-0418-4f47-84ea-cd4e47b2821d"
      },
      "execution_count": 2,
      "outputs": [
        {
          "output_type": "execute_result",
          "data": {
            "text/plain": [
              "   Year StateAbbr    StateDesc   CityName GeographicLevel DataSource  \\\n",
              "0  2015        IN      Indiana    Fishers            City      BRFSS   \n",
              "1  2015        CA   California   Milpitas            City      BRFSS   \n",
              "2  2015        CT  Connecticut   Stamford            City      BRFSS   \n",
              "3  2015        CA   California  Elk Grove            City      BRFSS   \n",
              "4  2015        FL      Florida   Palm Bay            City      BRFSS   \n",
              "\n",
              "          Category UniqueID  \\\n",
              "0  Health Outcomes  1823278   \n",
              "1  Health Outcomes   647766   \n",
              "2  Health Outcomes   973000   \n",
              "3  Health Outcomes   622020   \n",
              "4       Prevention  1254000   \n",
              "\n",
              "                                             Measure Data_Value_Unit  ...  \\\n",
              "0   High blood pressure among adults aged >=18 Years               %  ...   \n",
              "1   High blood pressure among adults aged >=18 Years               %  ...   \n",
              "2   High blood pressure among adults aged >=18 Years               %  ...   \n",
              "3   High blood pressure among adults aged >=18 Years               %  ...   \n",
              "4  Cholesterol screening among adults aged >=18 Y...               %  ...   \n",
              "\n",
              "  High_Confidence_Limit Data_Value_Footnote_Symbol  Data_Value_Footnote  \\\n",
              "0                  24.7                        NaN                  NaN   \n",
              "1                  22.5                        NaN                  NaN   \n",
              "2                  26.2                        NaN                  NaN   \n",
              "3                  27.8                        NaN                  NaN   \n",
              "4                  78.4                        NaN                  NaN   \n",
              "\n",
              "   PopulationCount                           Geolocation CategoryID  \\\n",
              "0            76794   POINT (-85.969310702 39.9587635263)    HLTHOUT   \n",
              "1            66790   POINT (-121.892083025 37.433869763)    HLTHOUT   \n",
              "2           122643  POINT (-73.5589363142 41.1049145013)    HLTHOUT   \n",
              "3           153015  POINT (-121.384137762 38.4159992006)    HLTHOUT   \n",
              "4           103190  POINT (-80.6666722846 27.9838255249)    PREVENT   \n",
              "\n",
              "    MeasureId   CityFIPS TractFIPS    Short_Question_Text  \n",
              "0      BPHIGH  1823278.0       NaN    High Blood Pressure  \n",
              "1      BPHIGH   647766.0       NaN    High Blood Pressure  \n",
              "2      BPHIGH   973000.0       NaN    High Blood Pressure  \n",
              "3      BPHIGH   622020.0       NaN    High Blood Pressure  \n",
              "4  CHOLSCREEN  1254000.0       NaN  Cholesterol Screening  \n",
              "\n",
              "[5 rows x 24 columns]"
            ],
            "text/html": [
              "\n",
              "  <div id=\"df-dff981e5-8aef-4f6d-984d-e3cb9ba025dd\">\n",
              "    <div class=\"colab-df-container\">\n",
              "      <div>\n",
              "<style scoped>\n",
              "    .dataframe tbody tr th:only-of-type {\n",
              "        vertical-align: middle;\n",
              "    }\n",
              "\n",
              "    .dataframe tbody tr th {\n",
              "        vertical-align: top;\n",
              "    }\n",
              "\n",
              "    .dataframe thead th {\n",
              "        text-align: right;\n",
              "    }\n",
              "</style>\n",
              "<table border=\"1\" class=\"dataframe\">\n",
              "  <thead>\n",
              "    <tr style=\"text-align: right;\">\n",
              "      <th></th>\n",
              "      <th>Year</th>\n",
              "      <th>StateAbbr</th>\n",
              "      <th>StateDesc</th>\n",
              "      <th>CityName</th>\n",
              "      <th>GeographicLevel</th>\n",
              "      <th>DataSource</th>\n",
              "      <th>Category</th>\n",
              "      <th>UniqueID</th>\n",
              "      <th>Measure</th>\n",
              "      <th>Data_Value_Unit</th>\n",
              "      <th>...</th>\n",
              "      <th>High_Confidence_Limit</th>\n",
              "      <th>Data_Value_Footnote_Symbol</th>\n",
              "      <th>Data_Value_Footnote</th>\n",
              "      <th>PopulationCount</th>\n",
              "      <th>Geolocation</th>\n",
              "      <th>CategoryID</th>\n",
              "      <th>MeasureId</th>\n",
              "      <th>CityFIPS</th>\n",
              "      <th>TractFIPS</th>\n",
              "      <th>Short_Question_Text</th>\n",
              "    </tr>\n",
              "  </thead>\n",
              "  <tbody>\n",
              "    <tr>\n",
              "      <th>0</th>\n",
              "      <td>2015</td>\n",
              "      <td>IN</td>\n",
              "      <td>Indiana</td>\n",
              "      <td>Fishers</td>\n",
              "      <td>City</td>\n",
              "      <td>BRFSS</td>\n",
              "      <td>Health Outcomes</td>\n",
              "      <td>1823278</td>\n",
              "      <td>High blood pressure among adults aged &gt;=18 Years</td>\n",
              "      <td>%</td>\n",
              "      <td>...</td>\n",
              "      <td>24.7</td>\n",
              "      <td>NaN</td>\n",
              "      <td>NaN</td>\n",
              "      <td>76794</td>\n",
              "      <td>POINT (-85.969310702 39.9587635263)</td>\n",
              "      <td>HLTHOUT</td>\n",
              "      <td>BPHIGH</td>\n",
              "      <td>1823278.0</td>\n",
              "      <td>NaN</td>\n",
              "      <td>High Blood Pressure</td>\n",
              "    </tr>\n",
              "    <tr>\n",
              "      <th>1</th>\n",
              "      <td>2015</td>\n",
              "      <td>CA</td>\n",
              "      <td>California</td>\n",
              "      <td>Milpitas</td>\n",
              "      <td>City</td>\n",
              "      <td>BRFSS</td>\n",
              "      <td>Health Outcomes</td>\n",
              "      <td>647766</td>\n",
              "      <td>High blood pressure among adults aged &gt;=18 Years</td>\n",
              "      <td>%</td>\n",
              "      <td>...</td>\n",
              "      <td>22.5</td>\n",
              "      <td>NaN</td>\n",
              "      <td>NaN</td>\n",
              "      <td>66790</td>\n",
              "      <td>POINT (-121.892083025 37.433869763)</td>\n",
              "      <td>HLTHOUT</td>\n",
              "      <td>BPHIGH</td>\n",
              "      <td>647766.0</td>\n",
              "      <td>NaN</td>\n",
              "      <td>High Blood Pressure</td>\n",
              "    </tr>\n",
              "    <tr>\n",
              "      <th>2</th>\n",
              "      <td>2015</td>\n",
              "      <td>CT</td>\n",
              "      <td>Connecticut</td>\n",
              "      <td>Stamford</td>\n",
              "      <td>City</td>\n",
              "      <td>BRFSS</td>\n",
              "      <td>Health Outcomes</td>\n",
              "      <td>973000</td>\n",
              "      <td>High blood pressure among adults aged &gt;=18 Years</td>\n",
              "      <td>%</td>\n",
              "      <td>...</td>\n",
              "      <td>26.2</td>\n",
              "      <td>NaN</td>\n",
              "      <td>NaN</td>\n",
              "      <td>122643</td>\n",
              "      <td>POINT (-73.5589363142 41.1049145013)</td>\n",
              "      <td>HLTHOUT</td>\n",
              "      <td>BPHIGH</td>\n",
              "      <td>973000.0</td>\n",
              "      <td>NaN</td>\n",
              "      <td>High Blood Pressure</td>\n",
              "    </tr>\n",
              "    <tr>\n",
              "      <th>3</th>\n",
              "      <td>2015</td>\n",
              "      <td>CA</td>\n",
              "      <td>California</td>\n",
              "      <td>Elk Grove</td>\n",
              "      <td>City</td>\n",
              "      <td>BRFSS</td>\n",
              "      <td>Health Outcomes</td>\n",
              "      <td>622020</td>\n",
              "      <td>High blood pressure among adults aged &gt;=18 Years</td>\n",
              "      <td>%</td>\n",
              "      <td>...</td>\n",
              "      <td>27.8</td>\n",
              "      <td>NaN</td>\n",
              "      <td>NaN</td>\n",
              "      <td>153015</td>\n",
              "      <td>POINT (-121.384137762 38.4159992006)</td>\n",
              "      <td>HLTHOUT</td>\n",
              "      <td>BPHIGH</td>\n",
              "      <td>622020.0</td>\n",
              "      <td>NaN</td>\n",
              "      <td>High Blood Pressure</td>\n",
              "    </tr>\n",
              "    <tr>\n",
              "      <th>4</th>\n",
              "      <td>2015</td>\n",
              "      <td>FL</td>\n",
              "      <td>Florida</td>\n",
              "      <td>Palm Bay</td>\n",
              "      <td>City</td>\n",
              "      <td>BRFSS</td>\n",
              "      <td>Prevention</td>\n",
              "      <td>1254000</td>\n",
              "      <td>Cholesterol screening among adults aged &gt;=18 Y...</td>\n",
              "      <td>%</td>\n",
              "      <td>...</td>\n",
              "      <td>78.4</td>\n",
              "      <td>NaN</td>\n",
              "      <td>NaN</td>\n",
              "      <td>103190</td>\n",
              "      <td>POINT (-80.6666722846 27.9838255249)</td>\n",
              "      <td>PREVENT</td>\n",
              "      <td>CHOLSCREEN</td>\n",
              "      <td>1254000.0</td>\n",
              "      <td>NaN</td>\n",
              "      <td>Cholesterol Screening</td>\n",
              "    </tr>\n",
              "  </tbody>\n",
              "</table>\n",
              "<p>5 rows × 24 columns</p>\n",
              "</div>\n",
              "      <button class=\"colab-df-convert\" onclick=\"convertToInteractive('df-dff981e5-8aef-4f6d-984d-e3cb9ba025dd')\"\n",
              "              title=\"Convert this dataframe to an interactive table.\"\n",
              "              style=\"display:none;\">\n",
              "        \n",
              "  <svg xmlns=\"http://www.w3.org/2000/svg\" height=\"24px\"viewBox=\"0 0 24 24\"\n",
              "       width=\"24px\">\n",
              "    <path d=\"M0 0h24v24H0V0z\" fill=\"none\"/>\n",
              "    <path d=\"M18.56 5.44l.94 2.06.94-2.06 2.06-.94-2.06-.94-.94-2.06-.94 2.06-2.06.94zm-11 1L8.5 8.5l.94-2.06 2.06-.94-2.06-.94L8.5 2.5l-.94 2.06-2.06.94zm10 10l.94 2.06.94-2.06 2.06-.94-2.06-.94-.94-2.06-.94 2.06-2.06.94z\"/><path d=\"M17.41 7.96l-1.37-1.37c-.4-.4-.92-.59-1.43-.59-.52 0-1.04.2-1.43.59L10.3 9.45l-7.72 7.72c-.78.78-.78 2.05 0 2.83L4 21.41c.39.39.9.59 1.41.59.51 0 1.02-.2 1.41-.59l7.78-7.78 2.81-2.81c.8-.78.8-2.07 0-2.86zM5.41 20L4 18.59l7.72-7.72 1.47 1.35L5.41 20z\"/>\n",
              "  </svg>\n",
              "      </button>\n",
              "      \n",
              "  <style>\n",
              "    .colab-df-container {\n",
              "      display:flex;\n",
              "      flex-wrap:wrap;\n",
              "      gap: 12px;\n",
              "    }\n",
              "\n",
              "    .colab-df-convert {\n",
              "      background-color: #E8F0FE;\n",
              "      border: none;\n",
              "      border-radius: 50%;\n",
              "      cursor: pointer;\n",
              "      display: none;\n",
              "      fill: #1967D2;\n",
              "      height: 32px;\n",
              "      padding: 0 0 0 0;\n",
              "      width: 32px;\n",
              "    }\n",
              "\n",
              "    .colab-df-convert:hover {\n",
              "      background-color: #E2EBFA;\n",
              "      box-shadow: 0px 1px 2px rgba(60, 64, 67, 0.3), 0px 1px 3px 1px rgba(60, 64, 67, 0.15);\n",
              "      fill: #174EA6;\n",
              "    }\n",
              "\n",
              "    [theme=dark] .colab-df-convert {\n",
              "      background-color: #3B4455;\n",
              "      fill: #D2E3FC;\n",
              "    }\n",
              "\n",
              "    [theme=dark] .colab-df-convert:hover {\n",
              "      background-color: #434B5C;\n",
              "      box-shadow: 0px 1px 3px 1px rgba(0, 0, 0, 0.15);\n",
              "      filter: drop-shadow(0px 1px 2px rgba(0, 0, 0, 0.3));\n",
              "      fill: #FFFFFF;\n",
              "    }\n",
              "  </style>\n",
              "\n",
              "      <script>\n",
              "        const buttonEl =\n",
              "          document.querySelector('#df-dff981e5-8aef-4f6d-984d-e3cb9ba025dd button.colab-df-convert');\n",
              "        buttonEl.style.display =\n",
              "          google.colab.kernel.accessAllowed ? 'block' : 'none';\n",
              "\n",
              "        async function convertToInteractive(key) {\n",
              "          const element = document.querySelector('#df-dff981e5-8aef-4f6d-984d-e3cb9ba025dd');\n",
              "          const dataTable =\n",
              "            await google.colab.kernel.invokeFunction('convertToInteractive',\n",
              "                                                     [key], {});\n",
              "          if (!dataTable) return;\n",
              "\n",
              "          const docLinkHtml = 'Like what you see? Visit the ' +\n",
              "            '<a target=\"_blank\" href=https://colab.research.google.com/notebooks/data_table.ipynb>data table notebook</a>'\n",
              "            + ' to learn more about interactive tables.';\n",
              "          element.innerHTML = '';\n",
              "          dataTable['output_type'] = 'display_data';\n",
              "          await google.colab.output.renderOutput(dataTable, element);\n",
              "          const docLink = document.createElement('div');\n",
              "          docLink.innerHTML = docLinkHtml;\n",
              "          element.appendChild(docLink);\n",
              "        }\n",
              "      </script>\n",
              "    </div>\n",
              "  </div>\n",
              "  "
            ]
          },
          "metadata": {},
          "execution_count": 2
        }
      ]
    },
    {
      "cell_type": "code",
      "source": [
        "# looking for its columns\n",
        "for col in df1.columns:\n",
        "  print(col)"
      ],
      "metadata": {
        "colab": {
          "base_uri": "https://localhost:8080/"
        },
        "id": "VBA7zTy-ERM5",
        "outputId": "7909412c-6be1-4c6e-ad27-b3b0ddcecb83"
      },
      "execution_count": 3,
      "outputs": [
        {
          "output_type": "stream",
          "name": "stdout",
          "text": [
            "Year\n",
            "StateAbbr\n",
            "StateDesc\n",
            "CityName\n",
            "GeographicLevel\n",
            "DataSource\n",
            "Category\n",
            "UniqueID\n",
            "Measure\n",
            "Data_Value_Unit\n",
            "DataValueTypeID\n",
            "Data_Value_Type\n",
            "Data_Value\n",
            "Low_Confidence_Limit\n",
            "High_Confidence_Limit\n",
            "Data_Value_Footnote_Symbol\n",
            "Data_Value_Footnote\n",
            "PopulationCount\n",
            "Geolocation\n",
            "CategoryID\n",
            "MeasureId\n",
            "CityFIPS\n",
            "TractFIPS\n",
            "Short_Question_Text\n"
          ]
        }
      ]
    },
    {
      "cell_type": "code",
      "source": [
        "df1.shape"
      ],
      "metadata": {
        "colab": {
          "base_uri": "https://localhost:8080/"
        },
        "id": "B5IWZVtoERKN",
        "outputId": "075f237b-20b5-49a9-b752-752892530d27"
      },
      "execution_count": 4,
      "outputs": [
        {
          "output_type": "execute_result",
          "data": {
            "text/plain": [
              "(810103, 24)"
            ]
          },
          "metadata": {},
          "execution_count": 4
        }
      ]
    },
    {
      "cell_type": "code",
      "source": [
        "df1.groupby('CategoryID').size()"
      ],
      "metadata": {
        "colab": {
          "base_uri": "https://localhost:8080/"
        },
        "id": "ak18y64ZERHj",
        "outputId": "b64de22d-49d7-44e2-9493-8f2e8c719678"
      },
      "execution_count": 5,
      "outputs": [
        {
          "output_type": "execute_result",
          "data": {
            "text/plain": [
              "CategoryID\n",
              "HLTHOUT    376673\n",
              "PREVENT    288400\n",
              "UNHBEH     145030\n",
              "dtype: int64"
            ]
          },
          "metadata": {},
          "execution_count": 5
        }
      ]
    },
    {
      "cell_type": "markdown",
      "source": [
        "### Grouping Category wise and plotting the graphs as checking on categories feature is one of our main goals."
      ],
      "metadata": {
        "id": "zjQBpjm3EbMa"
      }
    },
    {
      "cell_type": "code",
      "source": [
        "df1.groupby('CategoryID').hist(figsize=(9, 9))"
      ],
      "metadata": {
        "colab": {
          "base_uri": "https://localhost:8080/",
          "height": 1000
        },
        "id": "xroAuK1YERFf",
        "outputId": "1a2a3eb1-77dc-4c56-c95e-6f5f0b4be4e6"
      },
      "execution_count": 6,
      "outputs": [
        {
          "output_type": "execute_result",
          "data": {
            "text/plain": [
              "CategoryID\n",
              "HLTHOUT    [[AxesSubplot(0.125,0.670278;0.215278x0.209722...\n",
              "PREVENT    [[AxesSubplot(0.125,0.670278;0.215278x0.209722...\n",
              "UNHBEH     [[AxesSubplot(0.125,0.670278;0.215278x0.209722...\n",
              "dtype: object"
            ]
          },
          "metadata": {},
          "execution_count": 6
        },
        {
          "output_type": "display_data",
          "data": {
            "text/plain": [
              "<Figure size 648x648 with 9 Axes>"
            ],
            "image/png": "[encoded data removed]"
          },
          "metadata": {
            "needs_background": "light"
          }
        },
        {
          "output_type": "display_data",
          "data": {
            "text/plain": [
              "<Figure size 648x648 with 9 Axes>"
            ],
            "image/png": "[encoded data removed]"
          },
          "metadata": {
            "needs_background": "light"
          }
        },
        {
          "output_type": "display_data",
          "data": {
            "text/plain": [
              "<Figure size 648x648 with 9 Axes>"
            ],
            "image/png": "[encoded data removed]"
          },
          "metadata": {
            "needs_background": "light"
          }
        }
      ]
    },
    {
      "cell_type": "code",
      "source": [
        "# Visualizing the dataframe to identify the missing values in our dataframe. \n",
        "\n",
        "msno.matrix(df1)"
      ],
      "metadata": {
        "colab": {
          "base_uri": "https://localhost:8080/",
          "height": 633
        },
        "id": "OgpwfyyaERDN",
        "outputId": "e743598e-2da8-4d63-dd7f-4798da22e1dc"
      },
      "execution_count": 7,
      "outputs": [
        {
          "output_type": "execute_result",
          "data": {
            "text/plain": [
              "<matplotlib.axes._subplots.AxesSubplot at 0x7fa3a94be050>"
            ]
          },
          "metadata": {},
          "execution_count": 7
        },
        {
          "output_type": "display_data",
          "data": {
            "text/plain": [
              "<Figure size 1800x720 with 2 Axes>"
            ],
            "image/png": "[encoded data removed]"
          },
          "metadata": {
            "needs_background": "light"
          }
        }
      ]
    },
    {
      "cell_type": "markdown",
      "source": [
        "#### Therefore, all the horizontal white lines in each column represent the missing values."
      ],
      "metadata": {
        "id": "07mTp-n6Eo1Q"
      }
    },
    {
      "cell_type": "markdown",
      "source": [
        "#### Checking for the Null values in the whole dataframe."
      ],
      "metadata": {
        "id": "kzq-v7yoEsrf"
      }
    },
    {
      "cell_type": "code",
      "source": [
        "df1.isnull().values.any()               # checking for null vaues"
      ],
      "metadata": {
        "colab": {
          "base_uri": "https://localhost:8080/"
        },
        "id": "smBoB5-TERAX",
        "outputId": "ac54bd43-19aa-4945-a30c-375dcb88cc9a"
      },
      "execution_count": 8,
      "outputs": [
        {
          "output_type": "execute_result",
          "data": {
            "text/plain": [
              "True"
            ]
          },
          "metadata": {},
          "execution_count": 8
        }
      ]
    },
    {
      "cell_type": "markdown",
      "source": [
        "#### Counting the number of null values in each column."
      ],
      "metadata": {
        "id": "njFpbGc3E0Na"
      }
    },
    {
      "cell_type": "code",
      "source": [
        "all_nulls = df1.isnull().sum()          # count of null values in each column\n",
        "all_nulls"
      ],
      "metadata": {
        "colab": {
          "base_uri": "https://localhost:8080/"
        },
        "id": "puF5bYacEQ9x",
        "outputId": "87496cce-303d-40d4-ea5b-eff26e746261"
      },
      "execution_count": 9,
      "outputs": [
        {
          "output_type": "execute_result",
          "data": {
            "text/plain": [
              "Year                               0\n",
              "StateAbbr                          0\n",
              "StateDesc                          0\n",
              "CityName                          56\n",
              "GeographicLevel                    0\n",
              "DataSource                         0\n",
              "Category                           0\n",
              "UniqueID                           0\n",
              "Measure                            0\n",
              "Data_Value_Unit                    0\n",
              "DataValueTypeID                    0\n",
              "Data_Value_Type                    0\n",
              "Data_Value                     22792\n",
              "Low_Confidence_Limit           22792\n",
              "High_Confidence_Limit          22792\n",
              "Data_Value_Footnote_Symbol    787309\n",
              "Data_Value_Footnote           787309\n",
              "PopulationCount                    0\n",
              "Geolocation                       56\n",
              "CategoryID                         0\n",
              "MeasureId                          0\n",
              "CityFIPS                          56\n",
              "TractFIPS                      28056\n",
              "Short_Question_Text                0\n",
              "dtype: int64"
            ]
          },
          "metadata": {},
          "execution_count": 9
        }
      ]
    },
    {
      "cell_type": "markdown",
      "source": [
        "### **Plotting the Null values in each feature/column.**"
      ],
      "metadata": {
        "id": "JGwACoScE6NB"
      }
    },
    {
      "cell_type": "code",
      "source": [
        "all_nulls.plot.barh(figsize=(10,8), width = 0.8, color = 'red', edgecolor='black')\n",
        "plt.title('Null values in each column')\n",
        "plt.xlabel(\"Number of Null Values\")\n",
        "plt.ylabel(\"Columns\")\n",
        "plt.show()"
      ],
      "metadata": {
        "colab": {
          "base_uri": "https://localhost:8080/",
          "height": 513
        },
        "id": "8aJt2V5BEQ65",
        "outputId": "dc7ec37e-c6b7-4390-974d-20469b249859"
      },
      "execution_count": 10,
      "outputs": [
        {
          "output_type": "display_data",
          "data": {
            "text/plain": [
              "<Figure size 720x576 with 1 Axes>"
            ],
            "image/png": "[encoded data removed]"
          },
          "metadata": {
            "needs_background": "light"
          }
        }
      ]
    },
    {
      "cell_type": "code",
      "source": [
        "df1.isnull().sum().sum()            # count of total null values in the dataframe"
      ],
      "metadata": {
        "colab": {
          "base_uri": "https://localhost:8080/"
        },
        "id": "srURnAkHE9Ty",
        "outputId": "de74940d-7ec1-4119-f208-19dd337d278a"
      },
      "execution_count": 11,
      "outputs": [
        {
          "output_type": "execute_result",
          "data": {
            "text/plain": [
              "1671218"
            ]
          },
          "metadata": {},
          "execution_count": 11
        }
      ]
    },
    {
      "cell_type": "markdown",
      "source": [
        "##### There are **1671218** null values in total."
      ],
      "metadata": {
        "id": "YDfw2XCGFBSI"
      }
    },
    {
      "cell_type": "markdown",
      "source": [
        "#### Counting the number of Null values in specific column."
      ],
      "metadata": {
        "id": "OwpRfxHoFJsX"
      }
    },
    {
      "cell_type": "code",
      "source": [
        "df1[\"CityFIPS\"].isnull().sum()         # count of null values in \"CityFIPS\" column (particular column)"
      ],
      "metadata": {
        "colab": {
          "base_uri": "https://localhost:8080/"
        },
        "id": "tWy1tRReE9Rv",
        "outputId": "debbaafa-7055-4dba-8f1b-46705ff40293"
      },
      "execution_count": 12,
      "outputs": [
        {
          "output_type": "execute_result",
          "data": {
            "text/plain": [
              "56"
            ]
          },
          "metadata": {},
          "execution_count": 12
        }
      ]
    },
    {
      "cell_type": "markdown",
      "source": [
        "#### Removing the unrequired columns from the raw dataframe."
      ],
      "metadata": {
        "id": "149SuBlaFPC4"
      }
    },
    {
      "cell_type": "code",
      "source": [
        "# Deleting the Datasource column as it is known that the source file is same for all the data and it has nothing to do majorly\n",
        "\n",
        "df1.drop(columns = [\"DataSource\", \"Data_Value_Unit\", \"DataValueTypeID\", \"Data_Value_Type\", \"Data_Value_Footnote_Symbol\", \"Data_Value_Footnote\", \"Geolocation\"],\n",
        "         inplace = True)\n",
        "\n",
        "df1.columns"
      ],
      "metadata": {
        "colab": {
          "base_uri": "https://localhost:8080/"
        },
        "id": "ajbWqaKmE9Pp",
        "outputId": "5faac4d0-8e01-4fbe-eb1d-cc6f0f396f20"
      },
      "execution_count": 13,
      "outputs": [
        {
          "output_type": "execute_result",
          "data": {
            "text/plain": [
              "Index(['Year', 'StateAbbr', 'StateDesc', 'CityName', 'GeographicLevel',\n",
              "       'Category', 'UniqueID', 'Measure', 'Data_Value', 'Low_Confidence_Limit',\n",
              "       'High_Confidence_Limit', 'PopulationCount', 'CategoryID', 'MeasureId',\n",
              "       'CityFIPS', 'TractFIPS', 'Short_Question_Text'],\n",
              "      dtype='object')"
            ]
          },
          "metadata": {},
          "execution_count": 13
        }
      ]
    },
    {
      "cell_type": "markdown",
      "source": [
        "#### Then checking for Null values in the required columns."
      ],
      "metadata": {
        "id": "691dcaXdFUp9"
      }
    },
    {
      "cell_type": "code",
      "source": [
        "# Visualizing the dataframe to identify the missing values in our dataframe. \n",
        "\n",
        "msno.matrix(df1)"
      ],
      "metadata": {
        "colab": {
          "base_uri": "https://localhost:8080/",
          "height": 603
        },
        "id": "hEP78FzrE9NT",
        "outputId": "e83e95df-44e4-4817-ae5c-2b7341947807"
      },
      "execution_count": 14,
      "outputs": [
        {
          "output_type": "execute_result",
          "data": {
            "text/plain": [
              "<matplotlib.axes._subplots.AxesSubplot at 0x7fa3a53941d0>"
            ]
          },
          "metadata": {},
          "execution_count": 14
        },
        {
          "output_type": "display_data",
          "data": {
            "text/plain": [
              "<Figure size 1800x720 with 2 Axes>"
            ],
            "image/png": "[encoded data removed]"
          },
          "metadata": {
            "needs_background": "light"
          }
        }
      ]
    },
    {
      "cell_type": "markdown",
      "source": [
        "#### We can see that there are missing values in Data_Value, Low-Confidence_Limit, High_Confidence_Limit."
      ],
      "metadata": {
        "id": "yxIQluknFbP9"
      }
    },
    {
      "cell_type": "markdown",
      "source": [
        "#### Verifying the data types."
      ],
      "metadata": {
        "id": "5H9QUoGDFed5"
      }
    },
    {
      "cell_type": "code",
      "source": [
        "df1.info()"
      ],
      "metadata": {
        "colab": {
          "base_uri": "https://localhost:8080/"
        },
        "id": "SEXmVx7UE9K3",
        "outputId": "ff72f58c-e79a-468e-b0e4-3bd571e38e4d"
      },
      "execution_count": 15,
      "outputs": [
        {
          "output_type": "stream",
          "name": "stdout",
          "text": [
            "<class 'pandas.core.frame.DataFrame'>\n",
            "RangeIndex: 810103 entries, 0 to 810102\n",
            "Data columns (total 17 columns):\n",
            " #   Column                 Non-Null Count   Dtype  \n",
            "---  ------                 --------------   -----  \n",
            " 0   Year                   810103 non-null  int64  \n",
            " 1   StateAbbr              810103 non-null  object \n",
            " 2   StateDesc              810103 non-null  object \n",
            " 3   CityName               810047 non-null  object \n",
            " 4   GeographicLevel        810103 non-null  object \n",
            " 5   Category               810103 non-null  object \n",
            " 6   UniqueID               810103 non-null  object \n",
            " 7   Measure                810103 non-null  object \n",
            " 8   Data_Value             787311 non-null  float64\n",
            " 9   Low_Confidence_Limit   787311 non-null  float64\n",
            " 10  High_Confidence_Limit  787311 non-null  float64\n",
            " 11  PopulationCount        810103 non-null  int64  \n",
            " 12  CategoryID             810103 non-null  object \n",
            " 13  MeasureId              810103 non-null  object \n",
            " 14  CityFIPS               810047 non-null  float64\n",
            " 15  TractFIPS              782047 non-null  float64\n",
            " 16  Short_Question_Text    810103 non-null  object \n",
            "dtypes: float64(5), int64(2), object(10)\n",
            "memory usage: 105.1+ MB\n"
          ]
        }
      ]
    },
    {
      "cell_type": "markdown",
      "source": [
        "#### Finding Unique states."
      ],
      "metadata": {
        "id": "bLh5juMuFjuD"
      }
    },
    {
      "cell_type": "code",
      "source": [
        "unique_states = df1.StateDesc.unique()\n",
        "unique_states  "
      ],
      "metadata": {
        "colab": {
          "base_uri": "https://localhost:8080/"
        },
        "id": "7EpazZGDEQ4b",
        "outputId": "5165115f-72e8-4c0a-ee80-67c0bc83439b"
      },
      "execution_count": 16,
      "outputs": [
        {
          "output_type": "execute_result",
          "data": {
            "text/plain": [
              "array(['Indiana', 'California', 'Connecticut', 'Florida', 'Texas',\n",
              "       'Illinois', 'Alabama', 'Washington', 'Arizona', 'Maine',\n",
              "       'Colorado', 'Ohio', 'Oklahoma', 'Montana', 'Virginia',\n",
              "       'New Hampshire', 'Minnesota', 'Hawaii', 'New York',\n",
              "       'Massachusetts', 'Wisconsin', 'Tennessee', 'Iowa', 'Utah',\n",
              "       'Nebraska', 'Kentucky', 'Alaska', 'Louisiana', 'Michigan',\n",
              "       'Nevada', 'Kansas', 'Oregon', 'Maryland', 'New Jersey', 'Missouri',\n",
              "       'North Carolin', 'Georgia', 'Pennsylvania', 'Arkansas',\n",
              "       'Rhode Island', 'Idaho', 'Wyoming', 'United States',\n",
              "       'South Carolin', 'West Virginia', 'Delaware', 'New Mexico',\n",
              "       'Vermont', 'North Dakota', 'South Dakota', 'Mississippi',\n",
              "       'District of C'], dtype=object)"
            ]
          },
          "metadata": {},
          "execution_count": 16
        }
      ]
    },
    {
      "cell_type": "code",
      "source": [
        "len(unique_states)"
      ],
      "metadata": {
        "colab": {
          "base_uri": "https://localhost:8080/"
        },
        "id": "Vdb9QGDVEQ1z",
        "outputId": "9802c3d4-2058-4ca8-f2f8-3dfdcd97d6cc"
      },
      "execution_count": 17,
      "outputs": [
        {
          "output_type": "execute_result",
          "data": {
            "text/plain": [
              "52"
            ]
          },
          "metadata": {},
          "execution_count": 17
        }
      ]
    },
    {
      "cell_type": "markdown",
      "source": [
        "#### So, 52 unique states are there for our analysis."
      ],
      "metadata": {
        "id": "VNKSgcUgFrMX"
      }
    },
    {
      "cell_type": "code",
      "source": [
        "df1[\"StateDesc\"].value_counts()"
      ],
      "metadata": {
        "colab": {
          "base_uri": "https://localhost:8080/"
        },
        "id": "QbNtILakEQzD",
        "outputId": "26d33b46-3202-4ccd-b713-ad04978b2d93"
      },
      "execution_count": 18,
      "outputs": [
        {
          "output_type": "execute_result",
          "data": {
            "text/plain": [
              "California       156778\n",
              "Texas             89422\n",
              "New York          70133\n",
              "Florida           39025\n",
              "Illinois          37458\n",
              "Arizona           29678\n",
              "Ohio              24111\n",
              "North Carolin     23305\n",
              "Michigan          21672\n",
              "Colorado          20549\n",
              "Pennsylvania      18392\n",
              "Washington        15448\n",
              "Tennessee         15299\n",
              "Indiana           15281\n",
              "Virginia          14630\n",
              "Massachusetts     14346\n",
              "Oklahoma          13532\n",
              "Georgia           13251\n",
              "Missouri          13028\n",
              "Wisconsin         11849\n",
              "Louisiana         10875\n",
              "Nevada            10639\n",
              "Alabama           10593\n",
              "Oregon            10402\n",
              "Minnesota          9123\n",
              "New Jersey         9013\n",
              "Kansas             8913\n",
              "Kentucky           7527\n",
              "Utah               7431\n",
              "Hawaii             6721\n",
              "Connecticut        6603\n",
              "New Mexico         6273\n",
              "Nebraska           6216\n",
              "Iowa               5889\n",
              "Maryland           5655\n",
              "South Carolin      5131\n",
              "District of C      5065\n",
              "Arkansas           3679\n",
              "Rhode Island       2993\n",
              "Mississippi        2229\n",
              "Idaho              2070\n",
              "South Dakota       1760\n",
              "Alaska             1596\n",
              "New Hampshire      1428\n",
              "Montana            1340\n",
              "North Dakota        756\n",
              "West Virginia       728\n",
              "Delaware            728\n",
              "Maine               616\n",
              "Wyoming             504\n",
              "Vermont             364\n",
              "United States        56\n",
              "Name: StateDesc, dtype: int64"
            ]
          },
          "metadata": {},
          "execution_count": 18
        }
      ]
    },
    {
      "cell_type": "code",
      "source": [
        "top10_states = df1[\"StateDesc\"].value_counts().head(10)\n",
        "top10_states"
      ],
      "metadata": {
        "colab": {
          "base_uri": "https://localhost:8080/"
        },
        "id": "AOnwsCZFEQnX",
        "outputId": "1e8bf6ef-e552-4ef9-a04b-9215f2b7f445"
      },
      "execution_count": 19,
      "outputs": [
        {
          "output_type": "execute_result",
          "data": {
            "text/plain": [
              "California       156778\n",
              "Texas             89422\n",
              "New York          70133\n",
              "Florida           39025\n",
              "Illinois          37458\n",
              "Arizona           29678\n",
              "Ohio              24111\n",
              "North Carolin     23305\n",
              "Michigan          21672\n",
              "Colorado          20549\n",
              "Name: StateDesc, dtype: int64"
            ]
          },
          "metadata": {},
          "execution_count": 19
        }
      ]
    },
    {
      "cell_type": "markdown",
      "source": [
        "### **Plotting top 10 states from the records.**"
      ],
      "metadata": {
        "id": "fXWfWUyKFzaW"
      }
    },
    {
      "cell_type": "code",
      "source": [
        "top10_states.plot(kind='bar',figsize=(8,5), width = 0.8, color = 'green', edgecolor='black')\n",
        "plt.title('Top 10 states')\n",
        "plt.xlabel(\"States\")\n",
        "plt.ylabel(\"Rate of occurance\")\n",
        "plt.show()"
      ],
      "metadata": {
        "colab": {
          "base_uri": "https://localhost:8080/",
          "height": 406
        },
        "id": "cXy6x_YjFz2K",
        "outputId": "81fa8f92-8ec4-457c-9caa-4d6c7ffa4391"
      },
      "execution_count": 20,
      "outputs": [
        {
          "output_type": "display_data",
          "data": {
            "text/plain": [
              "<Figure size 576x360 with 1 Axes>"
            ],
            "image/png": "[encoded data removed]"
          },
          "metadata": {
            "needs_background": "light"
          }
        }
      ]
    },
    {
      "cell_type": "markdown",
      "source": [
        "#### Each state is repeated above shown number of times in the overall dataset."
      ],
      "metadata": {
        "id": "QAv4ubK0F6pa"
      }
    },
    {
      "cell_type": "code",
      "source": [
        "unique_cities = df1.CityName.unique()\n",
        "unique_cities"
      ],
      "metadata": {
        "colab": {
          "base_uri": "https://localhost:8080/"
        },
        "id": "cqpX-7E9F09f",
        "outputId": "35eda4ea-8d3f-42be-aa97-a8d4a242a218"
      },
      "execution_count": 21,
      "outputs": [
        {
          "output_type": "execute_result",
          "data": {
            "text/plain": [
              "array(['Fishers', 'Milpitas', 'Stamford', 'Elk Grove', 'Palm Bay',\n",
              "       'Houston', 'Chicago', 'Pasadena', 'Birmingham', 'Tampa',\n",
              "       'Evansville', 'Fontana', 'Fort Worth', 'Seattle', 'Bridgeport',\n",
              "       'Mesa', 'Portland', 'League City', 'Tucson', 'Colorado Springs',\n",
              "       'Cleveland', 'Pleasanton', 'Los Angeles', 'Parma', 'Tulsa',\n",
              "       'Missoula', 'Lynchburg', 'Nashua', 'Brooklyn Park', 'Santa Rosa',\n",
              "       'Alhambra', 'Honolulu', 'New York', 'Quincy', 'Norwalk', 'Irving',\n",
              "       'Waukesha', 'Nashville', 'Mesquite', 'Davenport', 'Richmond',\n",
              "       'San Antonio', 'Lancaster', 'Berkeley', 'Fresno', 'Upland',\n",
              "       'Elgin', 'Tacoma', 'Orem', 'Toledo', 'Citrus Heights', 'Akron',\n",
              "       'Waterloo', 'Cicero', 'Pearland', 'Minneapolis', 'Omaha', 'Tyler',\n",
              "       'Lexington', 'Dallas', 'Compton', 'Lubbock', 'Bakersfield',\n",
              "       'San Bernardino', 'Anchorage', 'Corpus Christi', 'New Orleans',\n",
              "       'Livonia', 'Santa Ana', 'Suffolk', 'Las Vegas', 'Edmond',\n",
              "       'Wichita', 'Eugene', 'Westminster', 'Huntsville', 'Henderson',\n",
              "       'Pompano Beach', 'Medford', 'Dearborn', 'McKinney', 'Memphis',\n",
              "       'Frisco', 'Fort Lauderdale', 'Santa Monica', 'Waukegan',\n",
              "       'Shreveport', 'Hampton', 'Baltimore', 'Hemet', 'South Bend',\n",
              "       'Norman', 'Bend', 'Detroit', 'Orlando', 'Denver', 'Plano',\n",
              "       'Scottsdale', 'Union City', 'Paterson', 'Daly City', 'St. Louis',\n",
              "       'Joliet', 'Baytown', 'Camden', 'Miami', 'Boulder', 'Baton Rouge',\n",
              "       'Surprise', 'Reno', 'Thousand Oaks', 'Durham', 'Albany', 'Aurora',\n",
              "       'Brownsville', 'Lincoln', 'Cedar Rapids', 'Jacksonville',\n",
              "       'Indianapolis', 'Oakland', 'Folsom', 'Murrieta', 'Provo', 'Yuma',\n",
              "       'Sparks', 'San Angelo', 'Glendale', 'Clifton', 'Merced',\n",
              "       'Allentown', 'Carrollton', 'Lynwood', 'Youngstown',\n",
              "       'Spokane Valley', 'Athens', 'Norfolk', 'Phoenix', 'San Diego',\n",
              "       'Little Rock', 'Lawton', 'Topeka', 'Muncie', 'Winston-Salem',\n",
              "       'Salem', 'Providence', 'Columbus', 'Cincinnati', 'Clearwater',\n",
              "       'Mountain View', 'Springfield', 'Madison', 'Waco', 'Boston',\n",
              "       'Meridian', 'Syracuse', 'West Jordan', 'Visalia', 'Danbury',\n",
              "       'Austin', 'Lafayette', 'Peoria', 'Killeen', 'Greeley', 'Charlotte',\n",
              "       'New Bedford', 'Miami Beach', 'Downey', 'Rockford', 'Augusta',\n",
              "       'El Paso', 'Napa', 'Orange', 'Vacaville', 'Denton', 'Montgomery',\n",
              "       'Round Rock', 'Reading', 'Lawrence', 'Beaverton', 'Johns Creek',\n",
              "       'Tracy', 'Gilbert', 'Oceanside', 'Hoover', 'New Britain', 'Davie',\n",
              "       'Perris', 'Troy', 'Chino', 'Long Beach', 'Deltona', 'McAllen',\n",
              "       'Bloomington', 'Milwaukee', 'Edinburg', 'Louisville', 'Longview',\n",
              "       'Ogden', 'Hesperia', 'Amarillo', 'Antioch', 'Centennial',\n",
              "       'Trenton', 'Overland Park', 'Palmdale', 'Hayward', 'Cheyenne',\n",
              "       'Appleton', 'Fort Smith', 'Santa Barbara', 'Green Bay', 'Hialeah',\n",
              "       'Mission Viejo', 'Santa Clarita', nan, 'Erie', 'Redondo Beach',\n",
              "       'Buffalo', 'Grand Prairie', 'Clovis', 'Pueblo', 'Pittsburgh',\n",
              "       'Arvada', 'Odessa', 'Schaumburg', 'Wichita Falls', 'St. Paul',\n",
              "       'Costa Mesa', 'Asheville', 'Kenner', 'Tempe', 'Racine',\n",
              "       'Boise City', 'San Leandro', 'Dayton', 'Des Moines', 'Sunrise',\n",
              "       'Hollywood', 'Garland', 'Kenosha', 'Concord', 'Charleston',\n",
              "       'Hillsboro', 'Oxnard', 'Auburn', 'Tuscaloosa', 'Newark',\n",
              "       'Springdale', 'Canton', 'Largo', 'Roanoke', 'Roseville', 'Gary',\n",
              "       'Pomona', 'St. Joseph', 'Greenville', 'Southfield', 'Chattanooga',\n",
              "       'Midland', 'Corona', 'Avondale', 'Allen', 'San Marcos', 'Renton',\n",
              "       'Kansas City', 'Spokane', 'Naperville', 'Mobile', 'Layton',\n",
              "       'Atlanta', 'Miramar', 'Manteca', 'Ann Arbor', 'Vancouver',\n",
              "       'Palatine', 'Fort Wayne', 'West Valley City', 'Boca Raton',\n",
              "       'Vista', 'Kennewick', 'Palm Coast', 'Chesapeake', 'Brockton',\n",
              "       'Hammond', 'Burbank', 'Coral Springs', 'Virginia Beach',\n",
              "       'Torrance', 'Alexandria', 'Lansing', 'Bryan', 'South Gate',\n",
              "       'Plymouth', 'Macon', 'Rochester', 'Lewisville', 'Anaheim',\n",
              "       'Yonkers', 'Arlington', 'Redding', 'Pharr', 'Duluth', 'Redlands',\n",
              "       'Billings', 'Wilmington', 'Abilene', 'Carlsbad', 'Sandy',\n",
              "       'West Palm Beach', 'Iowa City', 'Flint', 'Richardson', 'Kent',\n",
              "       'Gresham', 'Nampa', 'Carson', 'Salt Lake City', 'Cambridge',\n",
              "       'San Jose', 'Longmont', 'Lynn', 'Beaumont', 'Cape Coral',\n",
              "       'Fayetteville', 'Farmington Hills', 'West Covina', 'Jersey City',\n",
              "       'Tustin', 'Laredo', 'Manchester', 'Independence', 'Newport News',\n",
              "       'Oklahoma City', 'San Francisco', 'Knoxville', 'New Haven',\n",
              "       'Albuquerque', 'Sacramento', 'North Las Vegas', 'Philadelphia',\n",
              "       'Burlington', 'Savannah', 'College Station', 'Decatur',\n",
              "       'New Rochelle', 'Fort Collins', 'Warren', 'Roswell', 'Jonesboro',\n",
              "       'Fargo', 'Sandy Springs', 'Simi Valley', 'Melbourne', 'Inglewood',\n",
              "       'Rapid City', 'Kalamazoo', 'Riverside', 'Lakewood', 'Bethlehem',\n",
              "       'Chandler', 'Stockton', 'Santa Fe', 'Yakima', 'Modesto',\n",
              "       'Fall River', 'Federal Way', 'San Mateo', 'Bolingbrook',\n",
              "       'Lake Forest', 'Bellflower', \"O'Fallon\",\n",
              "       'San Buenaventura (Ventura)', 'Gainesville', 'Grand Rapids',\n",
              "       'Miami Gardens', 'Livermore', 'Worcester', 'Garden Grove',\n",
              "       'Fairfield', 'Irvine', 'Buena Park', 'St. Petersburg',\n",
              "       'Schenectady', 'Tallahassee', 'Cranston', 'Elizabeth', 'Jackson',\n",
              "       'Hartford', 'Baldwin Park', 'Thornton', 'Santa Maria',\n",
              "       'Chula Vista', 'Hawthorne', 'St. George', 'Whittier', 'Menifee',\n",
              "       'Lake Charles', 'Gulfport', 'Sunnyvale', 'Rialto', 'Murfreesboro',\n",
              "       'Broken Arrow', 'Somerville', 'Warwick', 'Plantation', 'Indio',\n",
              "       'Huntington Beach', 'Mount Vernon', 'Sterling Heights', 'Everett',\n",
              "       'Vallejo', 'Alameda', 'Westland', 'Chino Hills', 'Bellingham',\n",
              "       'Fremont', 'Escondido', 'Las Cruces', 'Salinas', 'Wyoming',\n",
              "       'Lakeland', 'Santa Clara', 'Port St. Lucie', 'Moreno Valley',\n",
              "       'Apple Valley', 'Pembroke Pines', 'Clarksville', 'Fullerton',\n",
              "       'Warner Robins', 'Newton', 'Boynton Beach', 'Waterbury',\n",
              "       'Rochester Hills', 'Rancho Cucamonga', 'Sugar Land', 'Olathe',\n",
              "       'Temecula', 'Lowell', \"Lee's Summit\", 'Pawtucket', 'Sioux City',\n",
              "       'San Ramon', 'Loveland', 'El Monte', 'Portsmouth', 'Victorville',\n",
              "       'Scranton', 'Missouri City', 'Turlock', 'Arlington Heights',\n",
              "       'Redwood City', 'Passaic', 'Columbia', 'Champaign', 'Rio Rancho',\n",
              "       'Newport Beach', 'Ontario', 'Bellevue', 'Sioux Falls', 'El Cajon',\n",
              "       'Chico', 'Carmel', 'Evanston', 'Deerfield Beach', 'Lauderhill',\n",
              "       'Mission', 'High Point', 'Washington', 'Cary', 'Greensboro',\n",
              "       'Gastonia', 'North Charleston', 'Rock Hill', 'Raleigh',\n",
              "       'Mount Pleasant'], dtype=object)"
            ]
          },
          "metadata": {},
          "execution_count": 21
        }
      ]
    },
    {
      "cell_type": "code",
      "source": [
        "len(unique_cities)"
      ],
      "metadata": {
        "colab": {
          "base_uri": "https://localhost:8080/"
        },
        "id": "Op9LT8o0F07o",
        "outputId": "de2e204e-3fd9-42f6-aa95-f2451303d902"
      },
      "execution_count": 22,
      "outputs": [
        {
          "output_type": "execute_result",
          "data": {
            "text/plain": [
              "475"
            ]
          },
          "metadata": {},
          "execution_count": 22
        }
      ]
    },
    {
      "cell_type": "markdown",
      "source": [
        "#### In 52 unique states, there are 475 unique cities in our collection."
      ],
      "metadata": {
        "id": "G_He3eThGCMw"
      }
    },
    {
      "cell_type": "code",
      "source": [
        "df1[\"CityName\"].value_counts()"
      ],
      "metadata": {
        "colab": {
          "base_uri": "https://localhost:8080/"
        },
        "id": "SV3Fd0OFF05Q",
        "outputId": "fc9be893-9d87-463c-c577-c831b9834ced"
      },
      "execution_count": 23,
      "outputs": [
        {
          "output_type": "execute_result",
          "data": {
            "text/plain": [
              "New York        59911\n",
              "Los Angeles     28119\n",
              "Chicago         22369\n",
              "Houston         16787\n",
              "Philadelphia    10707\n",
              "                ...  \n",
              "Allen             364\n",
              "Perris            363\n",
              "Pharr             308\n",
              "Fishers           308\n",
              "Meridian          280\n",
              "Name: CityName, Length: 474, dtype: int64"
            ]
          },
          "metadata": {},
          "execution_count": 23
        }
      ]
    },
    {
      "cell_type": "code",
      "source": [
        "top10_cities = df1[\"CityName\"].value_counts().head(10)\n",
        "top10_cities"
      ],
      "metadata": {
        "colab": {
          "base_uri": "https://localhost:8080/"
        },
        "id": "yYWFh7M5F024",
        "outputId": "5b2b1967-ff52-41a4-e95b-b00497733559"
      },
      "execution_count": 24,
      "outputs": [
        {
          "output_type": "execute_result",
          "data": {
            "text/plain": [
              "New York        59911\n",
              "Los Angeles     28119\n",
              "Chicago         22369\n",
              "Houston         16787\n",
              "Philadelphia    10707\n",
              "Phoenix         10097\n",
              "San Antonio      9145\n",
              "Dallas           8959\n",
              "Detroit          8335\n",
              "San Diego        8315\n",
              "Name: CityName, dtype: int64"
            ]
          },
          "metadata": {},
          "execution_count": 24
        }
      ]
    },
    {
      "cell_type": "markdown",
      "source": [
        "### **Plotting top 10 cities.**"
      ],
      "metadata": {
        "id": "stbCHOqSGJEW"
      }
    },
    {
      "cell_type": "code",
      "source": [
        "top10_cities.plot(kind='bar',figsize=(8,5), width = 0.8, color = 'green', edgecolor='black')\n",
        "plt.title('Top 10 cities')\n",
        "plt.xlabel(\"Cities\")\n",
        "plt.ylabel(\"Rate of occurance\")\n",
        "plt.show()"
      ],
      "metadata": {
        "colab": {
          "base_uri": "https://localhost:8080/",
          "height": 401
        },
        "id": "mZbxx9PLF00c",
        "outputId": "1b94b3ef-78e6-4558-8623-8cbe9570d140"
      },
      "execution_count": 25,
      "outputs": [
        {
          "output_type": "display_data",
          "data": {
            "text/plain": [
              "<Figure size 576x360 with 1 Axes>"
            ],
            "image/png": "[encoded data removed]"
          },
          "metadata": {
            "needs_background": "light"
          }
        }
      ]
    },
    {
      "cell_type": "markdown",
      "source": [
        "#### Considering New York state and the corresponding Categories with City details."
      ],
      "metadata": {
        "id": "x2PIXLgAGQbc"
      }
    },
    {
      "cell_type": "code",
      "source": [
        "sta_cat = df1[[\"StateDesc\", \"Category\", \"CityFIPS\", \"CityName\"]]\n",
        "\n",
        "sta_cat.sample(5)"
      ],
      "metadata": {
        "colab": {
          "base_uri": "https://localhost:8080/",
          "height": 206
        },
        "id": "2aKXKk4EF0xy",
        "outputId": "fd79ce2f-285d-4494-8ad2-bda39a360da0"
      },
      "execution_count": 26,
      "outputs": [
        {
          "output_type": "execute_result",
          "data": {
            "text/plain": [
              "        StateDesc         Category   CityFIPS     CityName\n",
              "265998      Texas  Health Outcomes  4847892.0     Mesquite\n",
              "172404    Alabama       Prevention   177256.0   Tuscaloosa\n",
              "581620  Minnesota  Health Outcomes  2706616.0  Bloomington\n",
              "184563    Georgia       Prevention  1319000.0     Columbus\n",
              "49294     Florida  Health Outcomes  1225175.0  Gainesville"
            ],
            "text/html": [
              "\n",
              "  <div id=\"df-296a8612-e4c0-4ad3-a2ba-34e4fa1230d9\">\n",
              "    <div class=\"colab-df-container\">\n",
              "      <div>\n",
              "<style scoped>\n",
              "    .dataframe tbody tr th:only-of-type {\n",
              "        vertical-align: middle;\n",
              "    }\n",
              "\n",
              "    .dataframe tbody tr th {\n",
              "        vertical-align: top;\n",
              "    }\n",
              "\n",
              "    .dataframe thead th {\n",
              "        text-align: right;\n",
              "    }\n",
              "</style>\n",
              "<table border=\"1\" class=\"dataframe\">\n",
              "  <thead>\n",
              "    <tr style=\"text-align: right;\">\n",
              "      <th></th>\n",
              "      <th>StateDesc</th>\n",
              "      <th>Category</th>\n",
              "      <th>CityFIPS</th>\n",
              "      <th>CityName</th>\n",
              "    </tr>\n",
              "  </thead>\n",
              "  <tbody>\n",
              "    <tr>\n",
              "      <th>265998</th>\n",
              "      <td>Texas</td>\n",
              "      <td>Health Outcomes</td>\n",
              "      <td>4847892.0</td>\n",
              "      <td>Mesquite</td>\n",
              "    </tr>\n",
              "    <tr>\n",
              "      <th>172404</th>\n",
              "      <td>Alabama</td>\n",
              "      <td>Prevention</td>\n",
              "      <td>177256.0</td>\n",
              "      <td>Tuscaloosa</td>\n",
              "    </tr>\n",
              "    <tr>\n",
              "      <th>581620</th>\n",
              "      <td>Minnesota</td>\n",
              "      <td>Health Outcomes</td>\n",
              "      <td>2706616.0</td>\n",
              "      <td>Bloomington</td>\n",
              "    </tr>\n",
              "    <tr>\n",
              "      <th>184563</th>\n",
              "      <td>Georgia</td>\n",
              "      <td>Prevention</td>\n",
              "      <td>1319000.0</td>\n",
              "      <td>Columbus</td>\n",
              "    </tr>\n",
              "    <tr>\n",
              "      <th>49294</th>\n",
              "      <td>Florida</td>\n",
              "      <td>Health Outcomes</td>\n",
              "      <td>1225175.0</td>\n",
              "      <td>Gainesville</td>\n",
              "    </tr>\n",
              "  </tbody>\n",
              "</table>\n",
              "</div>\n",
              "      <button class=\"colab-df-convert\" onclick=\"convertToInteractive('df-296a8612-e4c0-4ad3-a2ba-34e4fa1230d9')\"\n",
              "              title=\"Convert this dataframe to an interactive table.\"\n",
              "              style=\"display:none;\">\n",
              "        \n",
              "  <svg xmlns=\"http://www.w3.org/2000/svg\" height=\"24px\"viewBox=\"0 0 24 24\"\n",
              "       width=\"24px\">\n",
              "    <path d=\"M0 0h24v24H0V0z\" fill=\"none\"/>\n",
              "    <path d=\"M18.56 5.44l.94 2.06.94-2.06 2.06-.94-2.06-.94-.94-2.06-.94 2.06-2.06.94zm-11 1L8.5 8.5l.94-2.06 2.06-.94-2.06-.94L8.5 2.5l-.94 2.06-2.06.94zm10 10l.94 2.06.94-2.06 2.06-.94-2.06-.94-.94-2.06-.94 2.06-2.06.94z\"/><path d=\"M17.41 7.96l-1.37-1.37c-.4-.4-.92-.59-1.43-.59-.52 0-1.04.2-1.43.59L10.3 9.45l-7.72 7.72c-.78.78-.78 2.05 0 2.83L4 21.41c.39.39.9.59 1.41.59.51 0 1.02-.2 1.41-.59l7.78-7.78 2.81-2.81c.8-.78.8-2.07 0-2.86zM5.41 20L4 18.59l7.72-7.72 1.47 1.35L5.41 20z\"/>\n",
              "  </svg>\n",
              "      </button>\n",
              "      \n",
              "  <style>\n",
              "    .colab-df-container {\n",
              "      display:flex;\n",
              "      flex-wrap:wrap;\n",
              "      gap: 12px;\n",
              "    }\n",
              "\n",
              "    .colab-df-convert {\n",
              "      background-color: #E8F0FE;\n",
              "      border: none;\n",
              "      border-radius: 50%;\n",
              "      cursor: pointer;\n",
              "      display: none;\n",
              "      fill: #1967D2;\n",
              "      height: 32px;\n",
              "      padding: 0 0 0 0;\n",
              "      width: 32px;\n",
              "    }\n",
              "\n",
              "    .colab-df-convert:hover {\n",
              "      background-color: #E2EBFA;\n",
              "      box-shadow: 0px 1px 2px rgba(60, 64, 67, 0.3), 0px 1px 3px 1px rgba(60, 64, 67, 0.15);\n",
              "      fill: #174EA6;\n",
              "    }\n",
              "\n",
              "    [theme=dark] .colab-df-convert {\n",
              "      background-color: #3B4455;\n",
              "      fill: #D2E3FC;\n",
              "    }\n",
              "\n",
              "    [theme=dark] .colab-df-convert:hover {\n",
              "      background-color: #434B5C;\n",
              "      box-shadow: 0px 1px 3px 1px rgba(0, 0, 0, 0.15);\n",
              "      filter: drop-shadow(0px 1px 2px rgba(0, 0, 0, 0.3));\n",
              "      fill: #FFFFFF;\n",
              "    }\n",
              "  </style>\n",
              "\n",
              "      <script>\n",
              "        const buttonEl =\n",
              "          document.querySelector('#df-296a8612-e4c0-4ad3-a2ba-34e4fa1230d9 button.colab-df-convert');\n",
              "        buttonEl.style.display =\n",
              "          google.colab.kernel.accessAllowed ? 'block' : 'none';\n",
              "\n",
              "        async function convertToInteractive(key) {\n",
              "          const element = document.querySelector('#df-296a8612-e4c0-4ad3-a2ba-34e4fa1230d9');\n",
              "          const dataTable =\n",
              "            await google.colab.kernel.invokeFunction('convertToInteractive',\n",
              "                                                     [key], {});\n",
              "          if (!dataTable) return;\n",
              "\n",
              "          const docLinkHtml = 'Like what you see? Visit the ' +\n",
              "            '<a target=\"_blank\" href=https://colab.research.google.com/notebooks/data_table.ipynb>data table notebook</a>'\n",
              "            + ' to learn more about interactive tables.';\n",
              "          element.innerHTML = '';\n",
              "          dataTable['output_type'] = 'display_data';\n",
              "          await google.colab.output.renderOutput(dataTable, element);\n",
              "          const docLink = document.createElement('div');\n",
              "          docLink.innerHTML = docLinkHtml;\n",
              "          element.appendChild(docLink);\n",
              "        }\n",
              "      </script>\n",
              "    </div>\n",
              "  </div>\n",
              "  "
            ]
          },
          "metadata": {},
          "execution_count": 26
        }
      ]
    },
    {
      "cell_type": "code",
      "source": [
        "NY_data = df1[df1[\"StateDesc\"] == \"New York\"]\n",
        "NY_data.sample(3)"
      ],
      "metadata": {
        "colab": {
          "base_uri": "https://localhost:8080/",
          "height": 381
        },
        "id": "TMFXFdfBF0vU",
        "outputId": "6ef21f4b-a6d4-4f65-89f7-e257a75955da"
      },
      "execution_count": 27,
      "outputs": [
        {
          "output_type": "execute_result",
          "data": {
            "text/plain": [
              "        Year StateAbbr StateDesc  CityName GeographicLevel         Category  \\\n",
              "619495  2016        NY  New York  New York    Census Tract       Prevention   \n",
              "291188  2016        NY  New York  New York    Census Tract  Health Outcomes   \n",
              "493050  2016        NY  New York  New York    Census Tract       Prevention   \n",
              "\n",
              "                   UniqueID  \\\n",
              "619495  3651000-36081035200   \n",
              "291188  3651000-36081024500   \n",
              "493050  3651000-36061006900   \n",
              "\n",
              "                                                  Measure  Data_Value  \\\n",
              "619495  Current lack of health insurance among adults ...        11.8   \n",
              "291188  Mental health not good for >=14 days among adu...        10.0   \n",
              "493050  Fecal occult blood test, sigmoidoscopy, or col...        73.8   \n",
              "\n",
              "        Low_Confidence_Limit  High_Confidence_Limit  PopulationCount  \\\n",
              "619495                  10.3                   13.6             2414   \n",
              "291188                   9.2                   10.9             4942   \n",
              "493050                  71.0                   75.7             2759   \n",
              "\n",
              "       CategoryID     MeasureId   CityFIPS     TractFIPS  \\\n",
              "619495    PREVENT       ACCESS2  3651000.0  3.608104e+10   \n",
              "291188    HLTHOUT         MHLTH  3651000.0  3.608102e+10   \n",
              "493050    PREVENT  COLON_SCREEN  3651000.0  3.606101e+10   \n",
              "\n",
              "                Short_Question_Text  \n",
              "619495             Health Insurance  \n",
              "291188                Mental Health  \n",
              "493050  Colorectal Cancer Screening  "
            ],
            "text/html": [
              "\n",
              "  <div id=\"df-3f3b6b08-8ac3-4842-822b-f8bf6c937cd0\">\n",
              "    <div class=\"colab-df-container\">\n",
              "      <div>\n",
              "<style scoped>\n",
              "    .dataframe tbody tr th:only-of-type {\n",
              "        vertical-align: middle;\n",
              "    }\n",
              "\n",
              "    .dataframe tbody tr th {\n",
              "        vertical-align: top;\n",
              "    }\n",
              "\n",
              "    .dataframe thead th {\n",
              "        text-align: right;\n",
              "    }\n",
              "</style>\n",
              "<table border=\"1\" class=\"dataframe\">\n",
              "  <thead>\n",
              "    <tr style=\"text-align: right;\">\n",
              "      <th></th>\n",
              "      <th>Year</th>\n",
              "      <th>StateAbbr</th>\n",
              "      <th>StateDesc</th>\n",
              "      <th>CityName</th>\n",
              "      <th>GeographicLevel</th>\n",
              "      <th>Category</th>\n",
              "      <th>UniqueID</th>\n",
              "      <th>Measure</th>\n",
              "      <th>Data_Value</th>\n",
              "      <th>Low_Confidence_Limit</th>\n",
              "      <th>High_Confidence_Limit</th>\n",
              "      <th>PopulationCount</th>\n",
              "      <th>CategoryID</th>\n",
              "      <th>MeasureId</th>\n",
              "      <th>CityFIPS</th>\n",
              "      <th>TractFIPS</th>\n",
              "      <th>Short_Question_Text</th>\n",
              "    </tr>\n",
              "  </thead>\n",
              "  <tbody>\n",
              "    <tr>\n",
              "      <th>619495</th>\n",
              "      <td>2016</td>\n",
              "      <td>NY</td>\n",
              "      <td>New York</td>\n",
              "      <td>New York</td>\n",
              "      <td>Census Tract</td>\n",
              "      <td>Prevention</td>\n",
              "      <td>3651000-36081035200</td>\n",
              "      <td>Current lack of health insurance among adults ...</td>\n",
              "      <td>11.8</td>\n",
              "      <td>10.3</td>\n",
              "      <td>13.6</td>\n",
              "      <td>2414</td>\n",
              "      <td>PREVENT</td>\n",
              "      <td>ACCESS2</td>\n",
              "      <td>3651000.0</td>\n",
              "      <td>3.608104e+10</td>\n",
              "      <td>Health Insurance</td>\n",
              "    </tr>\n",
              "    <tr>\n",
              "      <th>291188</th>\n",
              "      <td>2016</td>\n",
              "      <td>NY</td>\n",
              "      <td>New York</td>\n",
              "      <td>New York</td>\n",
              "      <td>Census Tract</td>\n",
              "      <td>Health Outcomes</td>\n",
              "      <td>3651000-36081024500</td>\n",
              "      <td>Mental health not good for &gt;=14 days among adu...</td>\n",
              "      <td>10.0</td>\n",
              "      <td>9.2</td>\n",
              "      <td>10.9</td>\n",
              "      <td>4942</td>\n",
              "      <td>HLTHOUT</td>\n",
              "      <td>MHLTH</td>\n",
              "      <td>3651000.0</td>\n",
              "      <td>3.608102e+10</td>\n",
              "      <td>Mental Health</td>\n",
              "    </tr>\n",
              "    <tr>\n",
              "      <th>493050</th>\n",
              "      <td>2016</td>\n",
              "      <td>NY</td>\n",
              "      <td>New York</td>\n",
              "      <td>New York</td>\n",
              "      <td>Census Tract</td>\n",
              "      <td>Prevention</td>\n",
              "      <td>3651000-36061006900</td>\n",
              "      <td>Fecal occult blood test, sigmoidoscopy, or col...</td>\n",
              "      <td>73.8</td>\n",
              "      <td>71.0</td>\n",
              "      <td>75.7</td>\n",
              "      <td>2759</td>\n",
              "      <td>PREVENT</td>\n",
              "      <td>COLON_SCREEN</td>\n",
              "      <td>3651000.0</td>\n",
              "      <td>3.606101e+10</td>\n",
              "      <td>Colorectal Cancer Screening</td>\n",
              "    </tr>\n",
              "  </tbody>\n",
              "</table>\n",
              "</div>\n",
              "      <button class=\"colab-df-convert\" onclick=\"convertToInteractive('df-3f3b6b08-8ac3-4842-822b-f8bf6c937cd0')\"\n",
              "              title=\"Convert this dataframe to an interactive table.\"\n",
              "              style=\"display:none;\">\n",
              "        \n",
              "  <svg xmlns=\"http://www.w3.org/2000/svg\" height=\"24px\"viewBox=\"0 0 24 24\"\n",
              "       width=\"24px\">\n",
              "    <path d=\"M0 0h24v24H0V0z\" fill=\"none\"/>\n",
              "    <path d=\"M18.56 5.44l.94 2.06.94-2.06 2.06-.94-2.06-.94-.94-2.06-.94 2.06-2.06.94zm-11 1L8.5 8.5l.94-2.06 2.06-.94-2.06-.94L8.5 2.5l-.94 2.06-2.06.94zm10 10l.94 2.06.94-2.06 2.06-.94-2.06-.94-.94-2.06-.94 2.06-2.06.94z\"/><path d=\"M17.41 7.96l-1.37-1.37c-.4-.4-.92-.59-1.43-.59-.52 0-1.04.2-1.43.59L10.3 9.45l-7.72 7.72c-.78.78-.78 2.05 0 2.83L4 21.41c.39.39.9.59 1.41.59.51 0 1.02-.2 1.41-.59l7.78-7.78 2.81-2.81c.8-.78.8-2.07 0-2.86zM5.41 20L4 18.59l7.72-7.72 1.47 1.35L5.41 20z\"/>\n",
              "  </svg>\n",
              "      </button>\n",
              "      \n",
              "  <style>\n",
              "    .colab-df-container {\n",
              "      display:flex;\n",
              "      flex-wrap:wrap;\n",
              "      gap: 12px;\n",
              "    }\n",
              "\n",
              "    .colab-df-convert {\n",
              "      background-color: #E8F0FE;\n",
              "      border: none;\n",
              "      border-radius: 50%;\n",
              "      cursor: pointer;\n",
              "      display: none;\n",
              "      fill: #1967D2;\n",
              "      height: 32px;\n",
              "      padding: 0 0 0 0;\n",
              "      width: 32px;\n",
              "    }\n",
              "\n",
              "    .colab-df-convert:hover {\n",
              "      background-color: #E2EBFA;\n",
              "      box-shadow: 0px 1px 2px rgba(60, 64, 67, 0.3), 0px 1px 3px 1px rgba(60, 64, 67, 0.15);\n",
              "      fill: #174EA6;\n",
              "    }\n",
              "\n",
              "    [theme=dark] .colab-df-convert {\n",
              "      background-color: #3B4455;\n",
              "      fill: #D2E3FC;\n",
              "    }\n",
              "\n",
              "    [theme=dark] .colab-df-convert:hover {\n",
              "      background-color: #434B5C;\n",
              "      box-shadow: 0px 1px 3px 1px rgba(0, 0, 0, 0.15);\n",
              "      filter: drop-shadow(0px 1px 2px rgba(0, 0, 0, 0.3));\n",
              "      fill: #FFFFFF;\n",
              "    }\n",
              "  </style>\n",
              "\n",
              "      <script>\n",
              "        const buttonEl =\n",
              "          document.querySelector('#df-3f3b6b08-8ac3-4842-822b-f8bf6c937cd0 button.colab-df-convert');\n",
              "        buttonEl.style.display =\n",
              "          google.colab.kernel.accessAllowed ? 'block' : 'none';\n",
              "\n",
              "        async function convertToInteractive(key) {\n",
              "          const element = document.querySelector('#df-3f3b6b08-8ac3-4842-822b-f8bf6c937cd0');\n",
              "          const dataTable =\n",
              "            await google.colab.kernel.invokeFunction('convertToInteractive',\n",
              "                                                     [key], {});\n",
              "          if (!dataTable) return;\n",
              "\n",
              "          const docLinkHtml = 'Like what you see? Visit the ' +\n",
              "            '<a target=\"_blank\" href=https://colab.research.google.com/notebooks/data_table.ipynb>data table notebook</a>'\n",
              "            + ' to learn more about interactive tables.';\n",
              "          element.innerHTML = '';\n",
              "          dataTable['output_type'] = 'display_data';\n",
              "          await google.colab.output.renderOutput(dataTable, element);\n",
              "          const docLink = document.createElement('div');\n",
              "          docLink.innerHTML = docLinkHtml;\n",
              "          element.appendChild(docLink);\n",
              "        }\n",
              "      </script>\n",
              "    </div>\n",
              "  </div>\n",
              "  "
            ]
          },
          "metadata": {},
          "execution_count": 27
        }
      ]
    },
    {
      "cell_type": "code",
      "source": [
        "NY_data.shape"
      ],
      "metadata": {
        "colab": {
          "base_uri": "https://localhost:8080/"
        },
        "id": "oDaz4_X5F0s0",
        "outputId": "c7fdb1aa-9b85-4825-cfed-e6945d36b6c1"
      },
      "execution_count": 28,
      "outputs": [
        {
          "output_type": "execute_result",
          "data": {
            "text/plain": [
              "(70133, 17)"
            ]
          },
          "metadata": {},
          "execution_count": 28
        }
      ]
    },
    {
      "cell_type": "markdown",
      "source": [
        "### Vizualization using SweetViz."
      ],
      "metadata": {
        "id": "N2gM6b2dGZUO"
      }
    },
    {
      "cell_type": "code",
      "source": [
        "pip install sweetviz   # Installing SweetViz"
      ],
      "metadata": {
        "colab": {
          "base_uri": "https://localhost:8080/"
        },
        "id": "LIJsWxR1F0p9",
        "outputId": "d0e92153-aa73-40d4-ec73-74d3a094ad65"
      },
      "execution_count": 29,
      "outputs": [
        {
          "output_type": "stream",
          "name": "stdout",
          "text": [
            "Looking in indexes: https://pypi.org/simple, https://us-python.pkg.dev/colab-wheels/public/simple/\n",
            "Collecting sweetviz\n",
            "  Downloading sweetviz-2.1.4-py3-none-any.whl (15.1 MB)\n",
            "\u001b[K     |████████████████████████████████| 15.1 MB 21.3 MB/s \n",
            "\u001b[?25hRequirement already satisfied: matplotlib>=3.1.3 in /usr/local/lib/python3.7/dist-packages (from sweetviz) (3.2.2)\n",
            "Requirement already satisfied: numpy>=1.16.0 in /usr/local/lib/python3.7/dist-packages (from sweetviz) (1.21.6)\n",
            "Requirement already satisfied: scipy>=1.3.2 in /usr/local/lib/python3.7/dist-packages (from sweetviz) (1.7.3)\n",
            "Requirement already satisfied: jinja2>=2.11.1 in /usr/local/lib/python3.7/dist-packages (from sweetviz) (2.11.3)\n",
            "Requirement already satisfied: tqdm>=4.43.0 in /usr/local/lib/python3.7/dist-packages (from sweetviz) (4.64.0)\n",
            "Requirement already satisfied: importlib-resources>=1.2.0 in /usr/local/lib/python3.7/dist-packages (from sweetviz) (5.9.0)\n",
            "Requirement already satisfied: pandas!=1.0.0,!=1.0.1,!=1.0.2,>=0.25.3 in /usr/local/lib/python3.7/dist-packages (from sweetviz) (1.3.5)\n",
            "Requirement already satisfied: zipp>=3.1.0 in /usr/local/lib/python3.7/dist-packages (from importlib-resources>=1.2.0->sweetviz) (3.8.1)\n",
            "Requirement already satisfied: MarkupSafe>=0.23 in /usr/local/lib/python3.7/dist-packages (from jinja2>=2.11.1->sweetviz) (2.0.1)\n",
            "Requirement already satisfied: pyparsing!=2.0.4,!=2.1.2,!=2.1.6,>=2.0.1 in /usr/local/lib/python3.7/dist-packages (from matplotlib>=3.1.3->sweetviz) (3.0.9)\n",
            "Requirement already satisfied: python-dateutil>=2.1 in /usr/local/lib/python3.7/dist-packages (from matplotlib>=3.1.3->sweetviz) (2.8.2)\n",
            "Requirement already satisfied: kiwisolver>=1.0.1 in /usr/local/lib/python3.7/dist-packages (from matplotlib>=3.1.3->sweetviz) (1.4.4)\n",
            "Requirement already satisfied: cycler>=0.10 in /usr/local/lib/python3.7/dist-packages (from matplotlib>=3.1.3->sweetviz) (0.11.0)\n",
            "Requirement already satisfied: typing-extensions in /usr/local/lib/python3.7/dist-packages (from kiwisolver>=1.0.1->matplotlib>=3.1.3->sweetviz) (4.1.1)\n",
            "Requirement already satisfied: pytz>=2017.3 in /usr/local/lib/python3.7/dist-packages (from pandas!=1.0.0,!=1.0.1,!=1.0.2,>=0.25.3->sweetviz) (2022.1)\n",
            "Requirement already satisfied: six>=1.5 in /usr/local/lib/python3.7/dist-packages (from python-dateutil>=2.1->matplotlib>=3.1.3->sweetviz) (1.15.0)\n",
            "Installing collected packages: sweetviz\n",
            "Successfully installed sweetviz-2.1.4\n"
          ]
        }
      ]
    },
    {
      "cell_type": "code",
      "source": [
        "import sweetviz as sv \n",
        "\n",
        "#analyzing the dataset\n",
        "NY_report = sv.analyze(NY_data)\n",
        "\n",
        "#display the report\n",
        "NY_report.show_html(filepath = 'NY_info.html', open_browser = True, layout = 'widescreen', scale = None) "
      ],
      "metadata": {
        "colab": {
          "base_uri": "https://localhost:8080/",
          "height": 66,
          "referenced_widgets": [
            "1391db3d4cc24305a34af4874c60ec8e",
            "b26e0fe037ed4f03b8d70a63cb296994",
            "5a23c88faa3a40abaf81501c3a79f995",
            "22431d9991a244a392e325d6914d1ffb",
            "c65c12b9ce874730bd8c2ed5f41a5153",
            "94141246fa1149089cd7f59370ad81b6",
            "298ef9aa36a648bb958399d0cae40fbf",
            "6aa0b4dc901e44d89399d6f2c3383600",
            "59e188c9f763409ebe11c4b3287df7c1",
            "c1592ff0eda745b19464130e8666e4ca",
            "aab7857b9a494959abe4607db66a0af5"
          ]
        },
        "id": "UNtCde3nF0nD",
        "outputId": "9f1824f1-cddd-409c-83f6-48fb3ba97f0a"
      },
      "execution_count": 30,
      "outputs": [
        {
          "output_type": "display_data",
          "data": {
            "text/plain": [
              "                                             |          | [  0%]   00:00 -> (? left)"
            ],
            "application/vnd.jupyter.widget-view+json": {
              "version_major": 2,
              "version_minor": 0,
              "model_id": "1391db3d4cc24305a34af4874c60ec8e"
            }
          },
          "metadata": {}
        },
        {
          "output_type": "stream",
          "name": "stdout",
          "text": [
            "Report NY_info.html was generated! NOTEBOOK/COLAB USERS: the web browser MAY not pop up, regardless, the report IS saved in your notebook/colab files.\n"
          ]
        }
      ]
    },
    {
      "cell_type": "code",
      "source": [
        "# Dividing the dataset into test and train datasets and Comparing them\n",
        "\n",
        "NY_compare = sv.compare(NY_data[100:], NY_data[:100])\n",
        "NY_compare.show_html(filepath = 'Compare.html', open_browser = True, layout = 'widescreen', scale = None) "
      ],
      "metadata": {
        "colab": {
          "base_uri": "https://localhost:8080/",
          "height": 66,
          "referenced_widgets": [
            "2814715087534e6a91ab302d5fef2195",
            "82e75a81ca99446daa10955b3d0d084e",
            "a80d287cb33c4ac8b4e1e9269a3b2711",
            "b248265c3c13407a86bdfe1324232686",
            "8e0834b089f042b7b93d86c2f1a8af34",
            "f6ecf7392d614a0ca53613eb42221d65",
            "d996f74e98c14f3b9f69dfdee5e93be1",
            "e6c89e70f5be4104aa48791cec73c3ae",
            "7120024dc41a416c8588588b475c3948",
            "714b2a6938804668a5672c57fa09d2f0",
            "0f2289e3eb5a495ca3d9c57ffbcc9c70"
          ]
        },
        "id": "lRpUUq-WGijW",
        "outputId": "a6d4a201-33f9-4007-9a7c-9a4cfa78e96d"
      },
      "execution_count": 31,
      "outputs": [
        {
          "output_type": "display_data",
          "data": {
            "text/plain": [
              "                                             |          | [  0%]   00:00 -> (? left)"
            ],
            "application/vnd.jupyter.widget-view+json": {
              "version_major": 2,
              "version_minor": 0,
              "model_id": "2814715087534e6a91ab302d5fef2195"
            }
          },
          "metadata": {}
        },
        {
          "output_type": "stream",
          "name": "stdout",
          "text": [
            "Report Compare.html was generated! NOTEBOOK/COLAB USERS: the web browser MAY not pop up, regardless, the report IS saved in your notebook/colab files.\n"
          ]
        }
      ]
    },
    {
      "cell_type": "markdown",
      "source": [
        "#### **Extracting the data for Unhealthy Behaviours from New York state**"
      ],
      "metadata": {
        "id": "P2tU2o60Gmxm"
      }
    },
    {
      "cell_type": "code",
      "source": [
        "NY_data_unhealth = NY_data[NY_data[\"Category\"] == \"Unhealthy Behaviors\"]\n",
        "NY_data_unhealth.sample(3) "
      ],
      "metadata": {
        "colab": {
          "base_uri": "https://localhost:8080/",
          "height": 537
        },
        "id": "xFUDfucJGift",
        "outputId": "4c649ae7-7fc7-4969-ba7d-87285560d927"
      },
      "execution_count": 32,
      "outputs": [
        {
          "output_type": "execute_result",
          "data": {
            "text/plain": [
              "        Year StateAbbr StateDesc  CityName GeographicLevel  \\\n",
              "502097  2016        NY  New York  New York    Census Tract   \n",
              "427555  2016        NY  New York  New York    Census Tract   \n",
              "681311  2016        NY  New York  New York    Census Tract   \n",
              "\n",
              "                   Category             UniqueID  \\\n",
              "502097  Unhealthy Behaviors  3651000-36047058200   \n",
              "427555  Unhealthy Behaviors  3651000-36081124700   \n",
              "681311  Unhealthy Behaviors  3651000-36005019400   \n",
              "\n",
              "                                                  Measure  Data_Value  \\\n",
              "502097  Sleeping less than 7 hours among adults aged >...        41.4   \n",
              "427555        Binge drinking among adults aged >=18 Years        15.9   \n",
              "681311        Binge drinking among adults aged >=18 Years        18.9   \n",
              "\n",
              "        Low_Confidence_Limit  High_Confidence_Limit  PopulationCount  \\\n",
              "502097                  40.3                   42.4             2967   \n",
              "427555                  15.6                   16.3             3550   \n",
              "681311                  18.4                   19.4             1903   \n",
              "\n",
              "       CategoryID MeasureId   CityFIPS     TractFIPS Short_Question_Text  \n",
              "502097     UNHBEH     SLEEP  3651000.0  3.604706e+10      Sleep <7 hours  \n",
              "427555     UNHBEH     BINGE  3651000.0  3.608112e+10      Binge Drinking  \n",
              "681311     UNHBEH     BINGE  3651000.0  3.600502e+10      Binge Drinking  "
            ],
            "text/html": [
              "\n",
              "  <div id=\"df-e945aa85-2c59-4e46-a632-22b8a42b52df\">\n",
              "    <div class=\"colab-df-container\">\n",
              "      <div>\n",
              "<style scoped>\n",
              "    .dataframe tbody tr th:only-of-type {\n",
              "        vertical-align: middle;\n",
              "    }\n",
              "\n",
              "    .dataframe tbody tr th {\n",
              "        vertical-align: top;\n",
              "    }\n",
              "\n",
              "    .dataframe thead th {\n",
              "        text-align: right;\n",
              "    }\n",
              "</style>\n",
              "<table border=\"1\" class=\"dataframe\">\n",
              "  <thead>\n",
              "    <tr style=\"text-align: right;\">\n",
              "      <th></th>\n",
              "      <th>Year</th>\n",
              "      <th>StateAbbr</th>\n",
              "      <th>StateDesc</th>\n",
              "      <th>CityName</th>\n",
              "      <th>GeographicLevel</th>\n",
              "      <th>Category</th>\n",
              "      <th>UniqueID</th>\n",
              "      <th>Measure</th>\n",
              "      <th>Data_Value</th>\n",
              "      <th>Low_Confidence_Limit</th>\n",
              "      <th>High_Confidence_Limit</th>\n",
              "      <th>PopulationCount</th>\n",
              "      <th>CategoryID</th>\n",
              "      <th>MeasureId</th>\n",
              "      <th>CityFIPS</th>\n",
              "      <th>TractFIPS</th>\n",
              "      <th>Short_Question_Text</th>\n",
              "    </tr>\n",
              "  </thead>\n",
              "  <tbody>\n",
              "    <tr>\n",
              "      <th>502097</th>\n",
              "      <td>2016</td>\n",
              "      <td>NY</td>\n",
              "      <td>New York</td>\n",
              "      <td>New York</td>\n",
              "      <td>Census Tract</td>\n",
              "      <td>Unhealthy Behaviors</td>\n",
              "      <td>3651000-36047058200</td>\n",
              "      <td>Sleeping less than 7 hours among adults aged &gt;...</td>\n",
              "      <td>41.4</td>\n",
              "      <td>40.3</td>\n",
              "      <td>42.4</td>\n",
              "      <td>2967</td>\n",
              "      <td>UNHBEH</td>\n",
              "      <td>SLEEP</td>\n",
              "      <td>3651000.0</td>\n",
              "      <td>3.604706e+10</td>\n",
              "      <td>Sleep &lt;7 hours</td>\n",
              "    </tr>\n",
              "    <tr>\n",
              "      <th>427555</th>\n",
              "      <td>2016</td>\n",
              "      <td>NY</td>\n",
              "      <td>New York</td>\n",
              "      <td>New York</td>\n",
              "      <td>Census Tract</td>\n",
              "      <td>Unhealthy Behaviors</td>\n",
              "      <td>3651000-36081124700</td>\n",
              "      <td>Binge drinking among adults aged &gt;=18 Years</td>\n",
              "      <td>15.9</td>\n",
              "      <td>15.6</td>\n",
              "      <td>16.3</td>\n",
              "      <td>3550</td>\n",
              "      <td>UNHBEH</td>\n",
              "      <td>BINGE</td>\n",
              "      <td>3651000.0</td>\n",
              "      <td>3.608112e+10</td>\n",
              "      <td>Binge Drinking</td>\n",
              "    </tr>\n",
              "    <tr>\n",
              "      <th>681311</th>\n",
              "      <td>2016</td>\n",
              "      <td>NY</td>\n",
              "      <td>New York</td>\n",
              "      <td>New York</td>\n",
              "      <td>Census Tract</td>\n",
              "      <td>Unhealthy Behaviors</td>\n",
              "      <td>3651000-36005019400</td>\n",
              "      <td>Binge drinking among adults aged &gt;=18 Years</td>\n",
              "      <td>18.9</td>\n",
              "      <td>18.4</td>\n",
              "      <td>19.4</td>\n",
              "      <td>1903</td>\n",
              "      <td>UNHBEH</td>\n",
              "      <td>BINGE</td>\n",
              "      <td>3651000.0</td>\n",
              "      <td>3.600502e+10</td>\n",
              "      <td>Binge Drinking</td>\n",
              "    </tr>\n",
              "  </tbody>\n",
              "</table>\n",
              "</div>\n",
              "      <button class=\"colab-df-convert\" onclick=\"convertToInteractive('df-e945aa85-2c59-4e46-a632-22b8a42b52df')\"\n",
              "              title=\"Convert this dataframe to an interactive table.\"\n",
              "              style=\"display:none;\">\n",
              "        \n",
              "  <svg xmlns=\"http://www.w3.org/2000/svg\" height=\"24px\"viewBox=\"0 0 24 24\"\n",
              "       width=\"24px\">\n",
              "    <path d=\"M0 0h24v24H0V0z\" fill=\"none\"/>\n",
              "    <path d=\"M18.56 5.44l.94 2.06.94-2.06 2.06-.94-2.06-.94-.94-2.06-.94 2.06-2.06.94zm-11 1L8.5 8.5l.94-2.06 2.06-.94-2.06-.94L8.5 2.5l-.94 2.06-2.06.94zm10 10l.94 2.06.94-2.06 2.06-.94-2.06-.94-.94-2.06-.94 2.06-2.06.94z\"/><path d=\"M17.41 7.96l-1.37-1.37c-.4-.4-.92-.59-1.43-.59-.52 0-1.04.2-1.43.59L10.3 9.45l-7.72 7.72c-.78.78-.78 2.05 0 2.83L4 21.41c.39.39.9.59 1.41.59.51 0 1.02-.2 1.41-.59l7.78-7.78 2.81-2.81c.8-.78.8-2.07 0-2.86zM5.41 20L4 18.59l7.72-7.72 1.47 1.35L5.41 20z\"/>\n",
              "  </svg>\n",
              "      </button>\n",
              "      \n",
              "  <style>\n",
              "    .colab-df-container {\n",
              "      display:flex;\n",
              "      flex-wrap:wrap;\n",
              "      gap: 12px;\n",
              "    }\n",
              "\n",
              "    .colab-df-convert {\n",
              "      background-color: #E8F0FE;\n",
              "      border: none;\n",
              "      border-radius: 50%;\n",
              "      cursor: pointer;\n",
              "      display: none;\n",
              "      fill: #1967D2;\n",
              "      height: 32px;\n",
              "      padding: 0 0 0 0;\n",
              "      width: 32px;\n",
              "    }\n",
              "\n",
              "    .colab-df-convert:hover {\n",
              "      background-color: #E2EBFA;\n",
              "      box-shadow: 0px 1px 2px rgba(60, 64, 67, 0.3), 0px 1px 3px 1px rgba(60, 64, 67, 0.15);\n",
              "      fill: #174EA6;\n",
              "    }\n",
              "\n",
              "    [theme=dark] .colab-df-convert {\n",
              "      background-color: #3B4455;\n",
              "      fill: #D2E3FC;\n",
              "    }\n",
              "\n",
              "    [theme=dark] .colab-df-convert:hover {\n",
              "      background-color: #434B5C;\n",
              "      box-shadow: 0px 1px 3px 1px rgba(0, 0, 0, 0.15);\n",
              "      filter: drop-shadow(0px 1px 2px rgba(0, 0, 0, 0.3));\n",
              "      fill: #FFFFFF;\n",
              "    }\n",
              "  </style>\n",
              "\n",
              "      <script>\n",
              "        const buttonEl =\n",
              "          document.querySelector('#df-e945aa85-2c59-4e46-a632-22b8a42b52df button.colab-df-convert');\n",
              "        buttonEl.style.display =\n",
              "          google.colab.kernel.accessAllowed ? 'block' : 'none';\n",
              "\n",
              "        async function convertToInteractive(key) {\n",
              "          const element = document.querySelector('#df-e945aa85-2c59-4e46-a632-22b8a42b52df');\n",
              "          const dataTable =\n",
              "            await google.colab.kernel.invokeFunction('convertToInteractive',\n",
              "                                                     [key], {});\n",
              "          if (!dataTable) return;\n",
              "\n",
              "          const docLinkHtml = 'Like what you see? Visit the ' +\n",
              "            '<a target=\"_blank\" href=https://colab.research.google.com/notebooks/data_table.ipynb>data table notebook</a>'\n",
              "            + ' to learn more about interactive tables.';\n",
              "          element.innerHTML = '';\n",
              "          dataTable['output_type'] = 'display_data';\n",
              "          await google.colab.output.renderOutput(dataTable, element);\n",
              "          const docLink = document.createElement('div');\n",
              "          docLink.innerHTML = docLinkHtml;\n",
              "          element.appendChild(docLink);\n",
              "        }\n",
              "      </script>\n",
              "    </div>\n",
              "  </div>\n",
              "  "
            ]
          },
          "metadata": {},
          "execution_count": 32
        }
      ]
    },
    {
      "cell_type": "code",
      "source": [
        "NY_data_unhealth.shape"
      ],
      "metadata": {
        "colab": {
          "base_uri": "https://localhost:8080/"
        },
        "id": "DaD7K7mTGibl",
        "outputId": "f226616e-051f-4aea-c8a5-7695d8db08dd"
      },
      "execution_count": 33,
      "outputs": [
        {
          "output_type": "execute_result",
          "data": {
            "text/plain": [
              "(12540, 17)"
            ]
          },
          "metadata": {},
          "execution_count": 33
        }
      ]
    },
    {
      "cell_type": "code",
      "source": [
        "NY1 = NY_data_unhealth[[\"StateDesc\", \"Category\", \"CityFIPS\", \"CityName\"]]\n",
        "NY1.sample(5)"
      ],
      "metadata": {
        "colab": {
          "base_uri": "https://localhost:8080/",
          "height": 206
        },
        "id": "zRMfpyJ0GiZU",
        "outputId": "3501a249-5e53-4b7e-818b-99586743cecc"
      },
      "execution_count": 34,
      "outputs": [
        {
          "output_type": "execute_result",
          "data": {
            "text/plain": [
              "       StateDesc             Category   CityFIPS  CityName\n",
              "620434  New York  Unhealthy Behaviors  3651000.0  New York\n",
              "301637  New York  Unhealthy Behaviors  3651000.0  New York\n",
              "757113  New York  Unhealthy Behaviors  3651000.0  New York\n",
              "776062  New York  Unhealthy Behaviors  3673000.0  Syracuse\n",
              "542292  New York  Unhealthy Behaviors  3651000.0  New York"
            ],
            "text/html": [
              "\n",
              "  <div id=\"df-bcdbb83e-3cb4-457d-948c-7ff6a4a396fb\">\n",
              "    <div class=\"colab-df-container\">\n",
              "      <div>\n",
              "<style scoped>\n",
              "    .dataframe tbody tr th:only-of-type {\n",
              "        vertical-align: middle;\n",
              "    }\n",
              "\n",
              "    .dataframe tbody tr th {\n",
              "        vertical-align: top;\n",
              "    }\n",
              "\n",
              "    .dataframe thead th {\n",
              "        text-align: right;\n",
              "    }\n",
              "</style>\n",
              "<table border=\"1\" class=\"dataframe\">\n",
              "  <thead>\n",
              "    <tr style=\"text-align: right;\">\n",
              "      <th></th>\n",
              "      <th>StateDesc</th>\n",
              "      <th>Category</th>\n",
              "      <th>CityFIPS</th>\n",
              "      <th>CityName</th>\n",
              "    </tr>\n",
              "  </thead>\n",
              "  <tbody>\n",
              "    <tr>\n",
              "      <th>620434</th>\n",
              "      <td>New York</td>\n",
              "      <td>Unhealthy Behaviors</td>\n",
              "      <td>3651000.0</td>\n",
              "      <td>New York</td>\n",
              "    </tr>\n",
              "    <tr>\n",
              "      <th>301637</th>\n",
              "      <td>New York</td>\n",
              "      <td>Unhealthy Behaviors</td>\n",
              "      <td>3651000.0</td>\n",
              "      <td>New York</td>\n",
              "    </tr>\n",
              "    <tr>\n",
              "      <th>757113</th>\n",
              "      <td>New York</td>\n",
              "      <td>Unhealthy Behaviors</td>\n",
              "      <td>3651000.0</td>\n",
              "      <td>New York</td>\n",
              "    </tr>\n",
              "    <tr>\n",
              "      <th>776062</th>\n",
              "      <td>New York</td>\n",
              "      <td>Unhealthy Behaviors</td>\n",
              "      <td>3673000.0</td>\n",
              "      <td>Syracuse</td>\n",
              "    </tr>\n",
              "    <tr>\n",
              "      <th>542292</th>\n",
              "      <td>New York</td>\n",
              "      <td>Unhealthy Behaviors</td>\n",
              "      <td>3651000.0</td>\n",
              "      <td>New York</td>\n",
              "    </tr>\n",
              "  </tbody>\n",
              "</table>\n",
              "</div>\n",
              "      <button class=\"colab-df-convert\" onclick=\"convertToInteractive('df-bcdbb83e-3cb4-457d-948c-7ff6a4a396fb')\"\n",
              "              title=\"Convert this dataframe to an interactive table.\"\n",
              "              style=\"display:none;\">\n",
              "        \n",
              "  <svg xmlns=\"http://www.w3.org/2000/svg\" height=\"24px\"viewBox=\"0 0 24 24\"\n",
              "       width=\"24px\">\n",
              "    <path d=\"M0 0h24v24H0V0z\" fill=\"none\"/>\n",
              "    <path d=\"M18.56 5.44l.94 2.06.94-2.06 2.06-.94-2.06-.94-.94-2.06-.94 2.06-2.06.94zm-11 1L8.5 8.5l.94-2.06 2.06-.94-2.06-.94L8.5 2.5l-.94 2.06-2.06.94zm10 10l.94 2.06.94-2.06 2.06-.94-2.06-.94-.94-2.06-.94 2.06-2.06.94z\"/><path d=\"M17.41 7.96l-1.37-1.37c-.4-.4-.92-.59-1.43-.59-.52 0-1.04.2-1.43.59L10.3 9.45l-7.72 7.72c-.78.78-.78 2.05 0 2.83L4 21.41c.39.39.9.59 1.41.59.51 0 1.02-.2 1.41-.59l7.78-7.78 2.81-2.81c.8-.78.8-2.07 0-2.86zM5.41 20L4 18.59l7.72-7.72 1.47 1.35L5.41 20z\"/>\n",
              "  </svg>\n",
              "      </button>\n",
              "      \n",
              "  <style>\n",
              "    .colab-df-container {\n",
              "      display:flex;\n",
              "      flex-wrap:wrap;\n",
              "      gap: 12px;\n",
              "    }\n",
              "\n",
              "    .colab-df-convert {\n",
              "      background-color: #E8F0FE;\n",
              "      border: none;\n",
              "      border-radius: 50%;\n",
              "      cursor: pointer;\n",
              "      display: none;\n",
              "      fill: #1967D2;\n",
              "      height: 32px;\n",
              "      padding: 0 0 0 0;\n",
              "      width: 32px;\n",
              "    }\n",
              "\n",
              "    .colab-df-convert:hover {\n",
              "      background-color: #E2EBFA;\n",
              "      box-shadow: 0px 1px 2px rgba(60, 64, 67, 0.3), 0px 1px 3px 1px rgba(60, 64, 67, 0.15);\n",
              "      fill: #174EA6;\n",
              "    }\n",
              "\n",
              "    [theme=dark] .colab-df-convert {\n",
              "      background-color: #3B4455;\n",
              "      fill: #D2E3FC;\n",
              "    }\n",
              "\n",
              "    [theme=dark] .colab-df-convert:hover {\n",
              "      background-color: #434B5C;\n",
              "      box-shadow: 0px 1px 3px 1px rgba(0, 0, 0, 0.15);\n",
              "      filter: drop-shadow(0px 1px 2px rgba(0, 0, 0, 0.3));\n",
              "      fill: #FFFFFF;\n",
              "    }\n",
              "  </style>\n",
              "\n",
              "      <script>\n",
              "        const buttonEl =\n",
              "          document.querySelector('#df-bcdbb83e-3cb4-457d-948c-7ff6a4a396fb button.colab-df-convert');\n",
              "        buttonEl.style.display =\n",
              "          google.colab.kernel.accessAllowed ? 'block' : 'none';\n",
              "\n",
              "        async function convertToInteractive(key) {\n",
              "          const element = document.querySelector('#df-bcdbb83e-3cb4-457d-948c-7ff6a4a396fb');\n",
              "          const dataTable =\n",
              "            await google.colab.kernel.invokeFunction('convertToInteractive',\n",
              "                                                     [key], {});\n",
              "          if (!dataTable) return;\n",
              "\n",
              "          const docLinkHtml = 'Like what you see? Visit the ' +\n",
              "            '<a target=\"_blank\" href=https://colab.research.google.com/notebooks/data_table.ipynb>data table notebook</a>'\n",
              "            + ' to learn more about interactive tables.';\n",
              "          element.innerHTML = '';\n",
              "          dataTable['output_type'] = 'display_data';\n",
              "          await google.colab.output.renderOutput(dataTable, element);\n",
              "          const docLink = document.createElement('div');\n",
              "          docLink.innerHTML = docLinkHtml;\n",
              "          element.appendChild(docLink);\n",
              "        }\n",
              "      </script>\n",
              "    </div>\n",
              "  </div>\n",
              "  "
            ]
          },
          "metadata": {},
          "execution_count": 34
        }
      ]
    },
    {
      "cell_type": "markdown",
      "source": [
        "#### **Extracting the data for Prevention from New York state**"
      ],
      "metadata": {
        "id": "58f7oO2bGwq1"
      }
    },
    {
      "cell_type": "code",
      "source": [
        "NY_data_prev = NY_data[NY_data[\"Category\"] == \"Prevention\"]\n",
        "NY_data_prev.sample(3) "
      ],
      "metadata": {
        "colab": {
          "base_uri": "https://localhost:8080/",
          "height": 381
        },
        "id": "w2rcxW5hGiWr",
        "outputId": "fc24a2f8-3914-4ece-efa6-174a0c726f53"
      },
      "execution_count": 35,
      "outputs": [
        {
          "output_type": "execute_result",
          "data": {
            "text/plain": [
              "        Year StateAbbr StateDesc  CityName GeographicLevel    Category  \\\n",
              "45825   2015        NY  New York  New York    Census Tract  Prevention   \n",
              "660286  2016        NY  New York  New York    Census Tract  Prevention   \n",
              "762664  2016        NY  New York  New York    Census Tract  Prevention   \n",
              "\n",
              "                   UniqueID  \\\n",
              "45825   3651000-36047024900   \n",
              "660286  3651000-36005031400   \n",
              "762664  3651000-36081122702   \n",
              "\n",
              "                                                  Measure  Data_Value  \\\n",
              "45825   Taking medicine for high blood pressure contro...        74.1   \n",
              "660286  Older adult women aged >=65 Years who are up t...        35.9   \n",
              "762664       Mammography use among women aged 50–74 Years        79.5   \n",
              "\n",
              "        Low_Confidence_Limit  High_Confidence_Limit  PopulationCount  \\\n",
              "45825                   73.0                   75.3             3823   \n",
              "660286                  31.4                   40.3             1966   \n",
              "762664                  78.1                   80.9             6427   \n",
              "\n",
              "       CategoryID MeasureId   CityFIPS     TractFIPS  \\\n",
              "45825     PREVENT     BPMED  3651000.0  3.604702e+10   \n",
              "660286    PREVENT     COREW  3651000.0  3.600503e+10   \n",
              "762664    PREVENT  MAMMOUSE  3651000.0  3.608112e+10   \n",
              "\n",
              "                             Short_Question_Text  \n",
              "45825                       Taking BP Medication  \n",
              "660286  Core preventive services for older women  \n",
              "762664                               Mammography  "
            ],
            "text/html": [
              "\n",
              "  <div id=\"df-571b6229-ebde-4e23-88c7-3db45122b78c\">\n",
              "    <div class=\"colab-df-container\">\n",
              "      <div>\n",
              "<style scoped>\n",
              "    .dataframe tbody tr th:only-of-type {\n",
              "        vertical-align: middle;\n",
              "    }\n",
              "\n",
              "    .dataframe tbody tr th {\n",
              "        vertical-align: top;\n",
              "    }\n",
              "\n",
              "    .dataframe thead th {\n",
              "        text-align: right;\n",
              "    }\n",
              "</style>\n",
              "<table border=\"1\" class=\"dataframe\">\n",
              "  <thead>\n",
              "    <tr style=\"text-align: right;\">\n",
              "      <th></th>\n",
              "      <th>Year</th>\n",
              "      <th>StateAbbr</th>\n",
              "      <th>StateDesc</th>\n",
              "      <th>CityName</th>\n",
              "      <th>GeographicLevel</th>\n",
              "      <th>Category</th>\n",
              "      <th>UniqueID</th>\n",
              "      <th>Measure</th>\n",
              "      <th>Data_Value</th>\n",
              "      <th>Low_Confidence_Limit</th>\n",
              "      <th>High_Confidence_Limit</th>\n",
              "      <th>PopulationCount</th>\n",
              "      <th>CategoryID</th>\n",
              "      <th>MeasureId</th>\n",
              "      <th>CityFIPS</th>\n",
              "      <th>TractFIPS</th>\n",
              "      <th>Short_Question_Text</th>\n",
              "    </tr>\n",
              "  </thead>\n",
              "  <tbody>\n",
              "    <tr>\n",
              "      <th>45825</th>\n",
              "      <td>2015</td>\n",
              "      <td>NY</td>\n",
              "      <td>New York</td>\n",
              "      <td>New York</td>\n",
              "      <td>Census Tract</td>\n",
              "      <td>Prevention</td>\n",
              "      <td>3651000-36047024900</td>\n",
              "      <td>Taking medicine for high blood pressure contro...</td>\n",
              "      <td>74.1</td>\n",
              "      <td>73.0</td>\n",
              "      <td>75.3</td>\n",
              "      <td>3823</td>\n",
              "      <td>PREVENT</td>\n",
              "      <td>BPMED</td>\n",
              "      <td>3651000.0</td>\n",
              "      <td>3.604702e+10</td>\n",
              "      <td>Taking BP Medication</td>\n",
              "    </tr>\n",
              "    <tr>\n",
              "      <th>660286</th>\n",
              "      <td>2016</td>\n",
              "      <td>NY</td>\n",
              "      <td>New York</td>\n",
              "      <td>New York</td>\n",
              "      <td>Census Tract</td>\n",
              "      <td>Prevention</td>\n",
              "      <td>3651000-36005031400</td>\n",
              "      <td>Older adult women aged &gt;=65 Years who are up t...</td>\n",
              "      <td>35.9</td>\n",
              "      <td>31.4</td>\n",
              "      <td>40.3</td>\n",
              "      <td>1966</td>\n",
              "      <td>PREVENT</td>\n",
              "      <td>COREW</td>\n",
              "      <td>3651000.0</td>\n",
              "      <td>3.600503e+10</td>\n",
              "      <td>Core preventive services for older women</td>\n",
              "    </tr>\n",
              "    <tr>\n",
              "      <th>762664</th>\n",
              "      <td>2016</td>\n",
              "      <td>NY</td>\n",
              "      <td>New York</td>\n",
              "      <td>New York</td>\n",
              "      <td>Census Tract</td>\n",
              "      <td>Prevention</td>\n",
              "      <td>3651000-36081122702</td>\n",
              "      <td>Mammography use among women aged 50–74 Years</td>\n",
              "      <td>79.5</td>\n",
              "      <td>78.1</td>\n",
              "      <td>80.9</td>\n",
              "      <td>6427</td>\n",
              "      <td>PREVENT</td>\n",
              "      <td>MAMMOUSE</td>\n",
              "      <td>3651000.0</td>\n",
              "      <td>3.608112e+10</td>\n",
              "      <td>Mammography</td>\n",
              "    </tr>\n",
              "  </tbody>\n",
              "</table>\n",
              "</div>\n",
              "      <button class=\"colab-df-convert\" onclick=\"convertToInteractive('df-571b6229-ebde-4e23-88c7-3db45122b78c')\"\n",
              "              title=\"Convert this dataframe to an interactive table.\"\n",
              "              style=\"display:none;\">\n",
              "        \n",
              "  <svg xmlns=\"http://www.w3.org/2000/svg\" height=\"24px\"viewBox=\"0 0 24 24\"\n",
              "       width=\"24px\">\n",
              "    <path d=\"M0 0h24v24H0V0z\" fill=\"none\"/>\n",
              "    <path d=\"M18.56 5.44l.94 2.06.94-2.06 2.06-.94-2.06-.94-.94-2.06-.94 2.06-2.06.94zm-11 1L8.5 8.5l.94-2.06 2.06-.94-2.06-.94L8.5 2.5l-.94 2.06-2.06.94zm10 10l.94 2.06.94-2.06 2.06-.94-2.06-.94-.94-2.06-.94 2.06-2.06.94z\"/><path d=\"M17.41 7.96l-1.37-1.37c-.4-.4-.92-.59-1.43-.59-.52 0-1.04.2-1.43.59L10.3 9.45l-7.72 7.72c-.78.78-.78 2.05 0 2.83L4 21.41c.39.39.9.59 1.41.59.51 0 1.02-.2 1.41-.59l7.78-7.78 2.81-2.81c.8-.78.8-2.07 0-2.86zM5.41 20L4 18.59l7.72-7.72 1.47 1.35L5.41 20z\"/>\n",
              "  </svg>\n",
              "      </button>\n",
              "      \n",
              "  <style>\n",
              "    .colab-df-container {\n",
              "      display:flex;\n",
              "      flex-wrap:wrap;\n",
              "      gap: 12px;\n",
              "    }\n",
              "\n",
              "    .colab-df-convert {\n",
              "      background-color: #E8F0FE;\n",
              "      border: none;\n",
              "      border-radius: 50%;\n",
              "      cursor: pointer;\n",
              "      display: none;\n",
              "      fill: #1967D2;\n",
              "      height: 32px;\n",
              "      padding: 0 0 0 0;\n",
              "      width: 32px;\n",
              "    }\n",
              "\n",
              "    .colab-df-convert:hover {\n",
              "      background-color: #E2EBFA;\n",
              "      box-shadow: 0px 1px 2px rgba(60, 64, 67, 0.3), 0px 1px 3px 1px rgba(60, 64, 67, 0.15);\n",
              "      fill: #174EA6;\n",
              "    }\n",
              "\n",
              "    [theme=dark] .colab-df-convert {\n",
              "      background-color: #3B4455;\n",
              "      fill: #D2E3FC;\n",
              "    }\n",
              "\n",
              "    [theme=dark] .colab-df-convert:hover {\n",
              "      background-color: #434B5C;\n",
              "      box-shadow: 0px 1px 3px 1px rgba(0, 0, 0, 0.15);\n",
              "      filter: drop-shadow(0px 1px 2px rgba(0, 0, 0, 0.3));\n",
              "      fill: #FFFFFF;\n",
              "    }\n",
              "  </style>\n",
              "\n",
              "      <script>\n",
              "        const buttonEl =\n",
              "          document.querySelector('#df-571b6229-ebde-4e23-88c7-3db45122b78c button.colab-df-convert');\n",
              "        buttonEl.style.display =\n",
              "          google.colab.kernel.accessAllowed ? 'block' : 'none';\n",
              "\n",
              "        async function convertToInteractive(key) {\n",
              "          const element = document.querySelector('#df-571b6229-ebde-4e23-88c7-3db45122b78c');\n",
              "          const dataTable =\n",
              "            await google.colab.kernel.invokeFunction('convertToInteractive',\n",
              "                                                     [key], {});\n",
              "          if (!dataTable) return;\n",
              "\n",
              "          const docLinkHtml = 'Like what you see? Visit the ' +\n",
              "            '<a target=\"_blank\" href=https://colab.research.google.com/notebooks/data_table.ipynb>data table notebook</a>'\n",
              "            + ' to learn more about interactive tables.';\n",
              "          element.innerHTML = '';\n",
              "          dataTable['output_type'] = 'display_data';\n",
              "          await google.colab.output.renderOutput(dataTable, element);\n",
              "          const docLink = document.createElement('div');\n",
              "          docLink.innerHTML = docLinkHtml;\n",
              "          element.appendChild(docLink);\n",
              "        }\n",
              "      </script>\n",
              "    </div>\n",
              "  </div>\n",
              "  "
            ]
          },
          "metadata": {},
          "execution_count": 35
        }
      ]
    },
    {
      "cell_type": "code",
      "source": [
        "NY_data_prev.shape "
      ],
      "metadata": {
        "colab": {
          "base_uri": "https://localhost:8080/"
        },
        "id": "lAJ3yi4AGiUP",
        "outputId": "d0e41bbd-623e-4d58-d3bb-316a28886b20"
      },
      "execution_count": 36,
      "outputs": [
        {
          "output_type": "execute_result",
          "data": {
            "text/plain": [
              "(25007, 17)"
            ]
          },
          "metadata": {},
          "execution_count": 36
        }
      ]
    },
    {
      "cell_type": "code",
      "source": [
        "NY2 = NY_data_prev[[\"StateDesc\", \"Category\", \"CityFIPS\", \"CityName\"]]\n",
        "NY2.sample(5)"
      ],
      "metadata": {
        "colab": {
          "base_uri": "https://localhost:8080/",
          "height": 206
        },
        "id": "JibJ6swPGiRm",
        "outputId": "b24bfb1a-8bca-40a9-933b-a718133344a6"
      },
      "execution_count": 37,
      "outputs": [
        {
          "output_type": "execute_result",
          "data": {
            "text/plain": [
              "       StateDesc    Category   CityFIPS  CityName\n",
              "40971   New York  Prevention  3651000.0  New York\n",
              "343070  New York  Prevention  3651000.0  New York\n",
              "703524  New York  Prevention  3651000.0  New York\n",
              "438786  New York  Prevention  3651000.0  New York\n",
              "809663  New York  Prevention  3673000.0  Syracuse"
            ],
            "text/html": [
              "\n",
              "  <div id=\"df-3f8ccb61-b334-4c1f-85d5-5dffa06c91ec\">\n",
              "    <div class=\"colab-df-container\">\n",
              "      <div>\n",
              "<style scoped>\n",
              "    .dataframe tbody tr th:only-of-type {\n",
              "        vertical-align: middle;\n",
              "    }\n",
              "\n",
              "    .dataframe tbody tr th {\n",
              "        vertical-align: top;\n",
              "    }\n",
              "\n",
              "    .dataframe thead th {\n",
              "        text-align: right;\n",
              "    }\n",
              "</style>\n",
              "<table border=\"1\" class=\"dataframe\">\n",
              "  <thead>\n",
              "    <tr style=\"text-align: right;\">\n",
              "      <th></th>\n",
              "      <th>StateDesc</th>\n",
              "      <th>Category</th>\n",
              "      <th>CityFIPS</th>\n",
              "      <th>CityName</th>\n",
              "    </tr>\n",
              "  </thead>\n",
              "  <tbody>\n",
              "    <tr>\n",
              "      <th>40971</th>\n",
              "      <td>New York</td>\n",
              "      <td>Prevention</td>\n",
              "      <td>3651000.0</td>\n",
              "      <td>New York</td>\n",
              "    </tr>\n",
              "    <tr>\n",
              "      <th>343070</th>\n",
              "      <td>New York</td>\n",
              "      <td>Prevention</td>\n",
              "      <td>3651000.0</td>\n",
              "      <td>New York</td>\n",
              "    </tr>\n",
              "    <tr>\n",
              "      <th>703524</th>\n",
              "      <td>New York</td>\n",
              "      <td>Prevention</td>\n",
              "      <td>3651000.0</td>\n",
              "      <td>New York</td>\n",
              "    </tr>\n",
              "    <tr>\n",
              "      <th>438786</th>\n",
              "      <td>New York</td>\n",
              "      <td>Prevention</td>\n",
              "      <td>3651000.0</td>\n",
              "      <td>New York</td>\n",
              "    </tr>\n",
              "    <tr>\n",
              "      <th>809663</th>\n",
              "      <td>New York</td>\n",
              "      <td>Prevention</td>\n",
              "      <td>3673000.0</td>\n",
              "      <td>Syracuse</td>\n",
              "    </tr>\n",
              "  </tbody>\n",
              "</table>\n",
              "</div>\n",
              "      <button class=\"colab-df-convert\" onclick=\"convertToInteractive('df-3f8ccb61-b334-4c1f-85d5-5dffa06c91ec')\"\n",
              "              title=\"Convert this dataframe to an interactive table.\"\n",
              "              style=\"display:none;\">\n",
              "        \n",
              "  <svg xmlns=\"http://www.w3.org/2000/svg\" height=\"24px\"viewBox=\"0 0 24 24\"\n",
              "       width=\"24px\">\n",
              "    <path d=\"M0 0h24v24H0V0z\" fill=\"none\"/>\n",
              "    <path d=\"M18.56 5.44l.94 2.06.94-2.06 2.06-.94-2.06-.94-.94-2.06-.94 2.06-2.06.94zm-11 1L8.5 8.5l.94-2.06 2.06-.94-2.06-.94L8.5 2.5l-.94 2.06-2.06.94zm10 10l.94 2.06.94-2.06 2.06-.94-2.06-.94-.94-2.06-.94 2.06-2.06.94z\"/><path d=\"M17.41 7.96l-1.37-1.37c-.4-.4-.92-.59-1.43-.59-.52 0-1.04.2-1.43.59L10.3 9.45l-7.72 7.72c-.78.78-.78 2.05 0 2.83L4 21.41c.39.39.9.59 1.41.59.51 0 1.02-.2 1.41-.59l7.78-7.78 2.81-2.81c.8-.78.8-2.07 0-2.86zM5.41 20L4 18.59l7.72-7.72 1.47 1.35L5.41 20z\"/>\n",
              "  </svg>\n",
              "      </button>\n",
              "      \n",
              "  <style>\n",
              "    .colab-df-container {\n",
              "      display:flex;\n",
              "      flex-wrap:wrap;\n",
              "      gap: 12px;\n",
              "    }\n",
              "\n",
              "    .colab-df-convert {\n",
              "      background-color: #E8F0FE;\n",
              "      border: none;\n",
              "      border-radius: 50%;\n",
              "      cursor: pointer;\n",
              "      display: none;\n",
              "      fill: #1967D2;\n",
              "      height: 32px;\n",
              "      padding: 0 0 0 0;\n",
              "      width: 32px;\n",
              "    }\n",
              "\n",
              "    .colab-df-convert:hover {\n",
              "      background-color: #E2EBFA;\n",
              "      box-shadow: 0px 1px 2px rgba(60, 64, 67, 0.3), 0px 1px 3px 1px rgba(60, 64, 67, 0.15);\n",
              "      fill: #174EA6;\n",
              "    }\n",
              "\n",
              "    [theme=dark] .colab-df-convert {\n",
              "      background-color: #3B4455;\n",
              "      fill: #D2E3FC;\n",
              "    }\n",
              "\n",
              "    [theme=dark] .colab-df-convert:hover {\n",
              "      background-color: #434B5C;\n",
              "      box-shadow: 0px 1px 3px 1px rgba(0, 0, 0, 0.15);\n",
              "      filter: drop-shadow(0px 1px 2px rgba(0, 0, 0, 0.3));\n",
              "      fill: #FFFFFF;\n",
              "    }\n",
              "  </style>\n",
              "\n",
              "      <script>\n",
              "        const buttonEl =\n",
              "          document.querySelector('#df-3f8ccb61-b334-4c1f-85d5-5dffa06c91ec button.colab-df-convert');\n",
              "        buttonEl.style.display =\n",
              "          google.colab.kernel.accessAllowed ? 'block' : 'none';\n",
              "\n",
              "        async function convertToInteractive(key) {\n",
              "          const element = document.querySelector('#df-3f8ccb61-b334-4c1f-85d5-5dffa06c91ec');\n",
              "          const dataTable =\n",
              "            await google.colab.kernel.invokeFunction('convertToInteractive',\n",
              "                                                     [key], {});\n",
              "          if (!dataTable) return;\n",
              "\n",
              "          const docLinkHtml = 'Like what you see? Visit the ' +\n",
              "            '<a target=\"_blank\" href=https://colab.research.google.com/notebooks/data_table.ipynb>data table notebook</a>'\n",
              "            + ' to learn more about interactive tables.';\n",
              "          element.innerHTML = '';\n",
              "          dataTable['output_type'] = 'display_data';\n",
              "          await google.colab.output.renderOutput(dataTable, element);\n",
              "          const docLink = document.createElement('div');\n",
              "          docLink.innerHTML = docLinkHtml;\n",
              "          element.appendChild(docLink);\n",
              "        }\n",
              "      </script>\n",
              "    </div>\n",
              "  </div>\n",
              "  "
            ]
          },
          "metadata": {},
          "execution_count": 37
        }
      ]
    },
    {
      "cell_type": "markdown",
      "source": [
        "#### **Extracting the data for Health Outcomes from New York state**"
      ],
      "metadata": {
        "id": "Z4fUi-rAG6xu"
      }
    },
    {
      "cell_type": "code",
      "source": [
        "NY_data_HO = NY_data[NY_data[\"Category\"] == \"Health Outcomes\"]\n",
        "NY_data_HO.sample(3) "
      ],
      "metadata": {
        "colab": {
          "base_uri": "https://localhost:8080/",
          "height": 520
        },
        "id": "uarrMasBGiOL",
        "outputId": "5cc4a7af-e06e-464e-927f-a9164eab9783"
      },
      "execution_count": 38,
      "outputs": [
        {
          "output_type": "execute_result",
          "data": {
            "text/plain": [
              "        Year StateAbbr StateDesc  CityName GeographicLevel         Category  \\\n",
              "158327  2016        NY  New York  New York    Census Tract  Health Outcomes   \n",
              "448165  2016        NY  New York   Buffalo    Census Tract  Health Outcomes   \n",
              "387354  2016        NY  New York  New York    Census Tract  Health Outcomes   \n",
              "\n",
              "                   UniqueID  \\\n",
              "158327  3651000-36005006500   \n",
              "448165  3611000-36029006800   \n",
              "387354  3651000-36047102600   \n",
              "\n",
              "                                                  Measure  Data_Value  \\\n",
              "158327  Coronary heart disease among adults aged >=18 ...         6.4   \n",
              "448165  Cancer (excluding skin cancer) among adults ag...         4.8   \n",
              "387354  Physical health not good for >=14 days among a...        10.1   \n",
              "\n",
              "        Low_Confidence_Limit  High_Confidence_Limit  PopulationCount  \\\n",
              "158327                   6.0                    6.9             5337   \n",
              "448165                   4.6                    4.9             3380   \n",
              "387354                   8.8                   11.5             2771   \n",
              "\n",
              "       CategoryID MeasureId   CityFIPS     TractFIPS     Short_Question_Text  \n",
              "158327    HLTHOUT       CHD  3651000.0  3.600501e+10  Coronary Heart Disease  \n",
              "448165    HLTHOUT    CANCER  3611000.0  3.602901e+10    Cancer (except skin)  \n",
              "387354    HLTHOUT     PHLTH  3651000.0  3.604710e+10         Physical Health  "
            ],
            "text/html": [
              "\n",
              "  <div id=\"df-47afd3d4-dff7-4ffd-bd9e-6de41b6884a9\">\n",
              "    <div class=\"colab-df-container\">\n",
              "      <div>\n",
              "<style scoped>\n",
              "    .dataframe tbody tr th:only-of-type {\n",
              "        vertical-align: middle;\n",
              "    }\n",
              "\n",
              "    .dataframe tbody tr th {\n",
              "        vertical-align: top;\n",
              "    }\n",
              "\n",
              "    .dataframe thead th {\n",
              "        text-align: right;\n",
              "    }\n",
              "</style>\n",
              "<table border=\"1\" class=\"dataframe\">\n",
              "  <thead>\n",
              "    <tr style=\"text-align: right;\">\n",
              "      <th></th>\n",
              "      <th>Year</th>\n",
              "      <th>StateAbbr</th>\n",
              "      <th>StateDesc</th>\n",
              "      <th>CityName</th>\n",
              "      <th>GeographicLevel</th>\n",
              "      <th>Category</th>\n",
              "      <th>UniqueID</th>\n",
              "      <th>Measure</th>\n",
              "      <th>Data_Value</th>\n",
              "      <th>Low_Confidence_Limit</th>\n",
              "      <th>High_Confidence_Limit</th>\n",
              "      <th>PopulationCount</th>\n",
              "      <th>CategoryID</th>\n",
              "      <th>MeasureId</th>\n",
              "      <th>CityFIPS</th>\n",
              "      <th>TractFIPS</th>\n",
              "      <th>Short_Question_Text</th>\n",
              "    </tr>\n",
              "  </thead>\n",
              "  <tbody>\n",
              "    <tr>\n",
              "      <th>158327</th>\n",
              "      <td>2016</td>\n",
              "      <td>NY</td>\n",
              "      <td>New York</td>\n",
              "      <td>New York</td>\n",
              "      <td>Census Tract</td>\n",
              "      <td>Health Outcomes</td>\n",
              "      <td>3651000-36005006500</td>\n",
              "      <td>Coronary heart disease among adults aged &gt;=18 ...</td>\n",
              "      <td>6.4</td>\n",
              "      <td>6.0</td>\n",
              "      <td>6.9</td>\n",
              "      <td>5337</td>\n",
              "      <td>HLTHOUT</td>\n",
              "      <td>CHD</td>\n",
              "      <td>3651000.0</td>\n",
              "      <td>3.600501e+10</td>\n",
              "      <td>Coronary Heart Disease</td>\n",
              "    </tr>\n",
              "    <tr>\n",
              "      <th>448165</th>\n",
              "      <td>2016</td>\n",
              "      <td>NY</td>\n",
              "      <td>New York</td>\n",
              "      <td>Buffalo</td>\n",
              "      <td>Census Tract</td>\n",
              "      <td>Health Outcomes</td>\n",
              "      <td>3611000-36029006800</td>\n",
              "      <td>Cancer (excluding skin cancer) among adults ag...</td>\n",
              "      <td>4.8</td>\n",
              "      <td>4.6</td>\n",
              "      <td>4.9</td>\n",
              "      <td>3380</td>\n",
              "      <td>HLTHOUT</td>\n",
              "      <td>CANCER</td>\n",
              "      <td>3611000.0</td>\n",
              "      <td>3.602901e+10</td>\n",
              "      <td>Cancer (except skin)</td>\n",
              "    </tr>\n",
              "    <tr>\n",
              "      <th>387354</th>\n",
              "      <td>2016</td>\n",
              "      <td>NY</td>\n",
              "      <td>New York</td>\n",
              "      <td>New York</td>\n",
              "      <td>Census Tract</td>\n",
              "      <td>Health Outcomes</td>\n",
              "      <td>3651000-36047102600</td>\n",
              "      <td>Physical health not good for &gt;=14 days among a...</td>\n",
              "      <td>10.1</td>\n",
              "      <td>8.8</td>\n",
              "      <td>11.5</td>\n",
              "      <td>2771</td>\n",
              "      <td>HLTHOUT</td>\n",
              "      <td>PHLTH</td>\n",
              "      <td>3651000.0</td>\n",
              "      <td>3.604710e+10</td>\n",
              "      <td>Physical Health</td>\n",
              "    </tr>\n",
              "  </tbody>\n",
              "</table>\n",
              "</div>\n",
              "      <button class=\"colab-df-convert\" onclick=\"convertToInteractive('df-47afd3d4-dff7-4ffd-bd9e-6de41b6884a9')\"\n",
              "              title=\"Convert this dataframe to an interactive table.\"\n",
              "              style=\"display:none;\">\n",
              "        \n",
              "  <svg xmlns=\"http://www.w3.org/2000/svg\" height=\"24px\"viewBox=\"0 0 24 24\"\n",
              "       width=\"24px\">\n",
              "    <path d=\"M0 0h24v24H0V0z\" fill=\"none\"/>\n",
              "    <path d=\"M18.56 5.44l.94 2.06.94-2.06 2.06-.94-2.06-.94-.94-2.06-.94 2.06-2.06.94zm-11 1L8.5 8.5l.94-2.06 2.06-.94-2.06-.94L8.5 2.5l-.94 2.06-2.06.94zm10 10l.94 2.06.94-2.06 2.06-.94-2.06-.94-.94-2.06-.94 2.06-2.06.94z\"/><path d=\"M17.41 7.96l-1.37-1.37c-.4-.4-.92-.59-1.43-.59-.52 0-1.04.2-1.43.59L10.3 9.45l-7.72 7.72c-.78.78-.78 2.05 0 2.83L4 21.41c.39.39.9.59 1.41.59.51 0 1.02-.2 1.41-.59l7.78-7.78 2.81-2.81c.8-.78.8-2.07 0-2.86zM5.41 20L4 18.59l7.72-7.72 1.47 1.35L5.41 20z\"/>\n",
              "  </svg>\n",
              "      </button>\n",
              "      \n",
              "  <style>\n",
              "    .colab-df-container {\n",
              "      display:flex;\n",
              "      flex-wrap:wrap;\n",
              "      gap: 12px;\n",
              "    }\n",
              "\n",
              "    .colab-df-convert {\n",
              "      background-color: #E8F0FE;\n",
              "      border: none;\n",
              "      border-radius: 50%;\n",
              "      cursor: pointer;\n",
              "      display: none;\n",
              "      fill: #1967D2;\n",
              "      height: 32px;\n",
              "      padding: 0 0 0 0;\n",
              "      width: 32px;\n",
              "    }\n",
              "\n",
              "    .colab-df-convert:hover {\n",
              "      background-color: #E2EBFA;\n",
              "      box-shadow: 0px 1px 2px rgba(60, 64, 67, 0.3), 0px 1px 3px 1px rgba(60, 64, 67, 0.15);\n",
              "      fill: #174EA6;\n",
              "    }\n",
              "\n",
              "    [theme=dark] .colab-df-convert {\n",
              "      background-color: #3B4455;\n",
              "      fill: #D2E3FC;\n",
              "    }\n",
              "\n",
              "    [theme=dark] .colab-df-convert:hover {\n",
              "      background-color: #434B5C;\n",
              "      box-shadow: 0px 1px 3px 1px rgba(0, 0, 0, 0.15);\n",
              "      filter: drop-shadow(0px 1px 2px rgba(0, 0, 0, 0.3));\n",
              "      fill: #FFFFFF;\n",
              "    }\n",
              "  </style>\n",
              "\n",
              "      <script>\n",
              "        const buttonEl =\n",
              "          document.querySelector('#df-47afd3d4-dff7-4ffd-bd9e-6de41b6884a9 button.colab-df-convert');\n",
              "        buttonEl.style.display =\n",
              "          google.colab.kernel.accessAllowed ? 'block' : 'none';\n",
              "\n",
              "        async function convertToInteractive(key) {\n",
              "          const element = document.querySelector('#df-47afd3d4-dff7-4ffd-bd9e-6de41b6884a9');\n",
              "          const dataTable =\n",
              "            await google.colab.kernel.invokeFunction('convertToInteractive',\n",
              "                                                     [key], {});\n",
              "          if (!dataTable) return;\n",
              "\n",
              "          const docLinkHtml = 'Like what you see? Visit the ' +\n",
              "            '<a target=\"_blank\" href=https://colab.research.google.com/notebooks/data_table.ipynb>data table notebook</a>'\n",
              "            + ' to learn more about interactive tables.';\n",
              "          element.innerHTML = '';\n",
              "          dataTable['output_type'] = 'display_data';\n",
              "          await google.colab.output.renderOutput(dataTable, element);\n",
              "          const docLink = document.createElement('div');\n",
              "          docLink.innerHTML = docLinkHtml;\n",
              "          element.appendChild(docLink);\n",
              "        }\n",
              "      </script>\n",
              "    </div>\n",
              "  </div>\n",
              "  "
            ]
          },
          "metadata": {},
          "execution_count": 38
        }
      ]
    },
    {
      "cell_type": "code",
      "source": [
        "NY_data_HO.shape "
      ],
      "metadata": {
        "colab": {
          "base_uri": "https://localhost:8080/"
        },
        "id": "C_IAxo1uGiLQ",
        "outputId": "7536c163-6908-4627-9d89-652a35516bcf"
      },
      "execution_count": 39,
      "outputs": [
        {
          "output_type": "execute_result",
          "data": {
            "text/plain": [
              "(32586, 17)"
            ]
          },
          "metadata": {},
          "execution_count": 39
        }
      ]
    },
    {
      "cell_type": "code",
      "source": [
        "NY3 = NY_data_HO[[\"StateDesc\", \"Category\", \"CityFIPS\", \"CityName\"]]\n",
        "NY3.sample(5) "
      ],
      "metadata": {
        "colab": {
          "base_uri": "https://localhost:8080/",
          "height": 206
        },
        "id": "b2zqIhJiGiJP",
        "outputId": "de1e36af-2ea8-4a75-fde8-891747d46e11"
      },
      "execution_count": 40,
      "outputs": [
        {
          "output_type": "execute_result",
          "data": {
            "text/plain": [
              "       StateDesc         Category   CityFIPS  CityName\n",
              "768658  New York  Health Outcomes  3651000.0  New York\n",
              "44167   New York  Health Outcomes  3651000.0  New York\n",
              "587675  New York  Health Outcomes  3673000.0  Syracuse\n",
              "106389  New York  Health Outcomes  3651000.0  New York\n",
              "722454  New York  Health Outcomes  3611000.0   Buffalo"
            ],
            "text/html": [
              "\n",
              "  <div id=\"df-76319148-096a-4efb-8075-82551b403dab\">\n",
              "    <div class=\"colab-df-container\">\n",
              "      <div>\n",
              "<style scoped>\n",
              "    .dataframe tbody tr th:only-of-type {\n",
              "        vertical-align: middle;\n",
              "    }\n",
              "\n",
              "    .dataframe tbody tr th {\n",
              "        vertical-align: top;\n",
              "    }\n",
              "\n",
              "    .dataframe thead th {\n",
              "        text-align: right;\n",
              "    }\n",
              "</style>\n",
              "<table border=\"1\" class=\"dataframe\">\n",
              "  <thead>\n",
              "    <tr style=\"text-align: right;\">\n",
              "      <th></th>\n",
              "      <th>StateDesc</th>\n",
              "      <th>Category</th>\n",
              "      <th>CityFIPS</th>\n",
              "      <th>CityName</th>\n",
              "    </tr>\n",
              "  </thead>\n",
              "  <tbody>\n",
              "    <tr>\n",
              "      <th>768658</th>\n",
              "      <td>New York</td>\n",
              "      <td>Health Outcomes</td>\n",
              "      <td>3651000.0</td>\n",
              "      <td>New York</td>\n",
              "    </tr>\n",
              "    <tr>\n",
              "      <th>44167</th>\n",
              "      <td>New York</td>\n",
              "      <td>Health Outcomes</td>\n",
              "      <td>3651000.0</td>\n",
              "      <td>New York</td>\n",
              "    </tr>\n",
              "    <tr>\n",
              "      <th>587675</th>\n",
              "      <td>New York</td>\n",
              "      <td>Health Outcomes</td>\n",
              "      <td>3673000.0</td>\n",
              "      <td>Syracuse</td>\n",
              "    </tr>\n",
              "    <tr>\n",
              "      <th>106389</th>\n",
              "      <td>New York</td>\n",
              "      <td>Health Outcomes</td>\n",
              "      <td>3651000.0</td>\n",
              "      <td>New York</td>\n",
              "    </tr>\n",
              "    <tr>\n",
              "      <th>722454</th>\n",
              "      <td>New York</td>\n",
              "      <td>Health Outcomes</td>\n",
              "      <td>3611000.0</td>\n",
              "      <td>Buffalo</td>\n",
              "    </tr>\n",
              "  </tbody>\n",
              "</table>\n",
              "</div>\n",
              "      <button class=\"colab-df-convert\" onclick=\"convertToInteractive('df-76319148-096a-4efb-8075-82551b403dab')\"\n",
              "              title=\"Convert this dataframe to an interactive table.\"\n",
              "              style=\"display:none;\">\n",
              "        \n",
              "  <svg xmlns=\"http://www.w3.org/2000/svg\" height=\"24px\"viewBox=\"0 0 24 24\"\n",
              "       width=\"24px\">\n",
              "    <path d=\"M0 0h24v24H0V0z\" fill=\"none\"/>\n",
              "    <path d=\"M18.56 5.44l.94 2.06.94-2.06 2.06-.94-2.06-.94-.94-2.06-.94 2.06-2.06.94zm-11 1L8.5 8.5l.94-2.06 2.06-.94-2.06-.94L8.5 2.5l-.94 2.06-2.06.94zm10 10l.94 2.06.94-2.06 2.06-.94-2.06-.94-.94-2.06-.94 2.06-2.06.94z\"/><path d=\"M17.41 7.96l-1.37-1.37c-.4-.4-.92-.59-1.43-.59-.52 0-1.04.2-1.43.59L10.3 9.45l-7.72 7.72c-.78.78-.78 2.05 0 2.83L4 21.41c.39.39.9.59 1.41.59.51 0 1.02-.2 1.41-.59l7.78-7.78 2.81-2.81c.8-.78.8-2.07 0-2.86zM5.41 20L4 18.59l7.72-7.72 1.47 1.35L5.41 20z\"/>\n",
              "  </svg>\n",
              "      </button>\n",
              "      \n",
              "  <style>\n",
              "    .colab-df-container {\n",
              "      display:flex;\n",
              "      flex-wrap:wrap;\n",
              "      gap: 12px;\n",
              "    }\n",
              "\n",
              "    .colab-df-convert {\n",
              "      background-color: #E8F0FE;\n",
              "      border: none;\n",
              "      border-radius: 50%;\n",
              "      cursor: pointer;\n",
              "      display: none;\n",
              "      fill: #1967D2;\n",
              "      height: 32px;\n",
              "      padding: 0 0 0 0;\n",
              "      width: 32px;\n",
              "    }\n",
              "\n",
              "    .colab-df-convert:hover {\n",
              "      background-color: #E2EBFA;\n",
              "      box-shadow: 0px 1px 2px rgba(60, 64, 67, 0.3), 0px 1px 3px 1px rgba(60, 64, 67, 0.15);\n",
              "      fill: #174EA6;\n",
              "    }\n",
              "\n",
              "    [theme=dark] .colab-df-convert {\n",
              "      background-color: #3B4455;\n",
              "      fill: #D2E3FC;\n",
              "    }\n",
              "\n",
              "    [theme=dark] .colab-df-convert:hover {\n",
              "      background-color: #434B5C;\n",
              "      box-shadow: 0px 1px 3px 1px rgba(0, 0, 0, 0.15);\n",
              "      filter: drop-shadow(0px 1px 2px rgba(0, 0, 0, 0.3));\n",
              "      fill: #FFFFFF;\n",
              "    }\n",
              "  </style>\n",
              "\n",
              "      <script>\n",
              "        const buttonEl =\n",
              "          document.querySelector('#df-76319148-096a-4efb-8075-82551b403dab button.colab-df-convert');\n",
              "        buttonEl.style.display =\n",
              "          google.colab.kernel.accessAllowed ? 'block' : 'none';\n",
              "\n",
              "        async function convertToInteractive(key) {\n",
              "          const element = document.querySelector('#df-76319148-096a-4efb-8075-82551b403dab');\n",
              "          const dataTable =\n",
              "            await google.colab.kernel.invokeFunction('convertToInteractive',\n",
              "                                                     [key], {});\n",
              "          if (!dataTable) return;\n",
              "\n",
              "          const docLinkHtml = 'Like what you see? Visit the ' +\n",
              "            '<a target=\"_blank\" href=https://colab.research.google.com/notebooks/data_table.ipynb>data table notebook</a>'\n",
              "            + ' to learn more about interactive tables.';\n",
              "          element.innerHTML = '';\n",
              "          dataTable['output_type'] = 'display_data';\n",
              "          await google.colab.output.renderOutput(dataTable, element);\n",
              "          const docLink = document.createElement('div');\n",
              "          docLink.innerHTML = docLinkHtml;\n",
              "          element.appendChild(docLink);\n",
              "        }\n",
              "      </script>\n",
              "    </div>\n",
              "  </div>\n",
              "  "
            ]
          },
          "metadata": {},
          "execution_count": 40
        }
      ]
    },
    {
      "cell_type": "code",
      "source": [
        "NY_cat = NY_data[[\"StateDesc\", \"Category\", \"CityFIPS\", \"CityName\"]]\n",
        "NY_cat.sample(5)"
      ],
      "metadata": {
        "colab": {
          "base_uri": "https://localhost:8080/",
          "height": 206
        },
        "id": "bXIyuG2DGiGl",
        "outputId": "186d0ae9-40f9-45bb-bb4e-258bdfd84120"
      },
      "execution_count": 41,
      "outputs": [
        {
          "output_type": "execute_result",
          "data": {
            "text/plain": [
              "       StateDesc             Category   CityFIPS     CityName\n",
              "768569  New York      Health Outcomes  3651000.0     New York\n",
              "427762  New York      Health Outcomes  3684000.0      Yonkers\n",
              "405652  New York  Unhealthy Behaviors  3665508.0  Schenectady\n",
              "434258  New York  Unhealthy Behaviors  3651000.0     New York\n",
              "697814  New York           Prevention  3651000.0     New York"
            ],
            "text/html": [
              "\n",
              "  <div id=\"df-b4fee407-5fe3-4118-bbff-536695a7115e\">\n",
              "    <div class=\"colab-df-container\">\n",
              "      <div>\n",
              "<style scoped>\n",
              "    .dataframe tbody tr th:only-of-type {\n",
              "        vertical-align: middle;\n",
              "    }\n",
              "\n",
              "    .dataframe tbody tr th {\n",
              "        vertical-align: top;\n",
              "    }\n",
              "\n",
              "    .dataframe thead th {\n",
              "        text-align: right;\n",
              "    }\n",
              "</style>\n",
              "<table border=\"1\" class=\"dataframe\">\n",
              "  <thead>\n",
              "    <tr style=\"text-align: right;\">\n",
              "      <th></th>\n",
              "      <th>StateDesc</th>\n",
              "      <th>Category</th>\n",
              "      <th>CityFIPS</th>\n",
              "      <th>CityName</th>\n",
              "    </tr>\n",
              "  </thead>\n",
              "  <tbody>\n",
              "    <tr>\n",
              "      <th>768569</th>\n",
              "      <td>New York</td>\n",
              "      <td>Health Outcomes</td>\n",
              "      <td>3651000.0</td>\n",
              "      <td>New York</td>\n",
              "    </tr>\n",
              "    <tr>\n",
              "      <th>427762</th>\n",
              "      <td>New York</td>\n",
              "      <td>Health Outcomes</td>\n",
              "      <td>3684000.0</td>\n",
              "      <td>Yonkers</td>\n",
              "    </tr>\n",
              "    <tr>\n",
              "      <th>405652</th>\n",
              "      <td>New York</td>\n",
              "      <td>Unhealthy Behaviors</td>\n",
              "      <td>3665508.0</td>\n",
              "      <td>Schenectady</td>\n",
              "    </tr>\n",
              "    <tr>\n",
              "      <th>434258</th>\n",
              "      <td>New York</td>\n",
              "      <td>Unhealthy Behaviors</td>\n",
              "      <td>3651000.0</td>\n",
              "      <td>New York</td>\n",
              "    </tr>\n",
              "    <tr>\n",
              "      <th>697814</th>\n",
              "      <td>New York</td>\n",
              "      <td>Prevention</td>\n",
              "      <td>3651000.0</td>\n",
              "      <td>New York</td>\n",
              "    </tr>\n",
              "  </tbody>\n",
              "</table>\n",
              "</div>\n",
              "      <button class=\"colab-df-convert\" onclick=\"convertToInteractive('df-b4fee407-5fe3-4118-bbff-536695a7115e')\"\n",
              "              title=\"Convert this dataframe to an interactive table.\"\n",
              "              style=\"display:none;\">\n",
              "        \n",
              "  <svg xmlns=\"http://www.w3.org/2000/svg\" height=\"24px\"viewBox=\"0 0 24 24\"\n",
              "       width=\"24px\">\n",
              "    <path d=\"M0 0h24v24H0V0z\" fill=\"none\"/>\n",
              "    <path d=\"M18.56 5.44l.94 2.06.94-2.06 2.06-.94-2.06-.94-.94-2.06-.94 2.06-2.06.94zm-11 1L8.5 8.5l.94-2.06 2.06-.94-2.06-.94L8.5 2.5l-.94 2.06-2.06.94zm10 10l.94 2.06.94-2.06 2.06-.94-2.06-.94-.94-2.06-.94 2.06-2.06.94z\"/><path d=\"M17.41 7.96l-1.37-1.37c-.4-.4-.92-.59-1.43-.59-.52 0-1.04.2-1.43.59L10.3 9.45l-7.72 7.72c-.78.78-.78 2.05 0 2.83L4 21.41c.39.39.9.59 1.41.59.51 0 1.02-.2 1.41-.59l7.78-7.78 2.81-2.81c.8-.78.8-2.07 0-2.86zM5.41 20L4 18.59l7.72-7.72 1.47 1.35L5.41 20z\"/>\n",
              "  </svg>\n",
              "      </button>\n",
              "      \n",
              "  <style>\n",
              "    .colab-df-container {\n",
              "      display:flex;\n",
              "      flex-wrap:wrap;\n",
              "      gap: 12px;\n",
              "    }\n",
              "\n",
              "    .colab-df-convert {\n",
              "      background-color: #E8F0FE;\n",
              "      border: none;\n",
              "      border-radius: 50%;\n",
              "      cursor: pointer;\n",
              "      display: none;\n",
              "      fill: #1967D2;\n",
              "      height: 32px;\n",
              "      padding: 0 0 0 0;\n",
              "      width: 32px;\n",
              "    }\n",
              "\n",
              "    .colab-df-convert:hover {\n",
              "      background-color: #E2EBFA;\n",
              "      box-shadow: 0px 1px 2px rgba(60, 64, 67, 0.3), 0px 1px 3px 1px rgba(60, 64, 67, 0.15);\n",
              "      fill: #174EA6;\n",
              "    }\n",
              "\n",
              "    [theme=dark] .colab-df-convert {\n",
              "      background-color: #3B4455;\n",
              "      fill: #D2E3FC;\n",
              "    }\n",
              "\n",
              "    [theme=dark] .colab-df-convert:hover {\n",
              "      background-color: #434B5C;\n",
              "      box-shadow: 0px 1px 3px 1px rgba(0, 0, 0, 0.15);\n",
              "      filter: drop-shadow(0px 1px 2px rgba(0, 0, 0, 0.3));\n",
              "      fill: #FFFFFF;\n",
              "    }\n",
              "  </style>\n",
              "\n",
              "      <script>\n",
              "        const buttonEl =\n",
              "          document.querySelector('#df-b4fee407-5fe3-4118-bbff-536695a7115e button.colab-df-convert');\n",
              "        buttonEl.style.display =\n",
              "          google.colab.kernel.accessAllowed ? 'block' : 'none';\n",
              "\n",
              "        async function convertToInteractive(key) {\n",
              "          const element = document.querySelector('#df-b4fee407-5fe3-4118-bbff-536695a7115e');\n",
              "          const dataTable =\n",
              "            await google.colab.kernel.invokeFunction('convertToInteractive',\n",
              "                                                     [key], {});\n",
              "          if (!dataTable) return;\n",
              "\n",
              "          const docLinkHtml = 'Like what you see? Visit the ' +\n",
              "            '<a target=\"_blank\" href=https://colab.research.google.com/notebooks/data_table.ipynb>data table notebook</a>'\n",
              "            + ' to learn more about interactive tables.';\n",
              "          element.innerHTML = '';\n",
              "          dataTable['output_type'] = 'display_data';\n",
              "          await google.colab.output.renderOutput(dataTable, element);\n",
              "          const docLink = document.createElement('div');\n",
              "          docLink.innerHTML = docLinkHtml;\n",
              "          element.appendChild(docLink);\n",
              "        }\n",
              "      </script>\n",
              "    </div>\n",
              "  </div>\n",
              "  "
            ]
          },
          "metadata": {},
          "execution_count": 41
        }
      ]
    },
    {
      "cell_type": "code",
      "source": [
        "NY_cat.shape"
      ],
      "metadata": {
        "colab": {
          "base_uri": "https://localhost:8080/"
        },
        "id": "smk33P_4GiEU",
        "outputId": "370f80a4-8083-4fab-fc1a-ebab96cbea1b"
      },
      "execution_count": 42,
      "outputs": [
        {
          "output_type": "execute_result",
          "data": {
            "text/plain": [
              "(70133, 4)"
            ]
          },
          "metadata": {},
          "execution_count": 42
        }
      ]
    },
    {
      "cell_type": "markdown",
      "source": [
        "#### **Digging more deeper, extracting the \"Health Outcomes\" category from the dataframe of some important features**"
      ],
      "metadata": {
        "id": "H8bzUXDEHHuI"
      }
    },
    {
      "cell_type": "code",
      "source": [
        "NY_cat_HO = NY_cat[NY_cat[\"Category\"] == \"Health Outcomes\"]\n",
        "NY_cat_HO.sample(5)"
      ],
      "metadata": {
        "colab": {
          "base_uri": "https://localhost:8080/",
          "height": 206
        },
        "id": "1xCZxEFDGiBm",
        "outputId": "9678a2af-c027-414f-b0fa-4f7d3b3ed184"
      },
      "execution_count": 43,
      "outputs": [
        {
          "output_type": "execute_result",
          "data": {
            "text/plain": [
              "       StateDesc         Category   CityFIPS  CityName\n",
              "85500   New York  Health Outcomes  3651000.0  New York\n",
              "637008  New York  Health Outcomes  3651000.0  New York\n",
              "404707  New York  Health Outcomes  3651000.0  New York\n",
              "769091  New York  Health Outcomes  3651000.0  New York\n",
              "370456  New York  Health Outcomes  3651000.0  New York"
            ],
            "text/html": [
              "\n",
              "  <div id=\"df-3eab8ce0-8117-4632-a332-3834482a1279\">\n",
              "    <div class=\"colab-df-container\">\n",
              "      <div>\n",
              "<style scoped>\n",
              "    .dataframe tbody tr th:only-of-type {\n",
              "        vertical-align: middle;\n",
              "    }\n",
              "\n",
              "    .dataframe tbody tr th {\n",
              "        vertical-align: top;\n",
              "    }\n",
              "\n",
              "    .dataframe thead th {\n",
              "        text-align: right;\n",
              "    }\n",
              "</style>\n",
              "<table border=\"1\" class=\"dataframe\">\n",
              "  <thead>\n",
              "    <tr style=\"text-align: right;\">\n",
              "      <th></th>\n",
              "      <th>StateDesc</th>\n",
              "      <th>Category</th>\n",
              "      <th>CityFIPS</th>\n",
              "      <th>CityName</th>\n",
              "    </tr>\n",
              "  </thead>\n",
              "  <tbody>\n",
              "    <tr>\n",
              "      <th>85500</th>\n",
              "      <td>New York</td>\n",
              "      <td>Health Outcomes</td>\n",
              "      <td>3651000.0</td>\n",
              "      <td>New York</td>\n",
              "    </tr>\n",
              "    <tr>\n",
              "      <th>637008</th>\n",
              "      <td>New York</td>\n",
              "      <td>Health Outcomes</td>\n",
              "      <td>3651000.0</td>\n",
              "      <td>New York</td>\n",
              "    </tr>\n",
              "    <tr>\n",
              "      <th>404707</th>\n",
              "      <td>New York</td>\n",
              "      <td>Health Outcomes</td>\n",
              "      <td>3651000.0</td>\n",
              "      <td>New York</td>\n",
              "    </tr>\n",
              "    <tr>\n",
              "      <th>769091</th>\n",
              "      <td>New York</td>\n",
              "      <td>Health Outcomes</td>\n",
              "      <td>3651000.0</td>\n",
              "      <td>New York</td>\n",
              "    </tr>\n",
              "    <tr>\n",
              "      <th>370456</th>\n",
              "      <td>New York</td>\n",
              "      <td>Health Outcomes</td>\n",
              "      <td>3651000.0</td>\n",
              "      <td>New York</td>\n",
              "    </tr>\n",
              "  </tbody>\n",
              "</table>\n",
              "</div>\n",
              "      <button class=\"colab-df-convert\" onclick=\"convertToInteractive('df-3eab8ce0-8117-4632-a332-3834482a1279')\"\n",
              "              title=\"Convert this dataframe to an interactive table.\"\n",
              "              style=\"display:none;\">\n",
              "        \n",
              "  <svg xmlns=\"http://www.w3.org/2000/svg\" height=\"24px\"viewBox=\"0 0 24 24\"\n",
              "       width=\"24px\">\n",
              "    <path d=\"M0 0h24v24H0V0z\" fill=\"none\"/>\n",
              "    <path d=\"M18.56 5.44l.94 2.06.94-2.06 2.06-.94-2.06-.94-.94-2.06-.94 2.06-2.06.94zm-11 1L8.5 8.5l.94-2.06 2.06-.94-2.06-.94L8.5 2.5l-.94 2.06-2.06.94zm10 10l.94 2.06.94-2.06 2.06-.94-2.06-.94-.94-2.06-.94 2.06-2.06.94z\"/><path d=\"M17.41 7.96l-1.37-1.37c-.4-.4-.92-.59-1.43-.59-.52 0-1.04.2-1.43.59L10.3 9.45l-7.72 7.72c-.78.78-.78 2.05 0 2.83L4 21.41c.39.39.9.59 1.41.59.51 0 1.02-.2 1.41-.59l7.78-7.78 2.81-2.81c.8-.78.8-2.07 0-2.86zM5.41 20L4 18.59l7.72-7.72 1.47 1.35L5.41 20z\"/>\n",
              "  </svg>\n",
              "      </button>\n",
              "      \n",
              "  <style>\n",
              "    .colab-df-container {\n",
              "      display:flex;\n",
              "      flex-wrap:wrap;\n",
              "      gap: 12px;\n",
              "    }\n",
              "\n",
              "    .colab-df-convert {\n",
              "      background-color: #E8F0FE;\n",
              "      border: none;\n",
              "      border-radius: 50%;\n",
              "      cursor: pointer;\n",
              "      display: none;\n",
              "      fill: #1967D2;\n",
              "      height: 32px;\n",
              "      padding: 0 0 0 0;\n",
              "      width: 32px;\n",
              "    }\n",
              "\n",
              "    .colab-df-convert:hover {\n",
              "      background-color: #E2EBFA;\n",
              "      box-shadow: 0px 1px 2px rgba(60, 64, 67, 0.3), 0px 1px 3px 1px rgba(60, 64, 67, 0.15);\n",
              "      fill: #174EA6;\n",
              "    }\n",
              "\n",
              "    [theme=dark] .colab-df-convert {\n",
              "      background-color: #3B4455;\n",
              "      fill: #D2E3FC;\n",
              "    }\n",
              "\n",
              "    [theme=dark] .colab-df-convert:hover {\n",
              "      background-color: #434B5C;\n",
              "      box-shadow: 0px 1px 3px 1px rgba(0, 0, 0, 0.15);\n",
              "      filter: drop-shadow(0px 1px 2px rgba(0, 0, 0, 0.3));\n",
              "      fill: #FFFFFF;\n",
              "    }\n",
              "  </style>\n",
              "\n",
              "      <script>\n",
              "        const buttonEl =\n",
              "          document.querySelector('#df-3eab8ce0-8117-4632-a332-3834482a1279 button.colab-df-convert');\n",
              "        buttonEl.style.display =\n",
              "          google.colab.kernel.accessAllowed ? 'block' : 'none';\n",
              "\n",
              "        async function convertToInteractive(key) {\n",
              "          const element = document.querySelector('#df-3eab8ce0-8117-4632-a332-3834482a1279');\n",
              "          const dataTable =\n",
              "            await google.colab.kernel.invokeFunction('convertToInteractive',\n",
              "                                                     [key], {});\n",
              "          if (!dataTable) return;\n",
              "\n",
              "          const docLinkHtml = 'Like what you see? Visit the ' +\n",
              "            '<a target=\"_blank\" href=https://colab.research.google.com/notebooks/data_table.ipynb>data table notebook</a>'\n",
              "            + ' to learn more about interactive tables.';\n",
              "          element.innerHTML = '';\n",
              "          dataTable['output_type'] = 'display_data';\n",
              "          await google.colab.output.renderOutput(dataTable, element);\n",
              "          const docLink = document.createElement('div');\n",
              "          docLink.innerHTML = docLinkHtml;\n",
              "          element.appendChild(docLink);\n",
              "        }\n",
              "      </script>\n",
              "    </div>\n",
              "  </div>\n",
              "  "
            ]
          },
          "metadata": {},
          "execution_count": 43
        }
      ]
    },
    {
      "cell_type": "code",
      "source": [
        "NY_cat_HO.shape"
      ],
      "metadata": {
        "colab": {
          "base_uri": "https://localhost:8080/"
        },
        "id": "qttCo4g6HNLj",
        "outputId": "59325acf-893e-4eb5-a52f-f80669712706"
      },
      "execution_count": 44,
      "outputs": [
        {
          "output_type": "execute_result",
          "data": {
            "text/plain": [
              "(32586, 4)"
            ]
          },
          "metadata": {},
          "execution_count": 44
        }
      ]
    },
    {
      "cell_type": "markdown",
      "source": [
        "#### **Extracting the \"Prevention\" category from the dataframe of some important features**"
      ],
      "metadata": {
        "id": "AHU2cZLnHR9x"
      }
    },
    {
      "cell_type": "code",
      "source": [
        "NY_cat_prev = NY_cat[NY_cat[\"Category\"] == \"Prevention\"]\n",
        "NY_cat_prev.sample(5)"
      ],
      "metadata": {
        "colab": {
          "base_uri": "https://localhost:8080/",
          "height": 206
        },
        "id": "6_Nky-97HNIq",
        "outputId": "a8815e66-74fc-4e0d-efe0-6033ef06e510"
      },
      "execution_count": 45,
      "outputs": [
        {
          "output_type": "execute_result",
          "data": {
            "text/plain": [
              "       StateDesc    Category   CityFIPS      CityName\n",
              "390156  New York  Prevention  3651000.0      New York\n",
              "125380  New York  Prevention  3651000.0      New York\n",
              "318039  New York  Prevention  3649121.0  Mount Vernon\n",
              "444500  New York  Prevention  3651000.0      New York\n",
              "411525  New York  Prevention  3651000.0      New York"
            ],
            "text/html": [
              "\n",
              "  <div id=\"df-510495ed-284c-40ef-a0a2-24848d8b1341\">\n",
              "    <div class=\"colab-df-container\">\n",
              "      <div>\n",
              "<style scoped>\n",
              "    .dataframe tbody tr th:only-of-type {\n",
              "        vertical-align: middle;\n",
              "    }\n",
              "\n",
              "    .dataframe tbody tr th {\n",
              "        vertical-align: top;\n",
              "    }\n",
              "\n",
              "    .dataframe thead th {\n",
              "        text-align: right;\n",
              "    }\n",
              "</style>\n",
              "<table border=\"1\" class=\"dataframe\">\n",
              "  <thead>\n",
              "    <tr style=\"text-align: right;\">\n",
              "      <th></th>\n",
              "      <th>StateDesc</th>\n",
              "      <th>Category</th>\n",
              "      <th>CityFIPS</th>\n",
              "      <th>CityName</th>\n",
              "    </tr>\n",
              "  </thead>\n",
              "  <tbody>\n",
              "    <tr>\n",
              "      <th>390156</th>\n",
              "      <td>New York</td>\n",
              "      <td>Prevention</td>\n",
              "      <td>3651000.0</td>\n",
              "      <td>New York</td>\n",
              "    </tr>\n",
              "    <tr>\n",
              "      <th>125380</th>\n",
              "      <td>New York</td>\n",
              "      <td>Prevention</td>\n",
              "      <td>3651000.0</td>\n",
              "      <td>New York</td>\n",
              "    </tr>\n",
              "    <tr>\n",
              "      <th>318039</th>\n",
              "      <td>New York</td>\n",
              "      <td>Prevention</td>\n",
              "      <td>3649121.0</td>\n",
              "      <td>Mount Vernon</td>\n",
              "    </tr>\n",
              "    <tr>\n",
              "      <th>444500</th>\n",
              "      <td>New York</td>\n",
              "      <td>Prevention</td>\n",
              "      <td>3651000.0</td>\n",
              "      <td>New York</td>\n",
              "    </tr>\n",
              "    <tr>\n",
              "      <th>411525</th>\n",
              "      <td>New York</td>\n",
              "      <td>Prevention</td>\n",
              "      <td>3651000.0</td>\n",
              "      <td>New York</td>\n",
              "    </tr>\n",
              "  </tbody>\n",
              "</table>\n",
              "</div>\n",
              "      <button class=\"colab-df-convert\" onclick=\"convertToInteractive('df-510495ed-284c-40ef-a0a2-24848d8b1341')\"\n",
              "              title=\"Convert this dataframe to an interactive table.\"\n",
              "              style=\"display:none;\">\n",
              "        \n",
              "  <svg xmlns=\"http://www.w3.org/2000/svg\" height=\"24px\"viewBox=\"0 0 24 24\"\n",
              "       width=\"24px\">\n",
              "    <path d=\"M0 0h24v24H0V0z\" fill=\"none\"/>\n",
              "    <path d=\"M18.56 5.44l.94 2.06.94-2.06 2.06-.94-2.06-.94-.94-2.06-.94 2.06-2.06.94zm-11 1L8.5 8.5l.94-2.06 2.06-.94-2.06-.94L8.5 2.5l-.94 2.06-2.06.94zm10 10l.94 2.06.94-2.06 2.06-.94-2.06-.94-.94-2.06-.94 2.06-2.06.94z\"/><path d=\"M17.41 7.96l-1.37-1.37c-.4-.4-.92-.59-1.43-.59-.52 0-1.04.2-1.43.59L10.3 9.45l-7.72 7.72c-.78.78-.78 2.05 0 2.83L4 21.41c.39.39.9.59 1.41.59.51 0 1.02-.2 1.41-.59l7.78-7.78 2.81-2.81c.8-.78.8-2.07 0-2.86zM5.41 20L4 18.59l7.72-7.72 1.47 1.35L5.41 20z\"/>\n",
              "  </svg>\n",
              "      </button>\n",
              "      \n",
              "  <style>\n",
              "    .colab-df-container {\n",
              "      display:flex;\n",
              "      flex-wrap:wrap;\n",
              "      gap: 12px;\n",
              "    }\n",
              "\n",
              "    .colab-df-convert {\n",
              "      background-color: #E8F0FE;\n",
              "      border: none;\n",
              "      border-radius: 50%;\n",
              "      cursor: pointer;\n",
              "      display: none;\n",
              "      fill: #1967D2;\n",
              "      height: 32px;\n",
              "      padding: 0 0 0 0;\n",
              "      width: 32px;\n",
              "    }\n",
              "\n",
              "    .colab-df-convert:hover {\n",
              "      background-color: #E2EBFA;\n",
              "      box-shadow: 0px 1px 2px rgba(60, 64, 67, 0.3), 0px 1px 3px 1px rgba(60, 64, 67, 0.15);\n",
              "      fill: #174EA6;\n",
              "    }\n",
              "\n",
              "    [theme=dark] .colab-df-convert {\n",
              "      background-color: #3B4455;\n",
              "      fill: #D2E3FC;\n",
              "    }\n",
              "\n",
              "    [theme=dark] .colab-df-convert:hover {\n",
              "      background-color: #434B5C;\n",
              "      box-shadow: 0px 1px 3px 1px rgba(0, 0, 0, 0.15);\n",
              "      filter: drop-shadow(0px 1px 2px rgba(0, 0, 0, 0.3));\n",
              "      fill: #FFFFFF;\n",
              "    }\n",
              "  </style>\n",
              "\n",
              "      <script>\n",
              "        const buttonEl =\n",
              "          document.querySelector('#df-510495ed-284c-40ef-a0a2-24848d8b1341 button.colab-df-convert');\n",
              "        buttonEl.style.display =\n",
              "          google.colab.kernel.accessAllowed ? 'block' : 'none';\n",
              "\n",
              "        async function convertToInteractive(key) {\n",
              "          const element = document.querySelector('#df-510495ed-284c-40ef-a0a2-24848d8b1341');\n",
              "          const dataTable =\n",
              "            await google.colab.kernel.invokeFunction('convertToInteractive',\n",
              "                                                     [key], {});\n",
              "          if (!dataTable) return;\n",
              "\n",
              "          const docLinkHtml = 'Like what you see? Visit the ' +\n",
              "            '<a target=\"_blank\" href=https://colab.research.google.com/notebooks/data_table.ipynb>data table notebook</a>'\n",
              "            + ' to learn more about interactive tables.';\n",
              "          element.innerHTML = '';\n",
              "          dataTable['output_type'] = 'display_data';\n",
              "          await google.colab.output.renderOutput(dataTable, element);\n",
              "          const docLink = document.createElement('div');\n",
              "          docLink.innerHTML = docLinkHtml;\n",
              "          element.appendChild(docLink);\n",
              "        }\n",
              "      </script>\n",
              "    </div>\n",
              "  </div>\n",
              "  "
            ]
          },
          "metadata": {},
          "execution_count": 45
        }
      ]
    },
    {
      "cell_type": "code",
      "source": [
        "NY_cat_prev.shape"
      ],
      "metadata": {
        "colab": {
          "base_uri": "https://localhost:8080/"
        },
        "id": "YOHrKUe0HNF1",
        "outputId": "385b497e-7180-4a49-93b0-64956b9b4a33"
      },
      "execution_count": 46,
      "outputs": [
        {
          "output_type": "execute_result",
          "data": {
            "text/plain": [
              "(25007, 4)"
            ]
          },
          "metadata": {},
          "execution_count": 46
        }
      ]
    },
    {
      "cell_type": "markdown",
      "source": [
        "#### **Extracting the \"Health Outcomes\" category from the dataframe of some important features**"
      ],
      "metadata": {
        "id": "LI3KRj_IHZRt"
      }
    },
    {
      "cell_type": "code",
      "source": [
        "NY_cat_unheal = NY_cat[NY_cat[\"Category\"] == \"Unhealthy Behaviors\"]\n",
        "NY_cat_unheal.sample(5)"
      ],
      "metadata": {
        "colab": {
          "base_uri": "https://localhost:8080/",
          "height": 206
        },
        "id": "iUw_J6JeHNBp",
        "outputId": "3b1b83e8-7f29-4311-c3ea-060bc2714853"
      },
      "execution_count": 47,
      "outputs": [
        {
          "output_type": "execute_result",
          "data": {
            "text/plain": [
              "       StateDesc             Category   CityFIPS   CityName\n",
              "725622  New York  Unhealthy Behaviors  3651000.0   New York\n",
              "628342  New York  Unhealthy Behaviors  3651000.0   New York\n",
              "537629  New York  Unhealthy Behaviors  3651000.0   New York\n",
              "187850  New York  Unhealthy Behaviors  3651000.0   New York\n",
              "703246  New York  Unhealthy Behaviors  3663000.0  Rochester"
            ],
            "text/html": [
              "\n",
              "  <div id=\"df-59b6f567-795b-43db-a188-698bc6cbf843\">\n",
              "    <div class=\"colab-df-container\">\n",
              "      <div>\n",
              "<style scoped>\n",
              "    .dataframe tbody tr th:only-of-type {\n",
              "        vertical-align: middle;\n",
              "    }\n",
              "\n",
              "    .dataframe tbody tr th {\n",
              "        vertical-align: top;\n",
              "    }\n",
              "\n",
              "    .dataframe thead th {\n",
              "        text-align: right;\n",
              "    }\n",
              "</style>\n",
              "<table border=\"1\" class=\"dataframe\">\n",
              "  <thead>\n",
              "    <tr style=\"text-align: right;\">\n",
              "      <th></th>\n",
              "      <th>StateDesc</th>\n",
              "      <th>Category</th>\n",
              "      <th>CityFIPS</th>\n",
              "      <th>CityName</th>\n",
              "    </tr>\n",
              "  </thead>\n",
              "  <tbody>\n",
              "    <tr>\n",
              "      <th>725622</th>\n",
              "      <td>New York</td>\n",
              "      <td>Unhealthy Behaviors</td>\n",
              "      <td>3651000.0</td>\n",
              "      <td>New York</td>\n",
              "    </tr>\n",
              "    <tr>\n",
              "      <th>628342</th>\n",
              "      <td>New York</td>\n",
              "      <td>Unhealthy Behaviors</td>\n",
              "      <td>3651000.0</td>\n",
              "      <td>New York</td>\n",
              "    </tr>\n",
              "    <tr>\n",
              "      <th>537629</th>\n",
              "      <td>New York</td>\n",
              "      <td>Unhealthy Behaviors</td>\n",
              "      <td>3651000.0</td>\n",
              "      <td>New York</td>\n",
              "    </tr>\n",
              "    <tr>\n",
              "      <th>187850</th>\n",
              "      <td>New York</td>\n",
              "      <td>Unhealthy Behaviors</td>\n",
              "      <td>3651000.0</td>\n",
              "      <td>New York</td>\n",
              "    </tr>\n",
              "    <tr>\n",
              "      <th>703246</th>\n",
              "      <td>New York</td>\n",
              "      <td>Unhealthy Behaviors</td>\n",
              "      <td>3663000.0</td>\n",
              "      <td>Rochester</td>\n",
              "    </tr>\n",
              "  </tbody>\n",
              "</table>\n",
              "</div>\n",
              "      <button class=\"colab-df-convert\" onclick=\"convertToInteractive('df-59b6f567-795b-43db-a188-698bc6cbf843')\"\n",
              "              title=\"Convert this dataframe to an interactive table.\"\n",
              "              style=\"display:none;\">\n",
              "        \n",
              "  <svg xmlns=\"http://www.w3.org/2000/svg\" height=\"24px\"viewBox=\"0 0 24 24\"\n",
              "       width=\"24px\">\n",
              "    <path d=\"M0 0h24v24H0V0z\" fill=\"none\"/>\n",
              "    <path d=\"M18.56 5.44l.94 2.06.94-2.06 2.06-.94-2.06-.94-.94-2.06-.94 2.06-2.06.94zm-11 1L8.5 8.5l.94-2.06 2.06-.94-2.06-.94L8.5 2.5l-.94 2.06-2.06.94zm10 10l.94 2.06.94-2.06 2.06-.94-2.06-.94-.94-2.06-.94 2.06-2.06.94z\"/><path d=\"M17.41 7.96l-1.37-1.37c-.4-.4-.92-.59-1.43-.59-.52 0-1.04.2-1.43.59L10.3 9.45l-7.72 7.72c-.78.78-.78 2.05 0 2.83L4 21.41c.39.39.9.59 1.41.59.51 0 1.02-.2 1.41-.59l7.78-7.78 2.81-2.81c.8-.78.8-2.07 0-2.86zM5.41 20L4 18.59l7.72-7.72 1.47 1.35L5.41 20z\"/>\n",
              "  </svg>\n",
              "      </button>\n",
              "      \n",
              "  <style>\n",
              "    .colab-df-container {\n",
              "      display:flex;\n",
              "      flex-wrap:wrap;\n",
              "      gap: 12px;\n",
              "    }\n",
              "\n",
              "    .colab-df-convert {\n",
              "      background-color: #E8F0FE;\n",
              "      border: none;\n",
              "      border-radius: 50%;\n",
              "      cursor: pointer;\n",
              "      display: none;\n",
              "      fill: #1967D2;\n",
              "      height: 32px;\n",
              "      padding: 0 0 0 0;\n",
              "      width: 32px;\n",
              "    }\n",
              "\n",
              "    .colab-df-convert:hover {\n",
              "      background-color: #E2EBFA;\n",
              "      box-shadow: 0px 1px 2px rgba(60, 64, 67, 0.3), 0px 1px 3px 1px rgba(60, 64, 67, 0.15);\n",
              "      fill: #174EA6;\n",
              "    }\n",
              "\n",
              "    [theme=dark] .colab-df-convert {\n",
              "      background-color: #3B4455;\n",
              "      fill: #D2E3FC;\n",
              "    }\n",
              "\n",
              "    [theme=dark] .colab-df-convert:hover {\n",
              "      background-color: #434B5C;\n",
              "      box-shadow: 0px 1px 3px 1px rgba(0, 0, 0, 0.15);\n",
              "      filter: drop-shadow(0px 1px 2px rgba(0, 0, 0, 0.3));\n",
              "      fill: #FFFFFF;\n",
              "    }\n",
              "  </style>\n",
              "\n",
              "      <script>\n",
              "        const buttonEl =\n",
              "          document.querySelector('#df-59b6f567-795b-43db-a188-698bc6cbf843 button.colab-df-convert');\n",
              "        buttonEl.style.display =\n",
              "          google.colab.kernel.accessAllowed ? 'block' : 'none';\n",
              "\n",
              "        async function convertToInteractive(key) {\n",
              "          const element = document.querySelector('#df-59b6f567-795b-43db-a188-698bc6cbf843');\n",
              "          const dataTable =\n",
              "            await google.colab.kernel.invokeFunction('convertToInteractive',\n",
              "                                                     [key], {});\n",
              "          if (!dataTable) return;\n",
              "\n",
              "          const docLinkHtml = 'Like what you see? Visit the ' +\n",
              "            '<a target=\"_blank\" href=https://colab.research.google.com/notebooks/data_table.ipynb>data table notebook</a>'\n",
              "            + ' to learn more about interactive tables.';\n",
              "          element.innerHTML = '';\n",
              "          dataTable['output_type'] = 'display_data';\n",
              "          await google.colab.output.renderOutput(dataTable, element);\n",
              "          const docLink = document.createElement('div');\n",
              "          docLink.innerHTML = docLinkHtml;\n",
              "          element.appendChild(docLink);\n",
              "        }\n",
              "      </script>\n",
              "    </div>\n",
              "  </div>\n",
              "  "
            ]
          },
          "metadata": {},
          "execution_count": 47
        }
      ]
    },
    {
      "cell_type": "code",
      "source": [
        "NY_cat_unheal.shape"
      ],
      "metadata": {
        "colab": {
          "base_uri": "https://localhost:8080/"
        },
        "id": "KUyI4LgXHM_H",
        "outputId": "b4d968d4-0a74-4013-b328-c4dddf64abc3"
      },
      "execution_count": 48,
      "outputs": [
        {
          "output_type": "execute_result",
          "data": {
            "text/plain": [
              "(12540, 4)"
            ]
          },
          "metadata": {},
          "execution_count": 48
        }
      ]
    },
    {
      "cell_type": "code",
      "source": [
        "NY_cat_count = NY_cat['Category'].value_counts()\n",
        "NY_cat_count.plot(kind='bar',figsize=(6,4), width = 0.4, color = ['yellow', 'pink', 'yellow'], edgecolor='black')\n",
        "plt.title('Category wise division for New York state')\n",
        "plt.xlabel(\"Categories\")\n",
        "plt.ylabel(\"Rate of category\")\n",
        "plt.show()"
      ],
      "metadata": {
        "colab": {
          "base_uri": "https://localhost:8080/",
          "height": 489
        },
        "id": "1KH941zyHM8l",
        "outputId": "903a84f3-61d1-4b77-ba77-3ca7c7497a1c"
      },
      "execution_count": 49,
      "outputs": [
        {
          "output_type": "display_data",
          "data": {
            "text/plain": [
              "<Figure size 600x400 with 1 Axes>"
            ],
            "image/png": "[encoded data removed]"
          },
          "metadata": {}
        }
      ]
    },
    {
      "cell_type": "markdown",
      "source": [
        "### **Working on \"Oklahoma\" state records.**"
      ],
      "metadata": {
        "id": "Nbd81s3PHh8v"
      }
    },
    {
      "cell_type": "code",
      "source": [
        "okl_cat = sta_cat[sta_cat[\"StateDesc\"] == \"Oklahoma\"]\n",
        "okl_cat.sample(5)"
      ],
      "metadata": {
        "colab": {
          "base_uri": "https://localhost:8080/",
          "height": 206
        },
        "id": "xuORs2qKHM6e",
        "outputId": "b9a73a13-7c1e-4579-aa03-2bbf5754a059"
      },
      "execution_count": 50,
      "outputs": [
        {
          "output_type": "execute_result",
          "data": {
            "text/plain": [
              "       StateDesc             Category   CityFIPS       CityName\n",
              "241030  Oklahoma  Unhealthy Behaviors  4055000.0  Oklahoma City\n",
              "572511  Oklahoma           Prevention  4041850.0         Lawton\n",
              "328550  Oklahoma  Unhealthy Behaviors  4055000.0  Oklahoma City\n",
              "724871  Oklahoma      Health Outcomes  4055000.0  Oklahoma City\n",
              "365745  Oklahoma      Health Outcomes  4055000.0  Oklahoma City"
            ],
            "text/html": [
              "\n",
              "  <div id=\"df-496a32ee-974f-4a87-92eb-7e0499093591\">\n",
              "    <div class=\"colab-df-container\">\n",
              "      <div>\n",
              "<style scoped>\n",
              "    .dataframe tbody tr th:only-of-type {\n",
              "        vertical-align: middle;\n",
              "    }\n",
              "\n",
              "    .dataframe tbody tr th {\n",
              "        vertical-align: top;\n",
              "    }\n",
              "\n",
              "    .dataframe thead th {\n",
              "        text-align: right;\n",
              "    }\n",
              "</style>\n",
              "<table border=\"1\" class=\"dataframe\">\n",
              "  <thead>\n",
              "    <tr style=\"text-align: right;\">\n",
              "      <th></th>\n",
              "      <th>StateDesc</th>\n",
              "      <th>Category</th>\n",
              "      <th>CityFIPS</th>\n",
              "      <th>CityName</th>\n",
              "    </tr>\n",
              "  </thead>\n",
              "  <tbody>\n",
              "    <tr>\n",
              "      <th>241030</th>\n",
              "      <td>Oklahoma</td>\n",
              "      <td>Unhealthy Behaviors</td>\n",
              "      <td>4055000.0</td>\n",
              "      <td>Oklahoma City</td>\n",
              "    </tr>\n",
              "    <tr>\n",
              "      <th>572511</th>\n",
              "      <td>Oklahoma</td>\n",
              "      <td>Prevention</td>\n",
              "      <td>4041850.0</td>\n",
              "      <td>Lawton</td>\n",
              "    </tr>\n",
              "    <tr>\n",
              "      <th>328550</th>\n",
              "      <td>Oklahoma</td>\n",
              "      <td>Unhealthy Behaviors</td>\n",
              "      <td>4055000.0</td>\n",
              "      <td>Oklahoma City</td>\n",
              "    </tr>\n",
              "    <tr>\n",
              "      <th>724871</th>\n",
              "      <td>Oklahoma</td>\n",
              "      <td>Health Outcomes</td>\n",
              "      <td>4055000.0</td>\n",
              "      <td>Oklahoma City</td>\n",
              "    </tr>\n",
              "    <tr>\n",
              "      <th>365745</th>\n",
              "      <td>Oklahoma</td>\n",
              "      <td>Health Outcomes</td>\n",
              "      <td>4055000.0</td>\n",
              "      <td>Oklahoma City</td>\n",
              "    </tr>\n",
              "  </tbody>\n",
              "</table>\n",
              "</div>\n",
              "      <button class=\"colab-df-convert\" onclick=\"convertToInteractive('df-496a32ee-974f-4a87-92eb-7e0499093591')\"\n",
              "              title=\"Convert this dataframe to an interactive table.\"\n",
              "              style=\"display:none;\">\n",
              "        \n",
              "  <svg xmlns=\"http://www.w3.org/2000/svg\" height=\"24px\"viewBox=\"0 0 24 24\"\n",
              "       width=\"24px\">\n",
              "    <path d=\"M0 0h24v24H0V0z\" fill=\"none\"/>\n",
              "    <path d=\"M18.56 5.44l.94 2.06.94-2.06 2.06-.94-2.06-.94-.94-2.06-.94 2.06-2.06.94zm-11 1L8.5 8.5l.94-2.06 2.06-.94-2.06-.94L8.5 2.5l-.94 2.06-2.06.94zm10 10l.94 2.06.94-2.06 2.06-.94-2.06-.94-.94-2.06-.94 2.06-2.06.94z\"/><path d=\"M17.41 7.96l-1.37-1.37c-.4-.4-.92-.59-1.43-.59-.52 0-1.04.2-1.43.59L10.3 9.45l-7.72 7.72c-.78.78-.78 2.05 0 2.83L4 21.41c.39.39.9.59 1.41.59.51 0 1.02-.2 1.41-.59l7.78-7.78 2.81-2.81c.8-.78.8-2.07 0-2.86zM5.41 20L4 18.59l7.72-7.72 1.47 1.35L5.41 20z\"/>\n",
              "  </svg>\n",
              "      </button>\n",
              "      \n",
              "  <style>\n",
              "    .colab-df-container {\n",
              "      display:flex;\n",
              "      flex-wrap:wrap;\n",
              "      gap: 12px;\n",
              "    }\n",
              "\n",
              "    .colab-df-convert {\n",
              "      background-color: #E8F0FE;\n",
              "      border: none;\n",
              "      border-radius: 50%;\n",
              "      cursor: pointer;\n",
              "      display: none;\n",
              "      fill: #1967D2;\n",
              "      height: 32px;\n",
              "      padding: 0 0 0 0;\n",
              "      width: 32px;\n",
              "    }\n",
              "\n",
              "    .colab-df-convert:hover {\n",
              "      background-color: #E2EBFA;\n",
              "      box-shadow: 0px 1px 2px rgba(60, 64, 67, 0.3), 0px 1px 3px 1px rgba(60, 64, 67, 0.15);\n",
              "      fill: #174EA6;\n",
              "    }\n",
              "\n",
              "    [theme=dark] .colab-df-convert {\n",
              "      background-color: #3B4455;\n",
              "      fill: #D2E3FC;\n",
              "    }\n",
              "\n",
              "    [theme=dark] .colab-df-convert:hover {\n",
              "      background-color: #434B5C;\n",
              "      box-shadow: 0px 1px 3px 1px rgba(0, 0, 0, 0.15);\n",
              "      filter: drop-shadow(0px 1px 2px rgba(0, 0, 0, 0.3));\n",
              "      fill: #FFFFFF;\n",
              "    }\n",
              "  </style>\n",
              "\n",
              "      <script>\n",
              "        const buttonEl =\n",
              "          document.querySelector('#df-496a32ee-974f-4a87-92eb-7e0499093591 button.colab-df-convert');\n",
              "        buttonEl.style.display =\n",
              "          google.colab.kernel.accessAllowed ? 'block' : 'none';\n",
              "\n",
              "        async function convertToInteractive(key) {\n",
              "          const element = document.querySelector('#df-496a32ee-974f-4a87-92eb-7e0499093591');\n",
              "          const dataTable =\n",
              "            await google.colab.kernel.invokeFunction('convertToInteractive',\n",
              "                                                     [key], {});\n",
              "          if (!dataTable) return;\n",
              "\n",
              "          const docLinkHtml = 'Like what you see? Visit the ' +\n",
              "            '<a target=\"_blank\" href=https://colab.research.google.com/notebooks/data_table.ipynb>data table notebook</a>'\n",
              "            + ' to learn more about interactive tables.';\n",
              "          element.innerHTML = '';\n",
              "          dataTable['output_type'] = 'display_data';\n",
              "          await google.colab.output.renderOutput(dataTable, element);\n",
              "          const docLink = document.createElement('div');\n",
              "          docLink.innerHTML = docLinkHtml;\n",
              "          element.appendChild(docLink);\n",
              "        }\n",
              "      </script>\n",
              "    </div>\n",
              "  </div>\n",
              "  "
            ]
          },
          "metadata": {},
          "execution_count": 50
        }
      ]
    },
    {
      "cell_type": "markdown",
      "source": [
        "#### **Extracting the \"Health Outcomes\" category for Oklahoma state**"
      ],
      "metadata": {
        "id": "rMDDlBqtHnWj"
      }
    },
    {
      "cell_type": "code",
      "source": [
        "okl_cat_HO = okl_cat[okl_cat[\"Category\"] == \"Health Outcomes\"]\n",
        "okl_cat_HO.sample(5)"
      ],
      "metadata": {
        "colab": {
          "base_uri": "https://localhost:8080/",
          "height": 206
        },
        "id": "bs_98m8UHM3m",
        "outputId": "6ff1468d-97a8-4c5f-ab5a-c912cdd55fb5"
      },
      "execution_count": 51,
      "outputs": [
        {
          "output_type": "execute_result",
          "data": {
            "text/plain": [
              "       StateDesc         Category   CityFIPS       CityName\n",
              "249119  Oklahoma  Health Outcomes  4055000.0  Oklahoma City\n",
              "467640  Oklahoma  Health Outcomes  4055000.0  Oklahoma City\n",
              "229439  Oklahoma  Health Outcomes  4055000.0  Oklahoma City\n",
              "374505  Oklahoma  Health Outcomes  4055000.0  Oklahoma City\n",
              "721675  Oklahoma  Health Outcomes  4075000.0          Tulsa"
            ],
            "text/html": [
              "\n",
              "  <div id=\"df-584310d1-39d8-43d7-8911-5f8081c0d8ff\">\n",
              "    <div class=\"colab-df-container\">\n",
              "      <div>\n",
              "<style scoped>\n",
              "    .dataframe tbody tr th:only-of-type {\n",
              "        vertical-align: middle;\n",
              "    }\n",
              "\n",
              "    .dataframe tbody tr th {\n",
              "        vertical-align: top;\n",
              "    }\n",
              "\n",
              "    .dataframe thead th {\n",
              "        text-align: right;\n",
              "    }\n",
              "</style>\n",
              "<table border=\"1\" class=\"dataframe\">\n",
              "  <thead>\n",
              "    <tr style=\"text-align: right;\">\n",
              "      <th></th>\n",
              "      <th>StateDesc</th>\n",
              "      <th>Category</th>\n",
              "      <th>CityFIPS</th>\n",
              "      <th>CityName</th>\n",
              "    </tr>\n",
              "  </thead>\n",
              "  <tbody>\n",
              "    <tr>\n",
              "      <th>249119</th>\n",
              "      <td>Oklahoma</td>\n",
              "      <td>Health Outcomes</td>\n",
              "      <td>4055000.0</td>\n",
              "      <td>Oklahoma City</td>\n",
              "    </tr>\n",
              "    <tr>\n",
              "      <th>467640</th>\n",
              "      <td>Oklahoma</td>\n",
              "      <td>Health Outcomes</td>\n",
              "      <td>4055000.0</td>\n",
              "      <td>Oklahoma City</td>\n",
              "    </tr>\n",
              "    <tr>\n",
              "      <th>229439</th>\n",
              "      <td>Oklahoma</td>\n",
              "      <td>Health Outcomes</td>\n",
              "      <td>4055000.0</td>\n",
              "      <td>Oklahoma City</td>\n",
              "    </tr>\n",
              "    <tr>\n",
              "      <th>374505</th>\n",
              "      <td>Oklahoma</td>\n",
              "      <td>Health Outcomes</td>\n",
              "      <td>4055000.0</td>\n",
              "      <td>Oklahoma City</td>\n",
              "    </tr>\n",
              "    <tr>\n",
              "      <th>721675</th>\n",
              "      <td>Oklahoma</td>\n",
              "      <td>Health Outcomes</td>\n",
              "      <td>4075000.0</td>\n",
              "      <td>Tulsa</td>\n",
              "    </tr>\n",
              "  </tbody>\n",
              "</table>\n",
              "</div>\n",
              "      <button class=\"colab-df-convert\" onclick=\"convertToInteractive('df-584310d1-39d8-43d7-8911-5f8081c0d8ff')\"\n",
              "              title=\"Convert this dataframe to an interactive table.\"\n",
              "              style=\"display:none;\">\n",
              "        \n",
              "  <svg xmlns=\"http://www.w3.org/2000/svg\" height=\"24px\"viewBox=\"0 0 24 24\"\n",
              "       width=\"24px\">\n",
              "    <path d=\"M0 0h24v24H0V0z\" fill=\"none\"/>\n",
              "    <path d=\"M18.56 5.44l.94 2.06.94-2.06 2.06-.94-2.06-.94-.94-2.06-.94 2.06-2.06.94zm-11 1L8.5 8.5l.94-2.06 2.06-.94-2.06-.94L8.5 2.5l-.94 2.06-2.06.94zm10 10l.94 2.06.94-2.06 2.06-.94-2.06-.94-.94-2.06-.94 2.06-2.06.94z\"/><path d=\"M17.41 7.96l-1.37-1.37c-.4-.4-.92-.59-1.43-.59-.52 0-1.04.2-1.43.59L10.3 9.45l-7.72 7.72c-.78.78-.78 2.05 0 2.83L4 21.41c.39.39.9.59 1.41.59.51 0 1.02-.2 1.41-.59l7.78-7.78 2.81-2.81c.8-.78.8-2.07 0-2.86zM5.41 20L4 18.59l7.72-7.72 1.47 1.35L5.41 20z\"/>\n",
              "  </svg>\n",
              "      </button>\n",
              "      \n",
              "  <style>\n",
              "    .colab-df-container {\n",
              "      display:flex;\n",
              "      flex-wrap:wrap;\n",
              "      gap: 12px;\n",
              "    }\n",
              "\n",
              "    .colab-df-convert {\n",
              "      background-color: #E8F0FE;\n",
              "      border: none;\n",
              "      border-radius: 50%;\n",
              "      cursor: pointer;\n",
              "      display: none;\n",
              "      fill: #1967D2;\n",
              "      height: 32px;\n",
              "      padding: 0 0 0 0;\n",
              "      width: 32px;\n",
              "    }\n",
              "\n",
              "    .colab-df-convert:hover {\n",
              "      background-color: #E2EBFA;\n",
              "      box-shadow: 0px 1px 2px rgba(60, 64, 67, 0.3), 0px 1px 3px 1px rgba(60, 64, 67, 0.15);\n",
              "      fill: #174EA6;\n",
              "    }\n",
              "\n",
              "    [theme=dark] .colab-df-convert {\n",
              "      background-color: #3B4455;\n",
              "      fill: #D2E3FC;\n",
              "    }\n",
              "\n",
              "    [theme=dark] .colab-df-convert:hover {\n",
              "      background-color: #434B5C;\n",
              "      box-shadow: 0px 1px 3px 1px rgba(0, 0, 0, 0.15);\n",
              "      filter: drop-shadow(0px 1px 2px rgba(0, 0, 0, 0.3));\n",
              "      fill: #FFFFFF;\n",
              "    }\n",
              "  </style>\n",
              "\n",
              "      <script>\n",
              "        const buttonEl =\n",
              "          document.querySelector('#df-584310d1-39d8-43d7-8911-5f8081c0d8ff button.colab-df-convert');\n",
              "        buttonEl.style.display =\n",
              "          google.colab.kernel.accessAllowed ? 'block' : 'none';\n",
              "\n",
              "        async function convertToInteractive(key) {\n",
              "          const element = document.querySelector('#df-584310d1-39d8-43d7-8911-5f8081c0d8ff');\n",
              "          const dataTable =\n",
              "            await google.colab.kernel.invokeFunction('convertToInteractive',\n",
              "                                                     [key], {});\n",
              "          if (!dataTable) return;\n",
              "\n",
              "          const docLinkHtml = 'Like what you see? Visit the ' +\n",
              "            '<a target=\"_blank\" href=https://colab.research.google.com/notebooks/data_table.ipynb>data table notebook</a>'\n",
              "            + ' to learn more about interactive tables.';\n",
              "          element.innerHTML = '';\n",
              "          dataTable['output_type'] = 'display_data';\n",
              "          await google.colab.output.renderOutput(dataTable, element);\n",
              "          const docLink = document.createElement('div');\n",
              "          docLink.innerHTML = docLinkHtml;\n",
              "          element.appendChild(docLink);\n",
              "        }\n",
              "      </script>\n",
              "    </div>\n",
              "  </div>\n",
              "  "
            ]
          },
          "metadata": {},
          "execution_count": 51
        }
      ]
    },
    {
      "cell_type": "markdown",
      "source": [
        "#### **Extracting the \"Unhealthy Behaviors\" category for Oklahoma state**"
      ],
      "metadata": {
        "id": "O3dHl07lHrgL"
      }
    },
    {
      "cell_type": "code",
      "source": [
        "okl_cat_unheal = okl_cat[okl_cat[\"Category\"] == \"Unhealthy Behaviors\"]\n",
        "okl_cat_unheal.sample(5)"
      ],
      "metadata": {
        "colab": {
          "base_uri": "https://localhost:8080/",
          "height": 206
        },
        "id": "MPS5MNgxHM1l",
        "outputId": "1ba72f18-a38d-4c3e-bf5e-50d9187f726b"
      },
      "execution_count": 52,
      "outputs": [
        {
          "output_type": "execute_result",
          "data": {
            "text/plain": [
              "       StateDesc             Category   CityFIPS       CityName\n",
              "594532  Oklahoma  Unhealthy Behaviors  4055000.0  Oklahoma City\n",
              "326551  Oklahoma  Unhealthy Behaviors  4075000.0          Tulsa\n",
              "547154  Oklahoma  Unhealthy Behaviors  4075000.0          Tulsa\n",
              "623225  Oklahoma  Unhealthy Behaviors  4023200.0         Edmond\n",
              "425690  Oklahoma  Unhealthy Behaviors  4075000.0          Tulsa"
            ],
            "text/html": [
              "\n",
              "  <div id=\"df-52a41dcc-04da-4a8b-b382-1f554ed991c2\">\n",
              "    <div class=\"colab-df-container\">\n",
              "      <div>\n",
              "<style scoped>\n",
              "    .dataframe tbody tr th:only-of-type {\n",
              "        vertical-align: middle;\n",
              "    }\n",
              "\n",
              "    .dataframe tbody tr th {\n",
              "        vertical-align: top;\n",
              "    }\n",
              "\n",
              "    .dataframe thead th {\n",
              "        text-align: right;\n",
              "    }\n",
              "</style>\n",
              "<table border=\"1\" class=\"dataframe\">\n",
              "  <thead>\n",
              "    <tr style=\"text-align: right;\">\n",
              "      <th></th>\n",
              "      <th>StateDesc</th>\n",
              "      <th>Category</th>\n",
              "      <th>CityFIPS</th>\n",
              "      <th>CityName</th>\n",
              "    </tr>\n",
              "  </thead>\n",
              "  <tbody>\n",
              "    <tr>\n",
              "      <th>594532</th>\n",
              "      <td>Oklahoma</td>\n",
              "      <td>Unhealthy Behaviors</td>\n",
              "      <td>4055000.0</td>\n",
              "      <td>Oklahoma City</td>\n",
              "    </tr>\n",
              "    <tr>\n",
              "      <th>326551</th>\n",
              "      <td>Oklahoma</td>\n",
              "      <td>Unhealthy Behaviors</td>\n",
              "      <td>4075000.0</td>\n",
              "      <td>Tulsa</td>\n",
              "    </tr>\n",
              "    <tr>\n",
              "      <th>547154</th>\n",
              "      <td>Oklahoma</td>\n",
              "      <td>Unhealthy Behaviors</td>\n",
              "      <td>4075000.0</td>\n",
              "      <td>Tulsa</td>\n",
              "    </tr>\n",
              "    <tr>\n",
              "      <th>623225</th>\n",
              "      <td>Oklahoma</td>\n",
              "      <td>Unhealthy Behaviors</td>\n",
              "      <td>4023200.0</td>\n",
              "      <td>Edmond</td>\n",
              "    </tr>\n",
              "    <tr>\n",
              "      <th>425690</th>\n",
              "      <td>Oklahoma</td>\n",
              "      <td>Unhealthy Behaviors</td>\n",
              "      <td>4075000.0</td>\n",
              "      <td>Tulsa</td>\n",
              "    </tr>\n",
              "  </tbody>\n",
              "</table>\n",
              "</div>\n",
              "      <button class=\"colab-df-convert\" onclick=\"convertToInteractive('df-52a41dcc-04da-4a8b-b382-1f554ed991c2')\"\n",
              "              title=\"Convert this dataframe to an interactive table.\"\n",
              "              style=\"display:none;\">\n",
              "        \n",
              "  <svg xmlns=\"http://www.w3.org/2000/svg\" height=\"24px\"viewBox=\"0 0 24 24\"\n",
              "       width=\"24px\">\n",
              "    <path d=\"M0 0h24v24H0V0z\" fill=\"none\"/>\n",
              "    <path d=\"M18.56 5.44l.94 2.06.94-2.06 2.06-.94-2.06-.94-.94-2.06-.94 2.06-2.06.94zm-11 1L8.5 8.5l.94-2.06 2.06-.94-2.06-.94L8.5 2.5l-.94 2.06-2.06.94zm10 10l.94 2.06.94-2.06 2.06-.94-2.06-.94-.94-2.06-.94 2.06-2.06.94z\"/><path d=\"M17.41 7.96l-1.37-1.37c-.4-.4-.92-.59-1.43-.59-.52 0-1.04.2-1.43.59L10.3 9.45l-7.72 7.72c-.78.78-.78 2.05 0 2.83L4 21.41c.39.39.9.59 1.41.59.51 0 1.02-.2 1.41-.59l7.78-7.78 2.81-2.81c.8-.78.8-2.07 0-2.86zM5.41 20L4 18.59l7.72-7.72 1.47 1.35L5.41 20z\"/>\n",
              "  </svg>\n",
              "      </button>\n",
              "      \n",
              "  <style>\n",
              "    .colab-df-container {\n",
              "      display:flex;\n",
              "      flex-wrap:wrap;\n",
              "      gap: 12px;\n",
              "    }\n",
              "\n",
              "    .colab-df-convert {\n",
              "      background-color: #E8F0FE;\n",
              "      border: none;\n",
              "      border-radius: 50%;\n",
              "      cursor: pointer;\n",
              "      display: none;\n",
              "      fill: #1967D2;\n",
              "      height: 32px;\n",
              "      padding: 0 0 0 0;\n",
              "      width: 32px;\n",
              "    }\n",
              "\n",
              "    .colab-df-convert:hover {\n",
              "      background-color: #E2EBFA;\n",
              "      box-shadow: 0px 1px 2px rgba(60, 64, 67, 0.3), 0px 1px 3px 1px rgba(60, 64, 67, 0.15);\n",
              "      fill: #174EA6;\n",
              "    }\n",
              "\n",
              "    [theme=dark] .colab-df-convert {\n",
              "      background-color: #3B4455;\n",
              "      fill: #D2E3FC;\n",
              "    }\n",
              "\n",
              "    [theme=dark] .colab-df-convert:hover {\n",
              "      background-color: #434B5C;\n",
              "      box-shadow: 0px 1px 3px 1px rgba(0, 0, 0, 0.15);\n",
              "      filter: drop-shadow(0px 1px 2px rgba(0, 0, 0, 0.3));\n",
              "      fill: #FFFFFF;\n",
              "    }\n",
              "  </style>\n",
              "\n",
              "      <script>\n",
              "        const buttonEl =\n",
              "          document.querySelector('#df-52a41dcc-04da-4a8b-b382-1f554ed991c2 button.colab-df-convert');\n",
              "        buttonEl.style.display =\n",
              "          google.colab.kernel.accessAllowed ? 'block' : 'none';\n",
              "\n",
              "        async function convertToInteractive(key) {\n",
              "          const element = document.querySelector('#df-52a41dcc-04da-4a8b-b382-1f554ed991c2');\n",
              "          const dataTable =\n",
              "            await google.colab.kernel.invokeFunction('convertToInteractive',\n",
              "                                                     [key], {});\n",
              "          if (!dataTable) return;\n",
              "\n",
              "          const docLinkHtml = 'Like what you see? Visit the ' +\n",
              "            '<a target=\"_blank\" href=https://colab.research.google.com/notebooks/data_table.ipynb>data table notebook</a>'\n",
              "            + ' to learn more about interactive tables.';\n",
              "          element.innerHTML = '';\n",
              "          dataTable['output_type'] = 'display_data';\n",
              "          await google.colab.output.renderOutput(dataTable, element);\n",
              "          const docLink = document.createElement('div');\n",
              "          docLink.innerHTML = docLinkHtml;\n",
              "          element.appendChild(docLink);\n",
              "        }\n",
              "      </script>\n",
              "    </div>\n",
              "  </div>\n",
              "  "
            ]
          },
          "metadata": {},
          "execution_count": 52
        }
      ]
    },
    {
      "cell_type": "markdown",
      "source": [
        "#### **Extracting the \"Prevention\" category for Oklahoma state**"
      ],
      "metadata": {
        "id": "BoOygMnjHy1Z"
      }
    },
    {
      "cell_type": "code",
      "source": [
        "okl_cat_prev = okl_cat[okl_cat[\"Category\"] == \"Prevention\"]\n",
        "okl_cat_prev.sample(5)"
      ],
      "metadata": {
        "colab": {
          "base_uri": "https://localhost:8080/",
          "height": 206
        },
        "id": "vEf7ogSTHMzF",
        "outputId": "2b2eb120-8136-4bb2-838c-bb1bd081e837"
      },
      "execution_count": 53,
      "outputs": [
        {
          "output_type": "execute_result",
          "data": {
            "text/plain": [
              "       StateDesc    Category   CityFIPS       CityName\n",
              "457082  Oklahoma  Prevention  4075000.0          Tulsa\n",
              "57687   Oklahoma  Prevention  4055000.0  Oklahoma City\n",
              "108914  Oklahoma  Prevention  4023200.0         Edmond\n",
              "256230  Oklahoma  Prevention  4075000.0          Tulsa\n",
              "764385  Oklahoma  Prevention  4055000.0  Oklahoma City"
            ],
            "text/html": [
              "\n",
              "  <div id=\"df-41c58d38-f3a9-4d48-b63e-faa23bf4783e\">\n",
              "    <div class=\"colab-df-container\">\n",
              "      <div>\n",
              "<style scoped>\n",
              "    .dataframe tbody tr th:only-of-type {\n",
              "        vertical-align: middle;\n",
              "    }\n",
              "\n",
              "    .dataframe tbody tr th {\n",
              "        vertical-align: top;\n",
              "    }\n",
              "\n",
              "    .dataframe thead th {\n",
              "        text-align: right;\n",
              "    }\n",
              "</style>\n",
              "<table border=\"1\" class=\"dataframe\">\n",
              "  <thead>\n",
              "    <tr style=\"text-align: right;\">\n",
              "      <th></th>\n",
              "      <th>StateDesc</th>\n",
              "      <th>Category</th>\n",
              "      <th>CityFIPS</th>\n",
              "      <th>CityName</th>\n",
              "    </tr>\n",
              "  </thead>\n",
              "  <tbody>\n",
              "    <tr>\n",
              "      <th>457082</th>\n",
              "      <td>Oklahoma</td>\n",
              "      <td>Prevention</td>\n",
              "      <td>4075000.0</td>\n",
              "      <td>Tulsa</td>\n",
              "    </tr>\n",
              "    <tr>\n",
              "      <th>57687</th>\n",
              "      <td>Oklahoma</td>\n",
              "      <td>Prevention</td>\n",
              "      <td>4055000.0</td>\n",
              "      <td>Oklahoma City</td>\n",
              "    </tr>\n",
              "    <tr>\n",
              "      <th>108914</th>\n",
              "      <td>Oklahoma</td>\n",
              "      <td>Prevention</td>\n",
              "      <td>4023200.0</td>\n",
              "      <td>Edmond</td>\n",
              "    </tr>\n",
              "    <tr>\n",
              "      <th>256230</th>\n",
              "      <td>Oklahoma</td>\n",
              "      <td>Prevention</td>\n",
              "      <td>4075000.0</td>\n",
              "      <td>Tulsa</td>\n",
              "    </tr>\n",
              "    <tr>\n",
              "      <th>764385</th>\n",
              "      <td>Oklahoma</td>\n",
              "      <td>Prevention</td>\n",
              "      <td>4055000.0</td>\n",
              "      <td>Oklahoma City</td>\n",
              "    </tr>\n",
              "  </tbody>\n",
              "</table>\n",
              "</div>\n",
              "      <button class=\"colab-df-convert\" onclick=\"convertToInteractive('df-41c58d38-f3a9-4d48-b63e-faa23bf4783e')\"\n",
              "              title=\"Convert this dataframe to an interactive table.\"\n",
              "              style=\"display:none;\">\n",
              "        \n",
              "  <svg xmlns=\"http://www.w3.org/2000/svg\" height=\"24px\"viewBox=\"0 0 24 24\"\n",
              "       width=\"24px\">\n",
              "    <path d=\"M0 0h24v24H0V0z\" fill=\"none\"/>\n",
              "    <path d=\"M18.56 5.44l.94 2.06.94-2.06 2.06-.94-2.06-.94-.94-2.06-.94 2.06-2.06.94zm-11 1L8.5 8.5l.94-2.06 2.06-.94-2.06-.94L8.5 2.5l-.94 2.06-2.06.94zm10 10l.94 2.06.94-2.06 2.06-.94-2.06-.94-.94-2.06-.94 2.06-2.06.94z\"/><path d=\"M17.41 7.96l-1.37-1.37c-.4-.4-.92-.59-1.43-.59-.52 0-1.04.2-1.43.59L10.3 9.45l-7.72 7.72c-.78.78-.78 2.05 0 2.83L4 21.41c.39.39.9.59 1.41.59.51 0 1.02-.2 1.41-.59l7.78-7.78 2.81-2.81c.8-.78.8-2.07 0-2.86zM5.41 20L4 18.59l7.72-7.72 1.47 1.35L5.41 20z\"/>\n",
              "  </svg>\n",
              "      </button>\n",
              "      \n",
              "  <style>\n",
              "    .colab-df-container {\n",
              "      display:flex;\n",
              "      flex-wrap:wrap;\n",
              "      gap: 12px;\n",
              "    }\n",
              "\n",
              "    .colab-df-convert {\n",
              "      background-color: #E8F0FE;\n",
              "      border: none;\n",
              "      border-radius: 50%;\n",
              "      cursor: pointer;\n",
              "      display: none;\n",
              "      fill: #1967D2;\n",
              "      height: 32px;\n",
              "      padding: 0 0 0 0;\n",
              "      width: 32px;\n",
              "    }\n",
              "\n",
              "    .colab-df-convert:hover {\n",
              "      background-color: #E2EBFA;\n",
              "      box-shadow: 0px 1px 2px rgba(60, 64, 67, 0.3), 0px 1px 3px 1px rgba(60, 64, 67, 0.15);\n",
              "      fill: #174EA6;\n",
              "    }\n",
              "\n",
              "    [theme=dark] .colab-df-convert {\n",
              "      background-color: #3B4455;\n",
              "      fill: #D2E3FC;\n",
              "    }\n",
              "\n",
              "    [theme=dark] .colab-df-convert:hover {\n",
              "      background-color: #434B5C;\n",
              "      box-shadow: 0px 1px 3px 1px rgba(0, 0, 0, 0.15);\n",
              "      filter: drop-shadow(0px 1px 2px rgba(0, 0, 0, 0.3));\n",
              "      fill: #FFFFFF;\n",
              "    }\n",
              "  </style>\n",
              "\n",
              "      <script>\n",
              "        const buttonEl =\n",
              "          document.querySelector('#df-41c58d38-f3a9-4d48-b63e-faa23bf4783e button.colab-df-convert');\n",
              "        buttonEl.style.display =\n",
              "          google.colab.kernel.accessAllowed ? 'block' : 'none';\n",
              "\n",
              "        async function convertToInteractive(key) {\n",
              "          const element = document.querySelector('#df-41c58d38-f3a9-4d48-b63e-faa23bf4783e');\n",
              "          const dataTable =\n",
              "            await google.colab.kernel.invokeFunction('convertToInteractive',\n",
              "                                                     [key], {});\n",
              "          if (!dataTable) return;\n",
              "\n",
              "          const docLinkHtml = 'Like what you see? Visit the ' +\n",
              "            '<a target=\"_blank\" href=https://colab.research.google.com/notebooks/data_table.ipynb>data table notebook</a>'\n",
              "            + ' to learn more about interactive tables.';\n",
              "          element.innerHTML = '';\n",
              "          dataTable['output_type'] = 'display_data';\n",
              "          await google.colab.output.renderOutput(dataTable, element);\n",
              "          const docLink = document.createElement('div');\n",
              "          docLink.innerHTML = docLinkHtml;\n",
              "          element.appendChild(docLink);\n",
              "        }\n",
              "      </script>\n",
              "    </div>\n",
              "  </div>\n",
              "  "
            ]
          },
          "metadata": {},
          "execution_count": 53
        }
      ]
    },
    {
      "cell_type": "code",
      "source": [
        "okl_cat_count = okl_cat['Category'].value_counts()\n",
        "okl_cat_count.plot(kind='bar',figsize=(6,4), width = 0.4, color = ['pink', 'black', 'pink'], edgecolor='black')\n",
        "plt.title('Category wise division for Oklahoma')\n",
        "plt.xlabel(\"Categories\")\n",
        "plt.ylabel(\"Rate of category\")\n",
        "plt.show()"
      ],
      "metadata": {
        "colab": {
          "base_uri": "https://localhost:8080/",
          "height": 489
        },
        "id": "bjUVpng2HMwW",
        "outputId": "e0c76bf0-b6b6-453b-8af6-c7b23e915cdf"
      },
      "execution_count": 54,
      "outputs": [
        {
          "output_type": "display_data",
          "data": {
            "text/plain": [
              "<Figure size 600x400 with 1 Axes>"
            ],
            "image/png": "[encoded data removed]"
          },
          "metadata": {}
        }
      ]
    },
    {
      "cell_type": "markdown",
      "source": [
        "## **Processing the data for further use**"
      ],
      "metadata": {
        "id": "KF0ZqIUWH8W2"
      }
    },
    {
      "cell_type": "code",
      "source": [
        "cols_of_int = df1[[\"Year\", \"StateDesc\", \"CityName\", \"CityFIPS\", \"GeographicLevel\", \"CategoryID\", \"MeasureId\",  \"Data_Value\", \"PopulationCount\"]]\n",
        "\n",
        "cols_of_int.tail() "
      ],
      "metadata": {
        "colab": {
          "base_uri": "https://localhost:8080/",
          "height": 206
        },
        "id": "g4FB8LNyHMt2",
        "outputId": "e917cbea-2719-4ab8-cdff-2cc5373f5e57"
      },
      "execution_count": 55,
      "outputs": [
        {
          "output_type": "execute_result",
          "data": {
            "text/plain": [
              "        Year   StateDesc     CityName   CityFIPS GeographicLevel CategoryID  \\\n",
              "810098  2016  California       Clovis   614218.0    Census Tract     UNHBEH   \n",
              "810099  2016  California      Fremont   626000.0    Census Tract     UNHBEH   \n",
              "810100  2016      Hawaii     Honolulu    15003.0    Census Tract    HLTHOUT   \n",
              "810101  2016  California  Los Angeles   644000.0    Census Tract    HLTHOUT   \n",
              "810102  2016       Texas       Dallas  4819000.0    Census Tract    HLTHOUT   \n",
              "\n",
              "        MeasureId  Data_Value  PopulationCount  \n",
              "810098      BINGE        18.5             3346  \n",
              "810099   CSMOKING        12.6             6253  \n",
              "810100        CHD         6.6             5155  \n",
              "810101      MHLTH        10.8             3095  \n",
              "810102  TEETHLOST         7.0             1733  "
            ],
            "text/html": [
              "\n",
              "  <div id=\"df-97a1d588-8642-41b3-8a02-e3fd0564c78d\">\n",
              "    <div class=\"colab-df-container\">\n",
              "      <div>\n",
              "<style scoped>\n",
              "    .dataframe tbody tr th:only-of-type {\n",
              "        vertical-align: middle;\n",
              "    }\n",
              "\n",
              "    .dataframe tbody tr th {\n",
              "        vertical-align: top;\n",
              "    }\n",
              "\n",
              "    .dataframe thead th {\n",
              "        text-align: right;\n",
              "    }\n",
              "</style>\n",
              "<table border=\"1\" class=\"dataframe\">\n",
              "  <thead>\n",
              "    <tr style=\"text-align: right;\">\n",
              "      <th></th>\n",
              "      <th>Year</th>\n",
              "      <th>StateDesc</th>\n",
              "      <th>CityName</th>\n",
              "      <th>CityFIPS</th>\n",
              "      <th>GeographicLevel</th>\n",
              "      <th>CategoryID</th>\n",
              "      <th>MeasureId</th>\n",
              "      <th>Data_Value</th>\n",
              "      <th>PopulationCount</th>\n",
              "    </tr>\n",
              "  </thead>\n",
              "  <tbody>\n",
              "    <tr>\n",
              "      <th>810098</th>\n",
              "      <td>2016</td>\n",
              "      <td>California</td>\n",
              "      <td>Clovis</td>\n",
              "      <td>614218.0</td>\n",
              "      <td>Census Tract</td>\n",
              "      <td>UNHBEH</td>\n",
              "      <td>BINGE</td>\n",
              "      <td>18.5</td>\n",
              "      <td>3346</td>\n",
              "    </tr>\n",
              "    <tr>\n",
              "      <th>810099</th>\n",
              "      <td>2016</td>\n",
              "      <td>California</td>\n",
              "      <td>Fremont</td>\n",
              "      <td>626000.0</td>\n",
              "      <td>Census Tract</td>\n",
              "      <td>UNHBEH</td>\n",
              "      <td>CSMOKING</td>\n",
              "      <td>12.6</td>\n",
              "      <td>6253</td>\n",
              "    </tr>\n",
              "    <tr>\n",
              "      <th>810100</th>\n",
              "      <td>2016</td>\n",
              "      <td>Hawaii</td>\n",
              "      <td>Honolulu</td>\n",
              "      <td>15003.0</td>\n",
              "      <td>Census Tract</td>\n",
              "      <td>HLTHOUT</td>\n",
              "      <td>CHD</td>\n",
              "      <td>6.6</td>\n",
              "      <td>5155</td>\n",
              "    </tr>\n",
              "    <tr>\n",
              "      <th>810101</th>\n",
              "      <td>2016</td>\n",
              "      <td>California</td>\n",
              "      <td>Los Angeles</td>\n",
              "      <td>644000.0</td>\n",
              "      <td>Census Tract</td>\n",
              "      <td>HLTHOUT</td>\n",
              "      <td>MHLTH</td>\n",
              "      <td>10.8</td>\n",
              "      <td>3095</td>\n",
              "    </tr>\n",
              "    <tr>\n",
              "      <th>810102</th>\n",
              "      <td>2016</td>\n",
              "      <td>Texas</td>\n",
              "      <td>Dallas</td>\n",
              "      <td>4819000.0</td>\n",
              "      <td>Census Tract</td>\n",
              "      <td>HLTHOUT</td>\n",
              "      <td>TEETHLOST</td>\n",
              "      <td>7.0</td>\n",
              "      <td>1733</td>\n",
              "    </tr>\n",
              "  </tbody>\n",
              "</table>\n",
              "</div>\n",
              "      <button class=\"colab-df-convert\" onclick=\"convertToInteractive('df-97a1d588-8642-41b3-8a02-e3fd0564c78d')\"\n",
              "              title=\"Convert this dataframe to an interactive table.\"\n",
              "              style=\"display:none;\">\n",
              "        \n",
              "  <svg xmlns=\"http://www.w3.org/2000/svg\" height=\"24px\"viewBox=\"0 0 24 24\"\n",
              "       width=\"24px\">\n",
              "    <path d=\"M0 0h24v24H0V0z\" fill=\"none\"/>\n",
              "    <path d=\"M18.56 5.44l.94 2.06.94-2.06 2.06-.94-2.06-.94-.94-2.06-.94 2.06-2.06.94zm-11 1L8.5 8.5l.94-2.06 2.06-.94-2.06-.94L8.5 2.5l-.94 2.06-2.06.94zm10 10l.94 2.06.94-2.06 2.06-.94-2.06-.94-.94-2.06-.94 2.06-2.06.94z\"/><path d=\"M17.41 7.96l-1.37-1.37c-.4-.4-.92-.59-1.43-.59-.52 0-1.04.2-1.43.59L10.3 9.45l-7.72 7.72c-.78.78-.78 2.05 0 2.83L4 21.41c.39.39.9.59 1.41.59.51 0 1.02-.2 1.41-.59l7.78-7.78 2.81-2.81c.8-.78.8-2.07 0-2.86zM5.41 20L4 18.59l7.72-7.72 1.47 1.35L5.41 20z\"/>\n",
              "  </svg>\n",
              "      </button>\n",
              "      \n",
              "  <style>\n",
              "    .colab-df-container {\n",
              "      display:flex;\n",
              "      flex-wrap:wrap;\n",
              "      gap: 12px;\n",
              "    }\n",
              "\n",
              "    .colab-df-convert {\n",
              "      background-color: #E8F0FE;\n",
              "      border: none;\n",
              "      border-radius: 50%;\n",
              "      cursor: pointer;\n",
              "      display: none;\n",
              "      fill: #1967D2;\n",
              "      height: 32px;\n",
              "      padding: 0 0 0 0;\n",
              "      width: 32px;\n",
              "    }\n",
              "\n",
              "    .colab-df-convert:hover {\n",
              "      background-color: #E2EBFA;\n",
              "      box-shadow: 0px 1px 2px rgba(60, 64, 67, 0.3), 0px 1px 3px 1px rgba(60, 64, 67, 0.15);\n",
              "      fill: #174EA6;\n",
              "    }\n",
              "\n",
              "    [theme=dark] .colab-df-convert {\n",
              "      background-color: #3B4455;\n",
              "      fill: #D2E3FC;\n",
              "    }\n",
              "\n",
              "    [theme=dark] .colab-df-convert:hover {\n",
              "      background-color: #434B5C;\n",
              "      box-shadow: 0px 1px 3px 1px rgba(0, 0, 0, 0.15);\n",
              "      filter: drop-shadow(0px 1px 2px rgba(0, 0, 0, 0.3));\n",
              "      fill: #FFFFFF;\n",
              "    }\n",
              "  </style>\n",
              "\n",
              "      <script>\n",
              "        const buttonEl =\n",
              "          document.querySelector('#df-97a1d588-8642-41b3-8a02-e3fd0564c78d button.colab-df-convert');\n",
              "        buttonEl.style.display =\n",
              "          google.colab.kernel.accessAllowed ? 'block' : 'none';\n",
              "\n",
              "        async function convertToInteractive(key) {\n",
              "          const element = document.querySelector('#df-97a1d588-8642-41b3-8a02-e3fd0564c78d');\n",
              "          const dataTable =\n",
              "            await google.colab.kernel.invokeFunction('convertToInteractive',\n",
              "                                                     [key], {});\n",
              "          if (!dataTable) return;\n",
              "\n",
              "          const docLinkHtml = 'Like what you see? Visit the ' +\n",
              "            '<a target=\"_blank\" href=https://colab.research.google.com/notebooks/data_table.ipynb>data table notebook</a>'\n",
              "            + ' to learn more about interactive tables.';\n",
              "          element.innerHTML = '';\n",
              "          dataTable['output_type'] = 'display_data';\n",
              "          await google.colab.output.renderOutput(dataTable, element);\n",
              "          const docLink = document.createElement('div');\n",
              "          docLink.innerHTML = docLinkHtml;\n",
              "          element.appendChild(docLink);\n",
              "        }\n",
              "      </script>\n",
              "    </div>\n",
              "  </div>\n",
              "  "
            ]
          },
          "metadata": {},
          "execution_count": 55
        }
      ]
    },
    {
      "cell_type": "code",
      "source": [
        "# Tried to use Pivot table to seggregate records but it has not done greater help for our further analysis.\n",
        "\n",
        "fips_piv = cols_of_int.pivot_table(\"CityFIPS\", index = \"CityName\", columns = \"CategoryID\")\n",
        "fips_piv"
      ],
      "metadata": {
        "colab": {
          "base_uri": "https://localhost:8080/",
          "height": 455
        },
        "id": "8G2FLPecHMrV",
        "outputId": "b1c5db8e-f71c-4c39-b348-566a0f452d22"
      },
      "execution_count": 56,
      "outputs": [
        {
          "output_type": "execute_result",
          "data": {
            "text/plain": [
              "CategoryID        HLTHOUT       PREVENT        UNHBEH\n",
              "CityName                                             \n",
              "Abilene      4.801000e+06  4.801000e+06  4.801000e+06\n",
              "Akron        3.901000e+06  3.901000e+06  3.901000e+06\n",
              "Alameda      6.005620e+05  6.005620e+05  6.005620e+05\n",
              "Albany       2.471935e+06  2.471935e+06  2.471935e+06\n",
              "Albuquerque  3.502000e+06  3.502000e+06  3.502000e+06\n",
              "...                   ...           ...           ...\n",
              "Wyoming      2.688940e+06  2.688940e+06  2.688940e+06\n",
              "Yakima       5.380010e+06  5.380010e+06  5.380010e+06\n",
              "Yonkers      3.684000e+06  3.684000e+06  3.684000e+06\n",
              "Youngstown   3.988000e+06  3.988000e+06  3.988000e+06\n",
              "Yuma         4.855400e+05  4.855400e+05  4.855400e+05\n",
              "\n",
              "[474 rows x 3 columns]"
            ],
            "text/html": [
              "\n",
              "  <div id=\"df-ddb39d56-3a29-425d-a922-dabd445e5bbb\">\n",
              "    <div class=\"colab-df-container\">\n",
              "      <div>\n",
              "<style scoped>\n",
              "    .dataframe tbody tr th:only-of-type {\n",
              "        vertical-align: middle;\n",
              "    }\n",
              "\n",
              "    .dataframe tbody tr th {\n",
              "        vertical-align: top;\n",
              "    }\n",
              "\n",
              "    .dataframe thead th {\n",
              "        text-align: right;\n",
              "    }\n",
              "</style>\n",
              "<table border=\"1\" class=\"dataframe\">\n",
              "  <thead>\n",
              "    <tr style=\"text-align: right;\">\n",
              "      <th>CategoryID</th>\n",
              "      <th>HLTHOUT</th>\n",
              "      <th>PREVENT</th>\n",
              "      <th>UNHBEH</th>\n",
              "    </tr>\n",
              "    <tr>\n",
              "      <th>CityName</th>\n",
              "      <th></th>\n",
              "      <th></th>\n",
              "      <th></th>\n",
              "    </tr>\n",
              "  </thead>\n",
              "  <tbody>\n",
              "    <tr>\n",
              "      <th>Abilene</th>\n",
              "      <td>4.801000e+06</td>\n",
              "      <td>4.801000e+06</td>\n",
              "      <td>4.801000e+06</td>\n",
              "    </tr>\n",
              "    <tr>\n",
              "      <th>Akron</th>\n",
              "      <td>3.901000e+06</td>\n",
              "      <td>3.901000e+06</td>\n",
              "      <td>3.901000e+06</td>\n",
              "    </tr>\n",
              "    <tr>\n",
              "      <th>Alameda</th>\n",
              "      <td>6.005620e+05</td>\n",
              "      <td>6.005620e+05</td>\n",
              "      <td>6.005620e+05</td>\n",
              "    </tr>\n",
              "    <tr>\n",
              "      <th>Albany</th>\n",
              "      <td>2.471935e+06</td>\n",
              "      <td>2.471935e+06</td>\n",
              "      <td>2.471935e+06</td>\n",
              "    </tr>\n",
              "    <tr>\n",
              "      <th>Albuquerque</th>\n",
              "      <td>3.502000e+06</td>\n",
              "      <td>3.502000e+06</td>\n",
              "      <td>3.502000e+06</td>\n",
              "    </tr>\n",
              "    <tr>\n",
              "      <th>...</th>\n",
              "      <td>...</td>\n",
              "      <td>...</td>\n",
              "      <td>...</td>\n",
              "    </tr>\n",
              "    <tr>\n",
              "      <th>Wyoming</th>\n",
              "      <td>2.688940e+06</td>\n",
              "      <td>2.688940e+06</td>\n",
              "      <td>2.688940e+06</td>\n",
              "    </tr>\n",
              "    <tr>\n",
              "      <th>Yakima</th>\n",
              "      <td>5.380010e+06</td>\n",
              "      <td>5.380010e+06</td>\n",
              "      <td>5.380010e+06</td>\n",
              "    </tr>\n",
              "    <tr>\n",
              "      <th>Yonkers</th>\n",
              "      <td>3.684000e+06</td>\n",
              "      <td>3.684000e+06</td>\n",
              "      <td>3.684000e+06</td>\n",
              "    </tr>\n",
              "    <tr>\n",
              "      <th>Youngstown</th>\n",
              "      <td>3.988000e+06</td>\n",
              "      <td>3.988000e+06</td>\n",
              "      <td>3.988000e+06</td>\n",
              "    </tr>\n",
              "    <tr>\n",
              "      <th>Yuma</th>\n",
              "      <td>4.855400e+05</td>\n",
              "      <td>4.855400e+05</td>\n",
              "      <td>4.855400e+05</td>\n",
              "    </tr>\n",
              "  </tbody>\n",
              "</table>\n",
              "<p>474 rows × 3 columns</p>\n",
              "</div>\n",
              "      <button class=\"colab-df-convert\" onclick=\"convertToInteractive('df-ddb39d56-3a29-425d-a922-dabd445e5bbb')\"\n",
              "              title=\"Convert this dataframe to an interactive table.\"\n",
              "              style=\"display:none;\">\n",
              "        \n",
              "  <svg xmlns=\"http://www.w3.org/2000/svg\" height=\"24px\"viewBox=\"0 0 24 24\"\n",
              "       width=\"24px\">\n",
              "    <path d=\"M0 0h24v24H0V0z\" fill=\"none\"/>\n",
              "    <path d=\"M18.56 5.44l.94 2.06.94-2.06 2.06-.94-2.06-.94-.94-2.06-.94 2.06-2.06.94zm-11 1L8.5 8.5l.94-2.06 2.06-.94-2.06-.94L8.5 2.5l-.94 2.06-2.06.94zm10 10l.94 2.06.94-2.06 2.06-.94-2.06-.94-.94-2.06-.94 2.06-2.06.94z\"/><path d=\"M17.41 7.96l-1.37-1.37c-.4-.4-.92-.59-1.43-.59-.52 0-1.04.2-1.43.59L10.3 9.45l-7.72 7.72c-.78.78-.78 2.05 0 2.83L4 21.41c.39.39.9.59 1.41.59.51 0 1.02-.2 1.41-.59l7.78-7.78 2.81-2.81c.8-.78.8-2.07 0-2.86zM5.41 20L4 18.59l7.72-7.72 1.47 1.35L5.41 20z\"/>\n",
              "  </svg>\n",
              "      </button>\n",
              "      \n",
              "  <style>\n",
              "    .colab-df-container {\n",
              "      display:flex;\n",
              "      flex-wrap:wrap;\n",
              "      gap: 12px;\n",
              "    }\n",
              "\n",
              "    .colab-df-convert {\n",
              "      background-color: #E8F0FE;\n",
              "      border: none;\n",
              "      border-radius: 50%;\n",
              "      cursor: pointer;\n",
              "      display: none;\n",
              "      fill: #1967D2;\n",
              "      height: 32px;\n",
              "      padding: 0 0 0 0;\n",
              "      width: 32px;\n",
              "    }\n",
              "\n",
              "    .colab-df-convert:hover {\n",
              "      background-color: #E2EBFA;\n",
              "      box-shadow: 0px 1px 2px rgba(60, 64, 67, 0.3), 0px 1px 3px 1px rgba(60, 64, 67, 0.15);\n",
              "      fill: #174EA6;\n",
              "    }\n",
              "\n",
              "    [theme=dark] .colab-df-convert {\n",
              "      background-color: #3B4455;\n",
              "      fill: #D2E3FC;\n",
              "    }\n",
              "\n",
              "    [theme=dark] .colab-df-convert:hover {\n",
              "      background-color: #434B5C;\n",
              "      box-shadow: 0px 1px 3px 1px rgba(0, 0, 0, 0.15);\n",
              "      filter: drop-shadow(0px 1px 2px rgba(0, 0, 0, 0.3));\n",
              "      fill: #FFFFFF;\n",
              "    }\n",
              "  </style>\n",
              "\n",
              "      <script>\n",
              "        const buttonEl =\n",
              "          document.querySelector('#df-ddb39d56-3a29-425d-a922-dabd445e5bbb button.colab-df-convert');\n",
              "        buttonEl.style.display =\n",
              "          google.colab.kernel.accessAllowed ? 'block' : 'none';\n",
              "\n",
              "        async function convertToInteractive(key) {\n",
              "          const element = document.querySelector('#df-ddb39d56-3a29-425d-a922-dabd445e5bbb');\n",
              "          const dataTable =\n",
              "            await google.colab.kernel.invokeFunction('convertToInteractive',\n",
              "                                                     [key], {});\n",
              "          if (!dataTable) return;\n",
              "\n",
              "          const docLinkHtml = 'Like what you see? Visit the ' +\n",
              "            '<a target=\"_blank\" href=https://colab.research.google.com/notebooks/data_table.ipynb>data table notebook</a>'\n",
              "            + ' to learn more about interactive tables.';\n",
              "          element.innerHTML = '';\n",
              "          dataTable['output_type'] = 'display_data';\n",
              "          await google.colab.output.renderOutput(dataTable, element);\n",
              "          const docLink = document.createElement('div');\n",
              "          docLink.innerHTML = docLinkHtml;\n",
              "          element.appendChild(docLink);\n",
              "        }\n",
              "      </script>\n",
              "    </div>\n",
              "  </div>\n",
              "  "
            ]
          },
          "metadata": {},
          "execution_count": 56
        }
      ]
    },
    {
      "cell_type": "markdown",
      "source": [
        "### Consider **cols_of_int** dataframe as the main dataframe from now on."
      ],
      "metadata": {
        "id": "4rdV5WggIFfX"
      }
    },
    {
      "cell_type": "code",
      "source": [
        "cols_of_int.head()"
      ],
      "metadata": {
        "colab": {
          "base_uri": "https://localhost:8080/",
          "height": 206
        },
        "id": "wIQ6_tYLHMo0",
        "outputId": "b965e34c-dc5a-4776-de6d-e0132dd9d8d1"
      },
      "execution_count": 57,
      "outputs": [
        {
          "output_type": "execute_result",
          "data": {
            "text/plain": [
              "   Year    StateDesc   CityName   CityFIPS GeographicLevel CategoryID  \\\n",
              "0  2015      Indiana    Fishers  1823278.0            City    HLTHOUT   \n",
              "1  2015   California   Milpitas   647766.0            City    HLTHOUT   \n",
              "2  2015  Connecticut   Stamford   973000.0            City    HLTHOUT   \n",
              "3  2015   California  Elk Grove   622020.0            City    HLTHOUT   \n",
              "4  2015      Florida   Palm Bay  1254000.0            City    PREVENT   \n",
              "\n",
              "    MeasureId  Data_Value  PopulationCount  \n",
              "0      BPHIGH        24.2            76794  \n",
              "1      BPHIGH        22.2            66790  \n",
              "2      BPHIGH        26.0           122643  \n",
              "3      BPHIGH        27.7           153015  \n",
              "4  CHOLSCREEN        78.0           103190  "
            ],
            "text/html": [
              "\n",
              "  <div id=\"df-6bfbca3e-f283-4896-aeb2-8eb2e3b69bde\">\n",
              "    <div class=\"colab-df-container\">\n",
              "      <div>\n",
              "<style scoped>\n",
              "    .dataframe tbody tr th:only-of-type {\n",
              "        vertical-align: middle;\n",
              "    }\n",
              "\n",
              "    .dataframe tbody tr th {\n",
              "        vertical-align: top;\n",
              "    }\n",
              "\n",
              "    .dataframe thead th {\n",
              "        text-align: right;\n",
              "    }\n",
              "</style>\n",
              "<table border=\"1\" class=\"dataframe\">\n",
              "  <thead>\n",
              "    <tr style=\"text-align: right;\">\n",
              "      <th></th>\n",
              "      <th>Year</th>\n",
              "      <th>StateDesc</th>\n",
              "      <th>CityName</th>\n",
              "      <th>CityFIPS</th>\n",
              "      <th>GeographicLevel</th>\n",
              "      <th>CategoryID</th>\n",
              "      <th>MeasureId</th>\n",
              "      <th>Data_Value</th>\n",
              "      <th>PopulationCount</th>\n",
              "    </tr>\n",
              "  </thead>\n",
              "  <tbody>\n",
              "    <tr>\n",
              "      <th>0</th>\n",
              "      <td>2015</td>\n",
              "      <td>Indiana</td>\n",
              "      <td>Fishers</td>\n",
              "      <td>1823278.0</td>\n",
              "      <td>City</td>\n",
              "      <td>HLTHOUT</td>\n",
              "      <td>BPHIGH</td>\n",
              "      <td>24.2</td>\n",
              "      <td>76794</td>\n",
              "    </tr>\n",
              "    <tr>\n",
              "      <th>1</th>\n",
              "      <td>2015</td>\n",
              "      <td>California</td>\n",
              "      <td>Milpitas</td>\n",
              "      <td>647766.0</td>\n",
              "      <td>City</td>\n",
              "      <td>HLTHOUT</td>\n",
              "      <td>BPHIGH</td>\n",
              "      <td>22.2</td>\n",
              "      <td>66790</td>\n",
              "    </tr>\n",
              "    <tr>\n",
              "      <th>2</th>\n",
              "      <td>2015</td>\n",
              "      <td>Connecticut</td>\n",
              "      <td>Stamford</td>\n",
              "      <td>973000.0</td>\n",
              "      <td>City</td>\n",
              "      <td>HLTHOUT</td>\n",
              "      <td>BPHIGH</td>\n",
              "      <td>26.0</td>\n",
              "      <td>122643</td>\n",
              "    </tr>\n",
              "    <tr>\n",
              "      <th>3</th>\n",
              "      <td>2015</td>\n",
              "      <td>California</td>\n",
              "      <td>Elk Grove</td>\n",
              "      <td>622020.0</td>\n",
              "      <td>City</td>\n",
              "      <td>HLTHOUT</td>\n",
              "      <td>BPHIGH</td>\n",
              "      <td>27.7</td>\n",
              "      <td>153015</td>\n",
              "    </tr>\n",
              "    <tr>\n",
              "      <th>4</th>\n",
              "      <td>2015</td>\n",
              "      <td>Florida</td>\n",
              "      <td>Palm Bay</td>\n",
              "      <td>1254000.0</td>\n",
              "      <td>City</td>\n",
              "      <td>PREVENT</td>\n",
              "      <td>CHOLSCREEN</td>\n",
              "      <td>78.0</td>\n",
              "      <td>103190</td>\n",
              "    </tr>\n",
              "  </tbody>\n",
              "</table>\n",
              "</div>\n",
              "      <button class=\"colab-df-convert\" onclick=\"convertToInteractive('df-6bfbca3e-f283-4896-aeb2-8eb2e3b69bde')\"\n",
              "              title=\"Convert this dataframe to an interactive table.\"\n",
              "              style=\"display:none;\">\n",
              "        \n",
              "  <svg xmlns=\"http://www.w3.org/2000/svg\" height=\"24px\"viewBox=\"0 0 24 24\"\n",
              "       width=\"24px\">\n",
              "    <path d=\"M0 0h24v24H0V0z\" fill=\"none\"/>\n",
              "    <path d=\"M18.56 5.44l.94 2.06.94-2.06 2.06-.94-2.06-.94-.94-2.06-.94 2.06-2.06.94zm-11 1L8.5 8.5l.94-2.06 2.06-.94-2.06-.94L8.5 2.5l-.94 2.06-2.06.94zm10 10l.94 2.06.94-2.06 2.06-.94-2.06-.94-.94-2.06-.94 2.06-2.06.94z\"/><path d=\"M17.41 7.96l-1.37-1.37c-.4-.4-.92-.59-1.43-.59-.52 0-1.04.2-1.43.59L10.3 9.45l-7.72 7.72c-.78.78-.78 2.05 0 2.83L4 21.41c.39.39.9.59 1.41.59.51 0 1.02-.2 1.41-.59l7.78-7.78 2.81-2.81c.8-.78.8-2.07 0-2.86zM5.41 20L4 18.59l7.72-7.72 1.47 1.35L5.41 20z\"/>\n",
              "  </svg>\n",
              "      </button>\n",
              "      \n",
              "  <style>\n",
              "    .colab-df-container {\n",
              "      display:flex;\n",
              "      flex-wrap:wrap;\n",
              "      gap: 12px;\n",
              "    }\n",
              "\n",
              "    .colab-df-convert {\n",
              "      background-color: #E8F0FE;\n",
              "      border: none;\n",
              "      border-radius: 50%;\n",
              "      cursor: pointer;\n",
              "      display: none;\n",
              "      fill: #1967D2;\n",
              "      height: 32px;\n",
              "      padding: 0 0 0 0;\n",
              "      width: 32px;\n",
              "    }\n",
              "\n",
              "    .colab-df-convert:hover {\n",
              "      background-color: #E2EBFA;\n",
              "      box-shadow: 0px 1px 2px rgba(60, 64, 67, 0.3), 0px 1px 3px 1px rgba(60, 64, 67, 0.15);\n",
              "      fill: #174EA6;\n",
              "    }\n",
              "\n",
              "    [theme=dark] .colab-df-convert {\n",
              "      background-color: #3B4455;\n",
              "      fill: #D2E3FC;\n",
              "    }\n",
              "\n",
              "    [theme=dark] .colab-df-convert:hover {\n",
              "      background-color: #434B5C;\n",
              "      box-shadow: 0px 1px 3px 1px rgba(0, 0, 0, 0.15);\n",
              "      filter: drop-shadow(0px 1px 2px rgba(0, 0, 0, 0.3));\n",
              "      fill: #FFFFFF;\n",
              "    }\n",
              "  </style>\n",
              "\n",
              "      <script>\n",
              "        const buttonEl =\n",
              "          document.querySelector('#df-6bfbca3e-f283-4896-aeb2-8eb2e3b69bde button.colab-df-convert');\n",
              "        buttonEl.style.display =\n",
              "          google.colab.kernel.accessAllowed ? 'block' : 'none';\n",
              "\n",
              "        async function convertToInteractive(key) {\n",
              "          const element = document.querySelector('#df-6bfbca3e-f283-4896-aeb2-8eb2e3b69bde');\n",
              "          const dataTable =\n",
              "            await google.colab.kernel.invokeFunction('convertToInteractive',\n",
              "                                                     [key], {});\n",
              "          if (!dataTable) return;\n",
              "\n",
              "          const docLinkHtml = 'Like what you see? Visit the ' +\n",
              "            '<a target=\"_blank\" href=https://colab.research.google.com/notebooks/data_table.ipynb>data table notebook</a>'\n",
              "            + ' to learn more about interactive tables.';\n",
              "          element.innerHTML = '';\n",
              "          dataTable['output_type'] = 'display_data';\n",
              "          await google.colab.output.renderOutput(dataTable, element);\n",
              "          const docLink = document.createElement('div');\n",
              "          docLink.innerHTML = docLinkHtml;\n",
              "          element.appendChild(docLink);\n",
              "        }\n",
              "      </script>\n",
              "    </div>\n",
              "  </div>\n",
              "  "
            ]
          },
          "metadata": {},
          "execution_count": 57
        }
      ]
    },
    {
      "cell_type": "code",
      "source": [
        "cols_of_int.shape"
      ],
      "metadata": {
        "colab": {
          "base_uri": "https://localhost:8080/"
        },
        "id": "RGyIfuDlHMmf",
        "outputId": "e5e4a3ff-f6a9-464e-c0f1-31c656dffade"
      },
      "execution_count": 58,
      "outputs": [
        {
          "output_type": "execute_result",
          "data": {
            "text/plain": [
              "(810103, 9)"
            ]
          },
          "metadata": {},
          "execution_count": 58
        }
      ]
    },
    {
      "cell_type": "markdown",
      "source": [
        "### **Balncing the imbalanced dataset**"
      ],
      "metadata": {
        "id": "9MwC-_vKIOQf"
      }
    },
    {
      "cell_type": "code",
      "source": [
        "cols_of_int['CategoryID'].value_counts()   # checking the count of each class/category"
      ],
      "metadata": {
        "colab": {
          "base_uri": "https://localhost:8080/"
        },
        "id": "cdxYntyGHMjk",
        "outputId": "c1c7c976-a906-44e2-c0ae-f28f00a7451a"
      },
      "execution_count": 59,
      "outputs": [
        {
          "output_type": "execute_result",
          "data": {
            "text/plain": [
              "HLTHOUT    376673\n",
              "PREVENT    288400\n",
              "UNHBEH     145030\n",
              "Name: CategoryID, dtype: int64"
            ]
          },
          "metadata": {},
          "execution_count": 59
        }
      ]
    },
    {
      "cell_type": "code",
      "source": [
        "# Visualizing the difference in each class using seaborn\n",
        "\n",
        "sns.countplot(cols_of_int['CategoryID'])"
      ],
      "metadata": {
        "colab": {
          "base_uri": "https://localhost:8080/",
          "height": 450
        },
        "id": "WlGJdKF4HMg5",
        "outputId": "dcbbc1fe-804d-4e55-88ce-e45dec858d4f"
      },
      "execution_count": 60,
      "outputs": [
        {
          "output_type": "stream",
          "name": "stderr",
          "text": [
            "/usr/local/lib/python3.7/dist-packages/seaborn/_decorators.py:43: FutureWarning: Pass the following variable as a keyword arg: x. From version 0.12, the only valid positional argument will be `data`, and passing other arguments without an explicit keyword will result in an error or misinterpretation.\n",
            "  FutureWarning\n"
          ]
        },
        {
          "output_type": "execute_result",
          "data": {
            "text/plain": [
              "<matplotlib.axes._subplots.AxesSubplot at 0x7fa3a22afcd0>"
            ]
          },
          "metadata": {},
          "execution_count": 60
        },
        {
          "output_type": "display_data",
          "data": {
            "text/plain": [
              "<Figure size 600x400 with 1 Axes>"
            ],
            "image/png": "[encoded data removed]"
          },
          "metadata": {}
        }
      ]
    },
    {
      "cell_type": "markdown",
      "source": [
        "### From the above visualization, it is observed that the target class has an imbalance. Therefore, we need to match the majority class with the minority class."
      ],
      "metadata": {
        "id": "3Bo3RRWgIWO_"
      }
    },
    {
      "cell_type": "code",
      "source": [
        "# Creating different dataframes of seperate classes\n",
        "df_class1 = cols_of_int[(cols_of_int['CategoryID'] == 'HLTHOUT')] \n",
        "df_class2 = cols_of_int[(cols_of_int['CategoryID'] == 'PREVENT')]\n",
        "df_class3 = cols_of_int[(cols_of_int['CategoryID'] == 'UNHBEH')]"
      ],
      "metadata": {
        "id": "XvHDJZIiHMeF"
      },
      "execution_count": 61,
      "outputs": []
    },
    {
      "cell_type": "code",
      "source": [
        "# Upsampling the least class\n",
        "df_class3_upsampled = resample(df_class3, \n",
        "                                 replace = True,    # sample with replacement\n",
        "                                 n_samples = 288400, # to match moderate class\n",
        "                                 random_state = 42)  # reproducible results"
      ],
      "metadata": {
        "id": "yCZXZr5DIXt1"
      },
      "execution_count": 62,
      "outputs": []
    },
    {
      "cell_type": "code",
      "source": [
        "# Downsampling the higher class\n",
        "df_class1_downsampled = resample(df_class1,\n",
        "                                 replace = True,    # sample with replacement\n",
        "                                 n_samples = 288400,   # to match moderate class\n",
        "                                 random_state = 42)    # reproducible results"
      ],
      "metadata": {
        "id": "2CQedl_vIXoV"
      },
      "execution_count": 63,
      "outputs": []
    },
    {
      "cell_type": "code",
      "source": [
        "# Combine majority class with upsampled minority class\n",
        "\n",
        "df_upsampled = pd.concat([df_class3_upsampled, df_class2])"
      ],
      "metadata": {
        "id": "riK9UTMVIXlq"
      },
      "execution_count": 64,
      "outputs": []
    },
    {
      "cell_type": "code",
      "source": [
        "# Combining the downsampled and concatination of upsampled and moderate class\n",
        "df_resampled = pd.concat([df_class1_downsampled, df_upsampled])"
      ],
      "metadata": {
        "id": "R4whQH-VIXjA"
      },
      "execution_count": 65,
      "outputs": []
    },
    {
      "cell_type": "markdown",
      "source": [
        "### Checking the distribution of classes."
      ],
      "metadata": {
        "id": "XLB6qP6zIlQa"
      }
    },
    {
      "cell_type": "code",
      "source": [
        "df_resampled['CategoryID'].value_counts()"
      ],
      "metadata": {
        "colab": {
          "base_uri": "https://localhost:8080/"
        },
        "id": "08CbDUimIXdy",
        "outputId": "ad52d638-5039-4a71-d0f9-7aa6327ef048"
      },
      "execution_count": 66,
      "outputs": [
        {
          "output_type": "execute_result",
          "data": {
            "text/plain": [
              "HLTHOUT    288400\n",
              "UNHBEH     288400\n",
              "PREVENT    288400\n",
              "Name: CategoryID, dtype: int64"
            ]
          },
          "metadata": {},
          "execution_count": 66
        }
      ]
    },
    {
      "cell_type": "code",
      "source": [
        "# Visualizing the records with resampled data\n",
        "\n",
        "sns.countplot(df_resampled['CategoryID'])"
      ],
      "metadata": {
        "colab": {
          "base_uri": "https://localhost:8080/",
          "height": 451
        },
        "id": "i7AxvzcGHMZl",
        "outputId": "1d968e5c-c933-4e46-9375-d70ceeb9fbef"
      },
      "execution_count": 67,
      "outputs": [
        {
          "output_type": "stream",
          "name": "stderr",
          "text": [
            "/usr/local/lib/python3.7/dist-packages/seaborn/_decorators.py:43: FutureWarning: Pass the following variable as a keyword arg: x. From version 0.12, the only valid positional argument will be `data`, and passing other arguments without an explicit keyword will result in an error or misinterpretation.\n",
            "  FutureWarning\n"
          ]
        },
        {
          "output_type": "execute_result",
          "data": {
            "text/plain": [
              "<matplotlib.axes._subplots.AxesSubplot at 0x7fa3a0347390>"
            ]
          },
          "metadata": {},
          "execution_count": 67
        },
        {
          "output_type": "display_data",
          "data": {
            "text/plain": [
              "<Figure size 600x400 with 1 Axes>"
            ],
            "image/png": "[encoded data removed]"
          },
          "metadata": {}
        }
      ]
    },
    {
      "cell_type": "markdown",
      "source": [
        "#### Therefore, the data is balanced now."
      ],
      "metadata": {
        "id": "cPJttn7FItND"
      }
    },
    {
      "cell_type": "code",
      "source": [
        "df_resampled.head()"
      ],
      "metadata": {
        "colab": {
          "base_uri": "https://localhost:8080/",
          "height": 206
        },
        "id": "bnePpNqaIqyM",
        "outputId": "fc7ed31a-9a20-4a8c-951d-2792ffa7141c"
      },
      "execution_count": 68,
      "outputs": [
        {
          "output_type": "execute_result",
          "data": {
            "text/plain": [
              "        Year StateDesc          CityName   CityFIPS GeographicLevel  \\\n",
              "254923  2016  Oklahoma             Tulsa  4075000.0    Census Tract   \n",
              "309287  2016  Colorado  Colorado Springs   816000.0    Census Tract   \n",
              "276763  2016     Texas            Dallas  4819000.0    Census Tract   \n",
              "786640  2016   Indiana        Evansville  1822000.0    Census Tract   \n",
              "554204  2016  New York          New York  3651000.0    Census Tract   \n",
              "\n",
              "       CategoryID  MeasureId  Data_Value  PopulationCount  \n",
              "254923    HLTHOUT      PHLTH        10.0             2710  \n",
              "309287    HLTHOUT  TEETHLOST        17.4             1961  \n",
              "276763    HLTHOUT     CANCER        10.1             1839  \n",
              "786640    HLTHOUT    CASTHMA        12.1             1894  \n",
              "554204    HLTHOUT  ARTHRITIS        29.8            26588  "
            ],
            "text/html": [
              "\n",
              "  <div id=\"df-78b5b437-7563-424c-bc56-26c1586b3e2b\">\n",
              "    <div class=\"colab-df-container\">\n",
              "      <div>\n",
              "<style scoped>\n",
              "    .dataframe tbody tr th:only-of-type {\n",
              "        vertical-align: middle;\n",
              "    }\n",
              "\n",
              "    .dataframe tbody tr th {\n",
              "        vertical-align: top;\n",
              "    }\n",
              "\n",
              "    .dataframe thead th {\n",
              "        text-align: right;\n",
              "    }\n",
              "</style>\n",
              "<table border=\"1\" class=\"dataframe\">\n",
              "  <thead>\n",
              "    <tr style=\"text-align: right;\">\n",
              "      <th></th>\n",
              "      <th>Year</th>\n",
              "      <th>StateDesc</th>\n",
              "      <th>CityName</th>\n",
              "      <th>CityFIPS</th>\n",
              "      <th>GeographicLevel</th>\n",
              "      <th>CategoryID</th>\n",
              "      <th>MeasureId</th>\n",
              "      <th>Data_Value</th>\n",
              "      <th>PopulationCount</th>\n",
              "    </tr>\n",
              "  </thead>\n",
              "  <tbody>\n",
              "    <tr>\n",
              "      <th>254923</th>\n",
              "      <td>2016</td>\n",
              "      <td>Oklahoma</td>\n",
              "      <td>Tulsa</td>\n",
              "      <td>4075000.0</td>\n",
              "      <td>Census Tract</td>\n",
              "      <td>HLTHOUT</td>\n",
              "      <td>PHLTH</td>\n",
              "      <td>10.0</td>\n",
              "      <td>2710</td>\n",
              "    </tr>\n",
              "    <tr>\n",
              "      <th>309287</th>\n",
              "      <td>2016</td>\n",
              "      <td>Colorado</td>\n",
              "      <td>Colorado Springs</td>\n",
              "      <td>816000.0</td>\n",
              "      <td>Census Tract</td>\n",
              "      <td>HLTHOUT</td>\n",
              "      <td>TEETHLOST</td>\n",
              "      <td>17.4</td>\n",
              "      <td>1961</td>\n",
              "    </tr>\n",
              "    <tr>\n",
              "      <th>276763</th>\n",
              "      <td>2016</td>\n",
              "      <td>Texas</td>\n",
              "      <td>Dallas</td>\n",
              "      <td>4819000.0</td>\n",
              "      <td>Census Tract</td>\n",
              "      <td>HLTHOUT</td>\n",
              "      <td>CANCER</td>\n",
              "      <td>10.1</td>\n",
              "      <td>1839</td>\n",
              "    </tr>\n",
              "    <tr>\n",
              "      <th>786640</th>\n",
              "      <td>2016</td>\n",
              "      <td>Indiana</td>\n",
              "      <td>Evansville</td>\n",
              "      <td>1822000.0</td>\n",
              "      <td>Census Tract</td>\n",
              "      <td>HLTHOUT</td>\n",
              "      <td>CASTHMA</td>\n",
              "      <td>12.1</td>\n",
              "      <td>1894</td>\n",
              "    </tr>\n",
              "    <tr>\n",
              "      <th>554204</th>\n",
              "      <td>2016</td>\n",
              "      <td>New York</td>\n",
              "      <td>New York</td>\n",
              "      <td>3651000.0</td>\n",
              "      <td>Census Tract</td>\n",
              "      <td>HLTHOUT</td>\n",
              "      <td>ARTHRITIS</td>\n",
              "      <td>29.8</td>\n",
              "      <td>26588</td>\n",
              "    </tr>\n",
              "  </tbody>\n",
              "</table>\n",
              "</div>\n",
              "      <button class=\"colab-df-convert\" onclick=\"convertToInteractive('df-78b5b437-7563-424c-bc56-26c1586b3e2b')\"\n",
              "              title=\"Convert this dataframe to an interactive table.\"\n",
              "              style=\"display:none;\">\n",
              "        \n",
              "  <svg xmlns=\"http://www.w3.org/2000/svg\" height=\"24px\"viewBox=\"0 0 24 24\"\n",
              "       width=\"24px\">\n",
              "    <path d=\"M0 0h24v24H0V0z\" fill=\"none\"/>\n",
              "    <path d=\"M18.56 5.44l.94 2.06.94-2.06 2.06-.94-2.06-.94-.94-2.06-.94 2.06-2.06.94zm-11 1L8.5 8.5l.94-2.06 2.06-.94-2.06-.94L8.5 2.5l-.94 2.06-2.06.94zm10 10l.94 2.06.94-2.06 2.06-.94-2.06-.94-.94-2.06-.94 2.06-2.06.94z\"/><path d=\"M17.41 7.96l-1.37-1.37c-.4-.4-.92-.59-1.43-.59-.52 0-1.04.2-1.43.59L10.3 9.45l-7.72 7.72c-.78.78-.78 2.05 0 2.83L4 21.41c.39.39.9.59 1.41.59.51 0 1.02-.2 1.41-.59l7.78-7.78 2.81-2.81c.8-.78.8-2.07 0-2.86zM5.41 20L4 18.59l7.72-7.72 1.47 1.35L5.41 20z\"/>\n",
              "  </svg>\n",
              "      </button>\n",
              "      \n",
              "  <style>\n",
              "    .colab-df-container {\n",
              "      display:flex;\n",
              "      flex-wrap:wrap;\n",
              "      gap: 12px;\n",
              "    }\n",
              "\n",
              "    .colab-df-convert {\n",
              "      background-color: #E8F0FE;\n",
              "      border: none;\n",
              "      border-radius: 50%;\n",
              "      cursor: pointer;\n",
              "      display: none;\n",
              "      fill: #1967D2;\n",
              "      height: 32px;\n",
              "      padding: 0 0 0 0;\n",
              "      width: 32px;\n",
              "    }\n",
              "\n",
              "    .colab-df-convert:hover {\n",
              "      background-color: #E2EBFA;\n",
              "      box-shadow: 0px 1px 2px rgba(60, 64, 67, 0.3), 0px 1px 3px 1px rgba(60, 64, 67, 0.15);\n",
              "      fill: #174EA6;\n",
              "    }\n",
              "\n",
              "    [theme=dark] .colab-df-convert {\n",
              "      background-color: #3B4455;\n",
              "      fill: #D2E3FC;\n",
              "    }\n",
              "\n",
              "    [theme=dark] .colab-df-convert:hover {\n",
              "      background-color: #434B5C;\n",
              "      box-shadow: 0px 1px 3px 1px rgba(0, 0, 0, 0.15);\n",
              "      filter: drop-shadow(0px 1px 2px rgba(0, 0, 0, 0.3));\n",
              "      fill: #FFFFFF;\n",
              "    }\n",
              "  </style>\n",
              "\n",
              "      <script>\n",
              "        const buttonEl =\n",
              "          document.querySelector('#df-78b5b437-7563-424c-bc56-26c1586b3e2b button.colab-df-convert');\n",
              "        buttonEl.style.display =\n",
              "          google.colab.kernel.accessAllowed ? 'block' : 'none';\n",
              "\n",
              "        async function convertToInteractive(key) {\n",
              "          const element = document.querySelector('#df-78b5b437-7563-424c-bc56-26c1586b3e2b');\n",
              "          const dataTable =\n",
              "            await google.colab.kernel.invokeFunction('convertToInteractive',\n",
              "                                                     [key], {});\n",
              "          if (!dataTable) return;\n",
              "\n",
              "          const docLinkHtml = 'Like what you see? Visit the ' +\n",
              "            '<a target=\"_blank\" href=https://colab.research.google.com/notebooks/data_table.ipynb>data table notebook</a>'\n",
              "            + ' to learn more about interactive tables.';\n",
              "          element.innerHTML = '';\n",
              "          dataTable['output_type'] = 'display_data';\n",
              "          await google.colab.output.renderOutput(dataTable, element);\n",
              "          const docLink = document.createElement('div');\n",
              "          docLink.innerHTML = docLinkHtml;\n",
              "          element.appendChild(docLink);\n",
              "        }\n",
              "      </script>\n",
              "    </div>\n",
              "  </div>\n",
              "  "
            ]
          },
          "metadata": {},
          "execution_count": 68
        }
      ]
    },
    {
      "cell_type": "markdown",
      "source": [
        "## **Trying to encode the Categorical values**"
      ],
      "metadata": {
        "id": "pbrCpTyDI2kI"
      }
    },
    {
      "cell_type": "markdown",
      "source": [
        "### Let us consider only the required columns for the future usage"
      ],
      "metadata": {
        "id": "TiB2_nHMI--k"
      }
    },
    {
      "cell_type": "code",
      "source": [
        "cols_of_int = cols_of_int[[\"Year\", \"StateDesc\", \"CityName\", \"CityFIPS\", \"GeographicLevel\", \"CategoryID\", \"MeasureId\"]]"
      ],
      "metadata": {
        "id": "w7nLRtpCIqvV"
      },
      "execution_count": 69,
      "outputs": []
    },
    {
      "cell_type": "code",
      "source": [
        "cols_of_int.dtypes"
      ],
      "metadata": {
        "colab": {
          "base_uri": "https://localhost:8080/"
        },
        "id": "jj9xu29gIqs1",
        "outputId": "a2d11386-7ebf-4141-df9e-fba6eefebc45"
      },
      "execution_count": 70,
      "outputs": [
        {
          "output_type": "execute_result",
          "data": {
            "text/plain": [
              "Year                 int64\n",
              "StateDesc           object\n",
              "CityName            object\n",
              "CityFIPS           float64\n",
              "GeographicLevel     object\n",
              "CategoryID          object\n",
              "MeasureId           object\n",
              "dtype: object"
            ]
          },
          "metadata": {},
          "execution_count": 70
        }
      ]
    },
    {
      "cell_type": "code",
      "source": [
        "cols_of_int.shape"
      ],
      "metadata": {
        "colab": {
          "base_uri": "https://localhost:8080/"
        },
        "id": "CMfuBBkoIqqD",
        "outputId": "e945bc9e-fd69-45cf-9243-7305ed8ca1ce"
      },
      "execution_count": 71,
      "outputs": [
        {
          "output_type": "execute_result",
          "data": {
            "text/plain": [
              "(810103, 7)"
            ]
          },
          "metadata": {},
          "execution_count": 71
        }
      ]
    },
    {
      "cell_type": "markdown",
      "source": [
        "#### Pulling out only the columns with data type **Object** for encoding"
      ],
      "metadata": {
        "id": "RszeWENzJIrN"
      }
    },
    {
      "cell_type": "code",
      "source": [
        "obj_df = cols_of_int.select_dtypes(include=['object']).copy()\n",
        "obj_df.sample(5)"
      ],
      "metadata": {
        "colab": {
          "base_uri": "https://localhost:8080/",
          "height": 206
        },
        "id": "LQQY_QZ_Iqn0",
        "outputId": "8d14b814-8ad7-4bef-b151-2a1267b6771d"
      },
      "execution_count": 72,
      "outputs": [
        {
          "output_type": "execute_result",
          "data": {
            "text/plain": [
              "         StateDesc       CityName GeographicLevel CategoryID  MeasureId\n",
              "803566    New York       New York    Census Tract     UNHBEH      SLEEP\n",
              "534654    New York       New York    Census Tract    HLTHOUT  TEETHLOST\n",
              "139616  California  San Francisco    Census Tract    HLTHOUT  TEETHLOST\n",
              "198241       Texas       Pasadena    Census Tract    HLTHOUT  TEETHLOST\n",
              "551677    Colorado       Thornton    Census Tract    PREVENT    CHECKUP"
            ],
            "text/html": [
              "\n",
              "  <div id=\"df-29d72321-7d62-4429-8b78-f78c5ffba56a\">\n",
              "    <div class=\"colab-df-container\">\n",
              "      <div>\n",
              "<style scoped>\n",
              "    .dataframe tbody tr th:only-of-type {\n",
              "        vertical-align: middle;\n",
              "    }\n",
              "\n",
              "    .dataframe tbody tr th {\n",
              "        vertical-align: top;\n",
              "    }\n",
              "\n",
              "    .dataframe thead th {\n",
              "        text-align: right;\n",
              "    }\n",
              "</style>\n",
              "<table border=\"1\" class=\"dataframe\">\n",
              "  <thead>\n",
              "    <tr style=\"text-align: right;\">\n",
              "      <th></th>\n",
              "      <th>StateDesc</th>\n",
              "      <th>CityName</th>\n",
              "      <th>GeographicLevel</th>\n",
              "      <th>CategoryID</th>\n",
              "      <th>MeasureId</th>\n",
              "    </tr>\n",
              "  </thead>\n",
              "  <tbody>\n",
              "    <tr>\n",
              "      <th>803566</th>\n",
              "      <td>New York</td>\n",
              "      <td>New York</td>\n",
              "      <td>Census Tract</td>\n",
              "      <td>UNHBEH</td>\n",
              "      <td>SLEEP</td>\n",
              "    </tr>\n",
              "    <tr>\n",
              "      <th>534654</th>\n",
              "      <td>New York</td>\n",
              "      <td>New York</td>\n",
              "      <td>Census Tract</td>\n",
              "      <td>HLTHOUT</td>\n",
              "      <td>TEETHLOST</td>\n",
              "    </tr>\n",
              "    <tr>\n",
              "      <th>139616</th>\n",
              "      <td>California</td>\n",
              "      <td>San Francisco</td>\n",
              "      <td>Census Tract</td>\n",
              "      <td>HLTHOUT</td>\n",
              "      <td>TEETHLOST</td>\n",
              "    </tr>\n",
              "    <tr>\n",
              "      <th>198241</th>\n",
              "      <td>Texas</td>\n",
              "      <td>Pasadena</td>\n",
              "      <td>Census Tract</td>\n",
              "      <td>HLTHOUT</td>\n",
              "      <td>TEETHLOST</td>\n",
              "    </tr>\n",
              "    <tr>\n",
              "      <th>551677</th>\n",
              "      <td>Colorado</td>\n",
              "      <td>Thornton</td>\n",
              "      <td>Census Tract</td>\n",
              "      <td>PREVENT</td>\n",
              "      <td>CHECKUP</td>\n",
              "    </tr>\n",
              "  </tbody>\n",
              "</table>\n",
              "</div>\n",
              "      <button class=\"colab-df-convert\" onclick=\"convertToInteractive('df-29d72321-7d62-4429-8b78-f78c5ffba56a')\"\n",
              "              title=\"Convert this dataframe to an interactive table.\"\n",
              "              style=\"display:none;\">\n",
              "        \n",
              "  <svg xmlns=\"http://www.w3.org/2000/svg\" height=\"24px\"viewBox=\"0 0 24 24\"\n",
              "       width=\"24px\">\n",
              "    <path d=\"M0 0h24v24H0V0z\" fill=\"none\"/>\n",
              "    <path d=\"M18.56 5.44l.94 2.06.94-2.06 2.06-.94-2.06-.94-.94-2.06-.94 2.06-2.06.94zm-11 1L8.5 8.5l.94-2.06 2.06-.94-2.06-.94L8.5 2.5l-.94 2.06-2.06.94zm10 10l.94 2.06.94-2.06 2.06-.94-2.06-.94-.94-2.06-.94 2.06-2.06.94z\"/><path d=\"M17.41 7.96l-1.37-1.37c-.4-.4-.92-.59-1.43-.59-.52 0-1.04.2-1.43.59L10.3 9.45l-7.72 7.72c-.78.78-.78 2.05 0 2.83L4 21.41c.39.39.9.59 1.41.59.51 0 1.02-.2 1.41-.59l7.78-7.78 2.81-2.81c.8-.78.8-2.07 0-2.86zM5.41 20L4 18.59l7.72-7.72 1.47 1.35L5.41 20z\"/>\n",
              "  </svg>\n",
              "      </button>\n",
              "      \n",
              "  <style>\n",
              "    .colab-df-container {\n",
              "      display:flex;\n",
              "      flex-wrap:wrap;\n",
              "      gap: 12px;\n",
              "    }\n",
              "\n",
              "    .colab-df-convert {\n",
              "      background-color: #E8F0FE;\n",
              "      border: none;\n",
              "      border-radius: 50%;\n",
              "      cursor: pointer;\n",
              "      display: none;\n",
              "      fill: #1967D2;\n",
              "      height: 32px;\n",
              "      padding: 0 0 0 0;\n",
              "      width: 32px;\n",
              "    }\n",
              "\n",
              "    .colab-df-convert:hover {\n",
              "      background-color: #E2EBFA;\n",
              "      box-shadow: 0px 1px 2px rgba(60, 64, 67, 0.3), 0px 1px 3px 1px rgba(60, 64, 67, 0.15);\n",
              "      fill: #174EA6;\n",
              "    }\n",
              "\n",
              "    [theme=dark] .colab-df-convert {\n",
              "      background-color: #3B4455;\n",
              "      fill: #D2E3FC;\n",
              "    }\n",
              "\n",
              "    [theme=dark] .colab-df-convert:hover {\n",
              "      background-color: #434B5C;\n",
              "      box-shadow: 0px 1px 3px 1px rgba(0, 0, 0, 0.15);\n",
              "      filter: drop-shadow(0px 1px 2px rgba(0, 0, 0, 0.3));\n",
              "      fill: #FFFFFF;\n",
              "    }\n",
              "  </style>\n",
              "\n",
              "      <script>\n",
              "        const buttonEl =\n",
              "          document.querySelector('#df-29d72321-7d62-4429-8b78-f78c5ffba56a button.colab-df-convert');\n",
              "        buttonEl.style.display =\n",
              "          google.colab.kernel.accessAllowed ? 'block' : 'none';\n",
              "\n",
              "        async function convertToInteractive(key) {\n",
              "          const element = document.querySelector('#df-29d72321-7d62-4429-8b78-f78c5ffba56a');\n",
              "          const dataTable =\n",
              "            await google.colab.kernel.invokeFunction('convertToInteractive',\n",
              "                                                     [key], {});\n",
              "          if (!dataTable) return;\n",
              "\n",
              "          const docLinkHtml = 'Like what you see? Visit the ' +\n",
              "            '<a target=\"_blank\" href=https://colab.research.google.com/notebooks/data_table.ipynb>data table notebook</a>'\n",
              "            + ' to learn more about interactive tables.';\n",
              "          element.innerHTML = '';\n",
              "          dataTable['output_type'] = 'display_data';\n",
              "          await google.colab.output.renderOutput(dataTable, element);\n",
              "          const docLink = document.createElement('div');\n",
              "          docLink.innerHTML = docLinkHtml;\n",
              "          element.appendChild(docLink);\n",
              "        }\n",
              "      </script>\n",
              "    </div>\n",
              "  </div>\n",
              "  "
            ]
          },
          "metadata": {},
          "execution_count": 72
        }
      ]
    },
    {
      "cell_type": "code",
      "source": [
        "obj_df[\"CategoryID\"].value_counts()"
      ],
      "metadata": {
        "colab": {
          "base_uri": "https://localhost:8080/"
        },
        "id": "_CPhZPZVIqlz",
        "outputId": "916d330f-9bba-43d0-abc7-5ca538e9add0"
      },
      "execution_count": 73,
      "outputs": [
        {
          "output_type": "execute_result",
          "data": {
            "text/plain": [
              "HLTHOUT    376673\n",
              "PREVENT    288400\n",
              "UNHBEH     145030\n",
              "Name: CategoryID, dtype: int64"
            ]
          },
          "metadata": {},
          "execution_count": 73
        }
      ]
    },
    {
      "cell_type": "code",
      "source": [
        "obj_df[\"GeographicLevel\"].value_counts()"
      ],
      "metadata": {
        "colab": {
          "base_uri": "https://localhost:8080/"
        },
        "id": "LVnfsZERIqii",
        "outputId": "365e809b-b8d0-4ba6-df6e-824312dfbcdd"
      },
      "execution_count": 74,
      "outputs": [
        {
          "output_type": "execute_result",
          "data": {
            "text/plain": [
              "Census Tract    782047\n",
              "City             28000\n",
              "US                  56\n",
              "Name: GeographicLevel, dtype: int64"
            ]
          },
          "metadata": {},
          "execution_count": 74
        }
      ]
    },
    {
      "cell_type": "code",
      "source": [
        "cleanup_1 = {\"CategoryID\":     {\"HLTHOUT\": 1, \"UNHBEH\": 2, \"PREVENT\": 3},\n",
        "                \"GeographicLevel\": {\"Census Tract\": 11, \"City\": 22, \"US\": 33}}"
      ],
      "metadata": {
        "id": "iCIxIA5OIqf2"
      },
      "execution_count": 75,
      "outputs": []
    },
    {
      "cell_type": "markdown",
      "source": [
        "### Converting the values in the columns to numeric"
      ],
      "metadata": {
        "id": "Y47mZYbOJUUo"
      }
    },
    {
      "cell_type": "code",
      "source": [
        "obj_df = obj_df.replace(cleanup_1)\n",
        "obj_df.head()"
      ],
      "metadata": {
        "colab": {
          "base_uri": "https://localhost:8080/",
          "height": 206
        },
        "id": "c51HFtQXJUsF",
        "outputId": "4fef1852-6874-4dfe-e3b0-23cb32f937e5"
      },
      "execution_count": 76,
      "outputs": [
        {
          "output_type": "execute_result",
          "data": {
            "text/plain": [
              "     StateDesc   CityName  GeographicLevel  CategoryID   MeasureId\n",
              "0      Indiana    Fishers               22           1      BPHIGH\n",
              "1   California   Milpitas               22           1      BPHIGH\n",
              "2  Connecticut   Stamford               22           1      BPHIGH\n",
              "3   California  Elk Grove               22           1      BPHIGH\n",
              "4      Florida   Palm Bay               22           3  CHOLSCREEN"
            ],
            "text/html": [
              "\n",
              "  <div id=\"df-89ee8163-bc87-4aec-a3da-6d0c12501bf6\">\n",
              "    <div class=\"colab-df-container\">\n",
              "      <div>\n",
              "<style scoped>\n",
              "    .dataframe tbody tr th:only-of-type {\n",
              "        vertical-align: middle;\n",
              "    }\n",
              "\n",
              "    .dataframe tbody tr th {\n",
              "        vertical-align: top;\n",
              "    }\n",
              "\n",
              "    .dataframe thead th {\n",
              "        text-align: right;\n",
              "    }\n",
              "</style>\n",
              "<table border=\"1\" class=\"dataframe\">\n",
              "  <thead>\n",
              "    <tr style=\"text-align: right;\">\n",
              "      <th></th>\n",
              "      <th>StateDesc</th>\n",
              "      <th>CityName</th>\n",
              "      <th>GeographicLevel</th>\n",
              "      <th>CategoryID</th>\n",
              "      <th>MeasureId</th>\n",
              "    </tr>\n",
              "  </thead>\n",
              "  <tbody>\n",
              "    <tr>\n",
              "      <th>0</th>\n",
              "      <td>Indiana</td>\n",
              "      <td>Fishers</td>\n",
              "      <td>22</td>\n",
              "      <td>1</td>\n",
              "      <td>BPHIGH</td>\n",
              "    </tr>\n",
              "    <tr>\n",
              "      <th>1</th>\n",
              "      <td>California</td>\n",
              "      <td>Milpitas</td>\n",
              "      <td>22</td>\n",
              "      <td>1</td>\n",
              "      <td>BPHIGH</td>\n",
              "    </tr>\n",
              "    <tr>\n",
              "      <th>2</th>\n",
              "      <td>Connecticut</td>\n",
              "      <td>Stamford</td>\n",
              "      <td>22</td>\n",
              "      <td>1</td>\n",
              "      <td>BPHIGH</td>\n",
              "    </tr>\n",
              "    <tr>\n",
              "      <th>3</th>\n",
              "      <td>California</td>\n",
              "      <td>Elk Grove</td>\n",
              "      <td>22</td>\n",
              "      <td>1</td>\n",
              "      <td>BPHIGH</td>\n",
              "    </tr>\n",
              "    <tr>\n",
              "      <th>4</th>\n",
              "      <td>Florida</td>\n",
              "      <td>Palm Bay</td>\n",
              "      <td>22</td>\n",
              "      <td>3</td>\n",
              "      <td>CHOLSCREEN</td>\n",
              "    </tr>\n",
              "  </tbody>\n",
              "</table>\n",
              "</div>\n",
              "      <button class=\"colab-df-convert\" onclick=\"convertToInteractive('df-89ee8163-bc87-4aec-a3da-6d0c12501bf6')\"\n",
              "              title=\"Convert this dataframe to an interactive table.\"\n",
              "              style=\"display:none;\">\n",
              "        \n",
              "  <svg xmlns=\"http://www.w3.org/2000/svg\" height=\"24px\"viewBox=\"0 0 24 24\"\n",
              "       width=\"24px\">\n",
              "    <path d=\"M0 0h24v24H0V0z\" fill=\"none\"/>\n",
              "    <path d=\"M18.56 5.44l.94 2.06.94-2.06 2.06-.94-2.06-.94-.94-2.06-.94 2.06-2.06.94zm-11 1L8.5 8.5l.94-2.06 2.06-.94-2.06-.94L8.5 2.5l-.94 2.06-2.06.94zm10 10l.94 2.06.94-2.06 2.06-.94-2.06-.94-.94-2.06-.94 2.06-2.06.94z\"/><path d=\"M17.41 7.96l-1.37-1.37c-.4-.4-.92-.59-1.43-.59-.52 0-1.04.2-1.43.59L10.3 9.45l-7.72 7.72c-.78.78-.78 2.05 0 2.83L4 21.41c.39.39.9.59 1.41.59.51 0 1.02-.2 1.41-.59l7.78-7.78 2.81-2.81c.8-.78.8-2.07 0-2.86zM5.41 20L4 18.59l7.72-7.72 1.47 1.35L5.41 20z\"/>\n",
              "  </svg>\n",
              "      </button>\n",
              "      \n",
              "  <style>\n",
              "    .colab-df-container {\n",
              "      display:flex;\n",
              "      flex-wrap:wrap;\n",
              "      gap: 12px;\n",
              "    }\n",
              "\n",
              "    .colab-df-convert {\n",
              "      background-color: #E8F0FE;\n",
              "      border: none;\n",
              "      border-radius: 50%;\n",
              "      cursor: pointer;\n",
              "      display: none;\n",
              "      fill: #1967D2;\n",
              "      height: 32px;\n",
              "      padding: 0 0 0 0;\n",
              "      width: 32px;\n",
              "    }\n",
              "\n",
              "    .colab-df-convert:hover {\n",
              "      background-color: #E2EBFA;\n",
              "      box-shadow: 0px 1px 2px rgba(60, 64, 67, 0.3), 0px 1px 3px 1px rgba(60, 64, 67, 0.15);\n",
              "      fill: #174EA6;\n",
              "    }\n",
              "\n",
              "    [theme=dark] .colab-df-convert {\n",
              "      background-color: #3B4455;\n",
              "      fill: #D2E3FC;\n",
              "    }\n",
              "\n",
              "    [theme=dark] .colab-df-convert:hover {\n",
              "      background-color: #434B5C;\n",
              "      box-shadow: 0px 1px 3px 1px rgba(0, 0, 0, 0.15);\n",
              "      filter: drop-shadow(0px 1px 2px rgba(0, 0, 0, 0.3));\n",
              "      fill: #FFFFFF;\n",
              "    }\n",
              "  </style>\n",
              "\n",
              "      <script>\n",
              "        const buttonEl =\n",
              "          document.querySelector('#df-89ee8163-bc87-4aec-a3da-6d0c12501bf6 button.colab-df-convert');\n",
              "        buttonEl.style.display =\n",
              "          google.colab.kernel.accessAllowed ? 'block' : 'none';\n",
              "\n",
              "        async function convertToInteractive(key) {\n",
              "          const element = document.querySelector('#df-89ee8163-bc87-4aec-a3da-6d0c12501bf6');\n",
              "          const dataTable =\n",
              "            await google.colab.kernel.invokeFunction('convertToInteractive',\n",
              "                                                     [key], {});\n",
              "          if (!dataTable) return;\n",
              "\n",
              "          const docLinkHtml = 'Like what you see? Visit the ' +\n",
              "            '<a target=\"_blank\" href=https://colab.research.google.com/notebooks/data_table.ipynb>data table notebook</a>'\n",
              "            + ' to learn more about interactive tables.';\n",
              "          element.innerHTML = '';\n",
              "          dataTable['output_type'] = 'display_data';\n",
              "          await google.colab.output.renderOutput(dataTable, element);\n",
              "          const docLink = document.createElement('div');\n",
              "          docLink.innerHTML = docLinkHtml;\n",
              "          element.appendChild(docLink);\n",
              "        }\n",
              "      </script>\n",
              "    </div>\n",
              "  </div>\n",
              "  "
            ]
          },
          "metadata": {},
          "execution_count": 76
        }
      ]
    },
    {
      "cell_type": "code",
      "source": [
        "obj_df.shape"
      ],
      "metadata": {
        "colab": {
          "base_uri": "https://localhost:8080/"
        },
        "id": "3HNubSKHJVxT",
        "outputId": "5653110d-fa27-496b-e522-5fecfa8f61fe"
      },
      "execution_count": 77,
      "outputs": [
        {
          "output_type": "execute_result",
          "data": {
            "text/plain": [
              "(810103, 5)"
            ]
          },
          "metadata": {},
          "execution_count": 77
        }
      ]
    },
    {
      "cell_type": "markdown",
      "source": [
        "### Encoding of the columns **GeographicLevel**, **CategoryID** is done."
      ],
      "metadata": {
        "id": "e84J3_LqJcI4"
      }
    },
    {
      "cell_type": "code",
      "source": [
        "obj_df.dtypes"
      ],
      "metadata": {
        "colab": {
          "base_uri": "https://localhost:8080/"
        },
        "id": "KhJhNa98JVvH",
        "outputId": "5353dffd-191a-42a4-8a6f-4b03fea142bb"
      },
      "execution_count": 78,
      "outputs": [
        {
          "output_type": "execute_result",
          "data": {
            "text/plain": [
              "StateDesc          object\n",
              "CityName           object\n",
              "GeographicLevel     int64\n",
              "CategoryID          int64\n",
              "MeasureId          object\n",
              "dtype: object"
            ]
          },
          "metadata": {},
          "execution_count": 78
        }
      ]
    },
    {
      "cell_type": "code",
      "source": [
        "obj_df[\"MeasureId\"].value_counts()"
      ],
      "metadata": {
        "colab": {
          "base_uri": "https://localhost:8080/"
        },
        "id": "8YOUvS31JVs2",
        "outputId": "b725b8a2-19e8-4b85-a57b-412e484a1570"
      },
      "execution_count": 79,
      "outputs": [
        {
          "output_type": "execute_result",
          "data": {
            "text/plain": [
              "BPHIGH          29006\n",
              "CSMOKING        29006\n",
              "PHLTH           29006\n",
              "CHECKUP         29006\n",
              "HIGHCHOL        29006\n",
              "BPMED           29006\n",
              "KIDNEY          29006\n",
              "DENTAL          29006\n",
              "SLEEP           29006\n",
              "CASTHMA         29006\n",
              "CHOLSCREEN      29006\n",
              "CHD             29006\n",
              "LPA             29006\n",
              "COPD            29006\n",
              "MHLTH           29006\n",
              "CANCER          29006\n",
              "BINGE           29006\n",
              "DIABETES        29006\n",
              "OBESITY         29006\n",
              "STROKE          29006\n",
              "ARTHRITIS       29006\n",
              "ACCESS2         28973\n",
              "PAPTEST         28912\n",
              "COLON_SCREEN    28847\n",
              "MAMMOUSE        28727\n",
              "TEETHLOST       28601\n",
              "COREM           28464\n",
              "COREW           28453\n",
              "Name: MeasureId, dtype: int64"
            ]
          },
          "metadata": {},
          "execution_count": 79
        }
      ]
    },
    {
      "cell_type": "markdown",
      "source": [
        "### Using **One Hot Encoding** to encode **MeaureID** column"
      ],
      "metadata": {
        "id": "NvoeMCbnJjmq"
      }
    },
    {
      "cell_type": "code",
      "source": [
        "obj_df = pd.get_dummies(obj_df, columns=[\"MeasureId\"])\n",
        "obj_df.head(8)"
      ],
      "metadata": {
        "colab": {
          "base_uri": "https://localhost:8080/",
          "height": 394
        },
        "id": "uyzEiK-iJVqU",
        "outputId": "fc79c61e-d43e-4038-cdd1-12a605315b49"
      },
      "execution_count": 80,
      "outputs": [
        {
          "output_type": "execute_result",
          "data": {
            "text/plain": [
              "     StateDesc   CityName  GeographicLevel  CategoryID  MeasureId_ACCESS2  \\\n",
              "0      Indiana    Fishers               22           1                  0   \n",
              "1   California   Milpitas               22           1                  0   \n",
              "2  Connecticut   Stamford               22           1                  0   \n",
              "3   California  Elk Grove               22           1                  0   \n",
              "4      Florida   Palm Bay               22           3                  0   \n",
              "5        Texas    Houston               22           1                  0   \n",
              "6     Illinois    Chicago               11           1                  0   \n",
              "7        Texas   Pasadena               11           1                  0   \n",
              "\n",
              "   MeasureId_ARTHRITIS  MeasureId_BINGE  MeasureId_BPHIGH  MeasureId_BPMED  \\\n",
              "0                    0                0                 1                0   \n",
              "1                    0                0                 1                0   \n",
              "2                    0                0                 1                0   \n",
              "3                    0                0                 1                0   \n",
              "4                    0                0                 0                0   \n",
              "5                    0                0                 1                0   \n",
              "6                    1                0                 0                0   \n",
              "7                    0                0                 1                0   \n",
              "\n",
              "   MeasureId_CANCER  ...  MeasureId_KIDNEY  MeasureId_LPA  MeasureId_MAMMOUSE  \\\n",
              "0                 0  ...                 0              0                   0   \n",
              "1                 0  ...                 0              0                   0   \n",
              "2                 0  ...                 0              0                   0   \n",
              "3                 0  ...                 0              0                   0   \n",
              "4                 0  ...                 0              0                   0   \n",
              "5                 0  ...                 0              0                   0   \n",
              "6                 0  ...                 0              0                   0   \n",
              "7                 0  ...                 0              0                   0   \n",
              "\n",
              "   MeasureId_MHLTH  MeasureId_OBESITY  MeasureId_PAPTEST  MeasureId_PHLTH  \\\n",
              "0                0                  0                  0                0   \n",
              "1                0                  0                  0                0   \n",
              "2                0                  0                  0                0   \n",
              "3                0                  0                  0                0   \n",
              "4                0                  0                  0                0   \n",
              "5                0                  0                  0                0   \n",
              "6                0                  0                  0                0   \n",
              "7                0                  0                  0                0   \n",
              "\n",
              "   MeasureId_SLEEP  MeasureId_STROKE  MeasureId_TEETHLOST  \n",
              "0                0                 0                    0  \n",
              "1                0                 0                    0  \n",
              "2                0                 0                    0  \n",
              "3                0                 0                    0  \n",
              "4                0                 0                    0  \n",
              "5                0                 0                    0  \n",
              "6                0                 0                    0  \n",
              "7                0                 0                    0  \n",
              "\n",
              "[8 rows x 32 columns]"
            ],
            "text/html": [
              "\n",
              "  <div id=\"df-2d13f49b-6267-4f16-a528-96030e72d227\">\n",
              "    <div class=\"colab-df-container\">\n",
              "      <div>\n",
              "<style scoped>\n",
              "    .dataframe tbody tr th:only-of-type {\n",
              "        vertical-align: middle;\n",
              "    }\n",
              "\n",
              "    .dataframe tbody tr th {\n",
              "        vertical-align: top;\n",
              "    }\n",
              "\n",
              "    .dataframe thead th {\n",
              "        text-align: right;\n",
              "    }\n",
              "</style>\n",
              "<table border=\"1\" class=\"dataframe\">\n",
              "  <thead>\n",
              "    <tr style=\"text-align: right;\">\n",
              "      <th></th>\n",
              "      <th>StateDesc</th>\n",
              "      <th>CityName</th>\n",
              "      <th>GeographicLevel</th>\n",
              "      <th>CategoryID</th>\n",
              "      <th>MeasureId_ACCESS2</th>\n",
              "      <th>MeasureId_ARTHRITIS</th>\n",
              "      <th>MeasureId_BINGE</th>\n",
              "      <th>MeasureId_BPHIGH</th>\n",
              "      <th>MeasureId_BPMED</th>\n",
              "      <th>MeasureId_CANCER</th>\n",
              "      <th>...</th>\n",
              "      <th>MeasureId_KIDNEY</th>\n",
              "      <th>MeasureId_LPA</th>\n",
              "      <th>MeasureId_MAMMOUSE</th>\n",
              "      <th>MeasureId_MHLTH</th>\n",
              "      <th>MeasureId_OBESITY</th>\n",
              "      <th>MeasureId_PAPTEST</th>\n",
              "      <th>MeasureId_PHLTH</th>\n",
              "      <th>MeasureId_SLEEP</th>\n",
              "      <th>MeasureId_STROKE</th>\n",
              "      <th>MeasureId_TEETHLOST</th>\n",
              "    </tr>\n",
              "  </thead>\n",
              "  <tbody>\n",
              "    <tr>\n",
              "      <th>0</th>\n",
              "      <td>Indiana</td>\n",
              "      <td>Fishers</td>\n",
              "      <td>22</td>\n",
              "      <td>1</td>\n",
              "      <td>0</td>\n",
              "      <td>0</td>\n",
              "      <td>0</td>\n",
              "      <td>1</td>\n",
              "      <td>0</td>\n",
              "      <td>0</td>\n",
              "      <td>...</td>\n",
              "      <td>0</td>\n",
              "      <td>0</td>\n",
              "      <td>0</td>\n",
              "      <td>0</td>\n",
              "      <td>0</td>\n",
              "      <td>0</td>\n",
              "      <td>0</td>\n",
              "      <td>0</td>\n",
              "      <td>0</td>\n",
              "      <td>0</td>\n",
              "    </tr>\n",
              "    <tr>\n",
              "      <th>1</th>\n",
              "      <td>California</td>\n",
              "      <td>Milpitas</td>\n",
              "      <td>22</td>\n",
              "      <td>1</td>\n",
              "      <td>0</td>\n",
              "      <td>0</td>\n",
              "      <td>0</td>\n",
              "      <td>1</td>\n",
              "      <td>0</td>\n",
              "      <td>0</td>\n",
              "      <td>...</td>\n",
              "      <td>0</td>\n",
              "      <td>0</td>\n",
              "      <td>0</td>\n",
              "      <td>0</td>\n",
              "      <td>0</td>\n",
              "      <td>0</td>\n",
              "      <td>0</td>\n",
              "      <td>0</td>\n",
              "      <td>0</td>\n",
              "      <td>0</td>\n",
              "    </tr>\n",
              "    <tr>\n",
              "      <th>2</th>\n",
              "      <td>Connecticut</td>\n",
              "      <td>Stamford</td>\n",
              "      <td>22</td>\n",
              "      <td>1</td>\n",
              "      <td>0</td>\n",
              "      <td>0</td>\n",
              "      <td>0</td>\n",
              "      <td>1</td>\n",
              "      <td>0</td>\n",
              "      <td>0</td>\n",
              "      <td>...</td>\n",
              "      <td>0</td>\n",
              "      <td>0</td>\n",
              "      <td>0</td>\n",
              "      <td>0</td>\n",
              "      <td>0</td>\n",
              "      <td>0</td>\n",
              "      <td>0</td>\n",
              "      <td>0</td>\n",
              "      <td>0</td>\n",
              "      <td>0</td>\n",
              "    </tr>\n",
              "    <tr>\n",
              "      <th>3</th>\n",
              "      <td>California</td>\n",
              "      <td>Elk Grove</td>\n",
              "      <td>22</td>\n",
              "      <td>1</td>\n",
              "      <td>0</td>\n",
              "      <td>0</td>\n",
              "      <td>0</td>\n",
              "      <td>1</td>\n",
              "      <td>0</td>\n",
              "      <td>0</td>\n",
              "      <td>...</td>\n",
              "      <td>0</td>\n",
              "      <td>0</td>\n",
              "      <td>0</td>\n",
              "      <td>0</td>\n",
              "      <td>0</td>\n",
              "      <td>0</td>\n",
              "      <td>0</td>\n",
              "      <td>0</td>\n",
              "      <td>0</td>\n",
              "      <td>0</td>\n",
              "    </tr>\n",
              "    <tr>\n",
              "      <th>4</th>\n",
              "      <td>Florida</td>\n",
              "      <td>Palm Bay</td>\n",
              "      <td>22</td>\n",
              "      <td>3</td>\n",
              "      <td>0</td>\n",
              "      <td>0</td>\n",
              "      <td>0</td>\n",
              "      <td>0</td>\n",
              "      <td>0</td>\n",
              "      <td>0</td>\n",
              "      <td>...</td>\n",
              "      <td>0</td>\n",
              "      <td>0</td>\n",
              "      <td>0</td>\n",
              "      <td>0</td>\n",
              "      <td>0</td>\n",
              "      <td>0</td>\n",
              "      <td>0</td>\n",
              "      <td>0</td>\n",
              "      <td>0</td>\n",
              "      <td>0</td>\n",
              "    </tr>\n",
              "    <tr>\n",
              "      <th>5</th>\n",
              "      <td>Texas</td>\n",
              "      <td>Houston</td>\n",
              "      <td>22</td>\n",
              "      <td>1</td>\n",
              "      <td>0</td>\n",
              "      <td>0</td>\n",
              "      <td>0</td>\n",
              "      <td>1</td>\n",
              "      <td>0</td>\n",
              "      <td>0</td>\n",
              "      <td>...</td>\n",
              "      <td>0</td>\n",
              "      <td>0</td>\n",
              "      <td>0</td>\n",
              "      <td>0</td>\n",
              "      <td>0</td>\n",
              "      <td>0</td>\n",
              "      <td>0</td>\n",
              "      <td>0</td>\n",
              "      <td>0</td>\n",
              "      <td>0</td>\n",
              "    </tr>\n",
              "    <tr>\n",
              "      <th>6</th>\n",
              "      <td>Illinois</td>\n",
              "      <td>Chicago</td>\n",
              "      <td>11</td>\n",
              "      <td>1</td>\n",
              "      <td>0</td>\n",
              "      <td>1</td>\n",
              "      <td>0</td>\n",
              "      <td>0</td>\n",
              "      <td>0</td>\n",
              "      <td>0</td>\n",
              "      <td>...</td>\n",
              "      <td>0</td>\n",
              "      <td>0</td>\n",
              "      <td>0</td>\n",
              "      <td>0</td>\n",
              "      <td>0</td>\n",
              "      <td>0</td>\n",
              "      <td>0</td>\n",
              "      <td>0</td>\n",
              "      <td>0</td>\n",
              "      <td>0</td>\n",
              "    </tr>\n",
              "    <tr>\n",
              "      <th>7</th>\n",
              "      <td>Texas</td>\n",
              "      <td>Pasadena</td>\n",
              "      <td>11</td>\n",
              "      <td>1</td>\n",
              "      <td>0</td>\n",
              "      <td>0</td>\n",
              "      <td>0</td>\n",
              "      <td>1</td>\n",
              "      <td>0</td>\n",
              "      <td>0</td>\n",
              "      <td>...</td>\n",
              "      <td>0</td>\n",
              "      <td>0</td>\n",
              "      <td>0</td>\n",
              "      <td>0</td>\n",
              "      <td>0</td>\n",
              "      <td>0</td>\n",
              "      <td>0</td>\n",
              "      <td>0</td>\n",
              "      <td>0</td>\n",
              "      <td>0</td>\n",
              "    </tr>\n",
              "  </tbody>\n",
              "</table>\n",
              "<p>8 rows × 32 columns</p>\n",
              "</div>\n",
              "      <button class=\"colab-df-convert\" onclick=\"convertToInteractive('df-2d13f49b-6267-4f16-a528-96030e72d227')\"\n",
              "              title=\"Convert this dataframe to an interactive table.\"\n",
              "              style=\"display:none;\">\n",
              "        \n",
              "  <svg xmlns=\"http://www.w3.org/2000/svg\" height=\"24px\"viewBox=\"0 0 24 24\"\n",
              "       width=\"24px\">\n",
              "    <path d=\"M0 0h24v24H0V0z\" fill=\"none\"/>\n",
              "    <path d=\"M18.56 5.44l.94 2.06.94-2.06 2.06-.94-2.06-.94-.94-2.06-.94 2.06-2.06.94zm-11 1L8.5 8.5l.94-2.06 2.06-.94-2.06-.94L8.5 2.5l-.94 2.06-2.06.94zm10 10l.94 2.06.94-2.06 2.06-.94-2.06-.94-.94-2.06-.94 2.06-2.06.94z\"/><path d=\"M17.41 7.96l-1.37-1.37c-.4-.4-.92-.59-1.43-.59-.52 0-1.04.2-1.43.59L10.3 9.45l-7.72 7.72c-.78.78-.78 2.05 0 2.83L4 21.41c.39.39.9.59 1.41.59.51 0 1.02-.2 1.41-.59l7.78-7.78 2.81-2.81c.8-.78.8-2.07 0-2.86zM5.41 20L4 18.59l7.72-7.72 1.47 1.35L5.41 20z\"/>\n",
              "  </svg>\n",
              "      </button>\n",
              "      \n",
              "  <style>\n",
              "    .colab-df-container {\n",
              "      display:flex;\n",
              "      flex-wrap:wrap;\n",
              "      gap: 12px;\n",
              "    }\n",
              "\n",
              "    .colab-df-convert {\n",
              "      background-color: #E8F0FE;\n",
              "      border: none;\n",
              "      border-radius: 50%;\n",
              "      cursor: pointer;\n",
              "      display: none;\n",
              "      fill: #1967D2;\n",
              "      height: 32px;\n",
              "      padding: 0 0 0 0;\n",
              "      width: 32px;\n",
              "    }\n",
              "\n",
              "    .colab-df-convert:hover {\n",
              "      background-color: #E2EBFA;\n",
              "      box-shadow: 0px 1px 2px rgba(60, 64, 67, 0.3), 0px 1px 3px 1px rgba(60, 64, 67, 0.15);\n",
              "      fill: #174EA6;\n",
              "    }\n",
              "\n",
              "    [theme=dark] .colab-df-convert {\n",
              "      background-color: #3B4455;\n",
              "      fill: #D2E3FC;\n",
              "    }\n",
              "\n",
              "    [theme=dark] .colab-df-convert:hover {\n",
              "      background-color: #434B5C;\n",
              "      box-shadow: 0px 1px 3px 1px rgba(0, 0, 0, 0.15);\n",
              "      filter: drop-shadow(0px 1px 2px rgba(0, 0, 0, 0.3));\n",
              "      fill: #FFFFFF;\n",
              "    }\n",
              "  </style>\n",
              "\n",
              "      <script>\n",
              "        const buttonEl =\n",
              "          document.querySelector('#df-2d13f49b-6267-4f16-a528-96030e72d227 button.colab-df-convert');\n",
              "        buttonEl.style.display =\n",
              "          google.colab.kernel.accessAllowed ? 'block' : 'none';\n",
              "\n",
              "        async function convertToInteractive(key) {\n",
              "          const element = document.querySelector('#df-2d13f49b-6267-4f16-a528-96030e72d227');\n",
              "          const dataTable =\n",
              "            await google.colab.kernel.invokeFunction('convertToInteractive',\n",
              "                                                     [key], {});\n",
              "          if (!dataTable) return;\n",
              "\n",
              "          const docLinkHtml = 'Like what you see? Visit the ' +\n",
              "            '<a target=\"_blank\" href=https://colab.research.google.com/notebooks/data_table.ipynb>data table notebook</a>'\n",
              "            + ' to learn more about interactive tables.';\n",
              "          element.innerHTML = '';\n",
              "          dataTable['output_type'] = 'display_data';\n",
              "          await google.colab.output.renderOutput(dataTable, element);\n",
              "          const docLink = document.createElement('div');\n",
              "          docLink.innerHTML = docLinkHtml;\n",
              "          element.appendChild(docLink);\n",
              "        }\n",
              "      </script>\n",
              "    </div>\n",
              "  </div>\n",
              "  "
            ]
          },
          "metadata": {},
          "execution_count": 80
        }
      ]
    },
    {
      "cell_type": "code",
      "source": [
        "obj_df.dtypes"
      ],
      "metadata": {
        "colab": {
          "base_uri": "https://localhost:8080/"
        },
        "id": "javc7nbfJVnp",
        "outputId": "b8d8089d-3956-484b-cdf6-a2ae6856bb03"
      },
      "execution_count": 81,
      "outputs": [
        {
          "output_type": "execute_result",
          "data": {
            "text/plain": [
              "StateDesc                 object\n",
              "CityName                  object\n",
              "GeographicLevel            int64\n",
              "CategoryID                 int64\n",
              "MeasureId_ACCESS2          uint8\n",
              "MeasureId_ARTHRITIS        uint8\n",
              "MeasureId_BINGE            uint8\n",
              "MeasureId_BPHIGH           uint8\n",
              "MeasureId_BPMED            uint8\n",
              "MeasureId_CANCER           uint8\n",
              "MeasureId_CASTHMA          uint8\n",
              "MeasureId_CHD              uint8\n",
              "MeasureId_CHECKUP          uint8\n",
              "MeasureId_CHOLSCREEN       uint8\n",
              "MeasureId_COLON_SCREEN     uint8\n",
              "MeasureId_COPD             uint8\n",
              "MeasureId_COREM            uint8\n",
              "MeasureId_COREW            uint8\n",
              "MeasureId_CSMOKING         uint8\n",
              "MeasureId_DENTAL           uint8\n",
              "MeasureId_DIABETES         uint8\n",
              "MeasureId_HIGHCHOL         uint8\n",
              "MeasureId_KIDNEY           uint8\n",
              "MeasureId_LPA              uint8\n",
              "MeasureId_MAMMOUSE         uint8\n",
              "MeasureId_MHLTH            uint8\n",
              "MeasureId_OBESITY          uint8\n",
              "MeasureId_PAPTEST          uint8\n",
              "MeasureId_PHLTH            uint8\n",
              "MeasureId_SLEEP            uint8\n",
              "MeasureId_STROKE           uint8\n",
              "MeasureId_TEETHLOST        uint8\n",
              "dtype: object"
            ]
          },
          "metadata": {},
          "execution_count": 81
        }
      ]
    },
    {
      "cell_type": "code",
      "source": [
        "obj_df.shape"
      ],
      "metadata": {
        "colab": {
          "base_uri": "https://localhost:8080/"
        },
        "id": "c2S0yCW-JVip",
        "outputId": "04e71871-7d26-4898-8d10-732551d6e188"
      },
      "execution_count": 82,
      "outputs": [
        {
          "output_type": "execute_result",
          "data": {
            "text/plain": [
              "(810103, 32)"
            ]
          },
          "metadata": {},
          "execution_count": 82
        }
      ]
    },
    {
      "cell_type": "markdown",
      "source": [
        "#### This is correct shape of the dataset as they are encoded."
      ],
      "metadata": {
        "id": "ijUb-IQHJsDm"
      }
    },
    {
      "cell_type": "markdown",
      "source": [
        "### There are 2 more Categorical columns left in the dataframe for encoding. Using the same **OneHot Encoding** for them as well."
      ],
      "metadata": {
        "id": "Mh5u5IGaJv6d"
      }
    },
    {
      "cell_type": "code",
      "source": [
        "obj_df = pd.get_dummies(obj_df, columns=[\"StateDesc\"])\n",
        "obj_df.head(4)"
      ],
      "metadata": {
        "colab": {
          "base_uri": "https://localhost:8080/",
          "height": 285
        },
        "id": "ns2fNzl5JteB",
        "outputId": "4c789bd7-85ef-43d4-80ba-1eb1595bc338"
      },
      "execution_count": 83,
      "outputs": [
        {
          "output_type": "execute_result",
          "data": {
            "text/plain": [
              "    CityName  GeographicLevel  CategoryID  MeasureId_ACCESS2  \\\n",
              "0    Fishers               22           1                  0   \n",
              "1   Milpitas               22           1                  0   \n",
              "2   Stamford               22           1                  0   \n",
              "3  Elk Grove               22           1                  0   \n",
              "\n",
              "   MeasureId_ARTHRITIS  MeasureId_BINGE  MeasureId_BPHIGH  MeasureId_BPMED  \\\n",
              "0                    0                0                 1                0   \n",
              "1                    0                0                 1                0   \n",
              "2                    0                0                 1                0   \n",
              "3                    0                0                 1                0   \n",
              "\n",
              "   MeasureId_CANCER  MeasureId_CASTHMA  ...  StateDesc_Tennessee  \\\n",
              "0                 0                  0  ...                    0   \n",
              "1                 0                  0  ...                    0   \n",
              "2                 0                  0  ...                    0   \n",
              "3                 0                  0  ...                    0   \n",
              "\n",
              "   StateDesc_Texas  StateDesc_United States  StateDesc_Utah  \\\n",
              "0                0                        0               0   \n",
              "1                0                        0               0   \n",
              "2                0                        0               0   \n",
              "3                0                        0               0   \n",
              "\n",
              "   StateDesc_Vermont  StateDesc_Virginia  StateDesc_Washington  \\\n",
              "0                  0                   0                     0   \n",
              "1                  0                   0                     0   \n",
              "2                  0                   0                     0   \n",
              "3                  0                   0                     0   \n",
              "\n",
              "   StateDesc_West Virginia  StateDesc_Wisconsin  StateDesc_Wyoming  \n",
              "0                        0                    0                  0  \n",
              "1                        0                    0                  0  \n",
              "2                        0                    0                  0  \n",
              "3                        0                    0                  0  \n",
              "\n",
              "[4 rows x 83 columns]"
            ],
            "text/html": [
              "\n",
              "  <div id=\"df-f9083ccf-3089-4fca-83a0-a799eb005109\">\n",
              "    <div class=\"colab-df-container\">\n",
              "      <div>\n",
              "<style scoped>\n",
              "    .dataframe tbody tr th:only-of-type {\n",
              "        vertical-align: middle;\n",
              "    }\n",
              "\n",
              "    .dataframe tbody tr th {\n",
              "        vertical-align: top;\n",
              "    }\n",
              "\n",
              "    .dataframe thead th {\n",
              "        text-align: right;\n",
              "    }\n",
              "</style>\n",
              "<table border=\"1\" class=\"dataframe\">\n",
              "  <thead>\n",
              "    <tr style=\"text-align: right;\">\n",
              "      <th></th>\n",
              "      <th>CityName</th>\n",
              "      <th>GeographicLevel</th>\n",
              "      <th>CategoryID</th>\n",
              "      <th>MeasureId_ACCESS2</th>\n",
              "      <th>MeasureId_ARTHRITIS</th>\n",
              "      <th>MeasureId_BINGE</th>\n",
              "      <th>MeasureId_BPHIGH</th>\n",
              "      <th>MeasureId_BPMED</th>\n",
              "      <th>MeasureId_CANCER</th>\n",
              "      <th>MeasureId_CASTHMA</th>\n",
              "      <th>...</th>\n",
              "      <th>StateDesc_Tennessee</th>\n",
              "      <th>StateDesc_Texas</th>\n",
              "      <th>StateDesc_United States</th>\n",
              "      <th>StateDesc_Utah</th>\n",
              "      <th>StateDesc_Vermont</th>\n",
              "      <th>StateDesc_Virginia</th>\n",
              "      <th>StateDesc_Washington</th>\n",
              "      <th>StateDesc_West Virginia</th>\n",
              "      <th>StateDesc_Wisconsin</th>\n",
              "      <th>StateDesc_Wyoming</th>\n",
              "    </tr>\n",
              "  </thead>\n",
              "  <tbody>\n",
              "    <tr>\n",
              "      <th>0</th>\n",
              "      <td>Fishers</td>\n",
              "      <td>22</td>\n",
              "      <td>1</td>\n",
              "      <td>0</td>\n",
              "      <td>0</td>\n",
              "      <td>0</td>\n",
              "      <td>1</td>\n",
              "      <td>0</td>\n",
              "      <td>0</td>\n",
              "      <td>0</td>\n",
              "      <td>...</td>\n",
              "      <td>0</td>\n",
              "      <td>0</td>\n",
              "      <td>0</td>\n",
              "      <td>0</td>\n",
              "      <td>0</td>\n",
              "      <td>0</td>\n",
              "      <td>0</td>\n",
              "      <td>0</td>\n",
              "      <td>0</td>\n",
              "      <td>0</td>\n",
              "    </tr>\n",
              "    <tr>\n",
              "      <th>1</th>\n",
              "      <td>Milpitas</td>\n",
              "      <td>22</td>\n",
              "      <td>1</td>\n",
              "      <td>0</td>\n",
              "      <td>0</td>\n",
              "      <td>0</td>\n",
              "      <td>1</td>\n",
              "      <td>0</td>\n",
              "      <td>0</td>\n",
              "      <td>0</td>\n",
              "      <td>...</td>\n",
              "      <td>0</td>\n",
              "      <td>0</td>\n",
              "      <td>0</td>\n",
              "      <td>0</td>\n",
              "      <td>0</td>\n",
              "      <td>0</td>\n",
              "      <td>0</td>\n",
              "      <td>0</td>\n",
              "      <td>0</td>\n",
              "      <td>0</td>\n",
              "    </tr>\n",
              "    <tr>\n",
              "      <th>2</th>\n",
              "      <td>Stamford</td>\n",
              "      <td>22</td>\n",
              "      <td>1</td>\n",
              "      <td>0</td>\n",
              "      <td>0</td>\n",
              "      <td>0</td>\n",
              "      <td>1</td>\n",
              "      <td>0</td>\n",
              "      <td>0</td>\n",
              "      <td>0</td>\n",
              "      <td>...</td>\n",
              "      <td>0</td>\n",
              "      <td>0</td>\n",
              "      <td>0</td>\n",
              "      <td>0</td>\n",
              "      <td>0</td>\n",
              "      <td>0</td>\n",
              "      <td>0</td>\n",
              "      <td>0</td>\n",
              "      <td>0</td>\n",
              "      <td>0</td>\n",
              "    </tr>\n",
              "    <tr>\n",
              "      <th>3</th>\n",
              "      <td>Elk Grove</td>\n",
              "      <td>22</td>\n",
              "      <td>1</td>\n",
              "      <td>0</td>\n",
              "      <td>0</td>\n",
              "      <td>0</td>\n",
              "      <td>1</td>\n",
              "      <td>0</td>\n",
              "      <td>0</td>\n",
              "      <td>0</td>\n",
              "      <td>...</td>\n",
              "      <td>0</td>\n",
              "      <td>0</td>\n",
              "      <td>0</td>\n",
              "      <td>0</td>\n",
              "      <td>0</td>\n",
              "      <td>0</td>\n",
              "      <td>0</td>\n",
              "      <td>0</td>\n",
              "      <td>0</td>\n",
              "      <td>0</td>\n",
              "    </tr>\n",
              "  </tbody>\n",
              "</table>\n",
              "<p>4 rows × 83 columns</p>\n",
              "</div>\n",
              "      <button class=\"colab-df-convert\" onclick=\"convertToInteractive('df-f9083ccf-3089-4fca-83a0-a799eb005109')\"\n",
              "              title=\"Convert this dataframe to an interactive table.\"\n",
              "              style=\"display:none;\">\n",
              "        \n",
              "  <svg xmlns=\"http://www.w3.org/2000/svg\" height=\"24px\"viewBox=\"0 0 24 24\"\n",
              "       width=\"24px\">\n",
              "    <path d=\"M0 0h24v24H0V0z\" fill=\"none\"/>\n",
              "    <path d=\"M18.56 5.44l.94 2.06.94-2.06 2.06-.94-2.06-.94-.94-2.06-.94 2.06-2.06.94zm-11 1L8.5 8.5l.94-2.06 2.06-.94-2.06-.94L8.5 2.5l-.94 2.06-2.06.94zm10 10l.94 2.06.94-2.06 2.06-.94-2.06-.94-.94-2.06-.94 2.06-2.06.94z\"/><path d=\"M17.41 7.96l-1.37-1.37c-.4-.4-.92-.59-1.43-.59-.52 0-1.04.2-1.43.59L10.3 9.45l-7.72 7.72c-.78.78-.78 2.05 0 2.83L4 21.41c.39.39.9.59 1.41.59.51 0 1.02-.2 1.41-.59l7.78-7.78 2.81-2.81c.8-.78.8-2.07 0-2.86zM5.41 20L4 18.59l7.72-7.72 1.47 1.35L5.41 20z\"/>\n",
              "  </svg>\n",
              "      </button>\n",
              "      \n",
              "  <style>\n",
              "    .colab-df-container {\n",
              "      display:flex;\n",
              "      flex-wrap:wrap;\n",
              "      gap: 12px;\n",
              "    }\n",
              "\n",
              "    .colab-df-convert {\n",
              "      background-color: #E8F0FE;\n",
              "      border: none;\n",
              "      border-radius: 50%;\n",
              "      cursor: pointer;\n",
              "      display: none;\n",
              "      fill: #1967D2;\n",
              "      height: 32px;\n",
              "      padding: 0 0 0 0;\n",
              "      width: 32px;\n",
              "    }\n",
              "\n",
              "    .colab-df-convert:hover {\n",
              "      background-color: #E2EBFA;\n",
              "      box-shadow: 0px 1px 2px rgba(60, 64, 67, 0.3), 0px 1px 3px 1px rgba(60, 64, 67, 0.15);\n",
              "      fill: #174EA6;\n",
              "    }\n",
              "\n",
              "    [theme=dark] .colab-df-convert {\n",
              "      background-color: #3B4455;\n",
              "      fill: #D2E3FC;\n",
              "    }\n",
              "\n",
              "    [theme=dark] .colab-df-convert:hover {\n",
              "      background-color: #434B5C;\n",
              "      box-shadow: 0px 1px 3px 1px rgba(0, 0, 0, 0.15);\n",
              "      filter: drop-shadow(0px 1px 2px rgba(0, 0, 0, 0.3));\n",
              "      fill: #FFFFFF;\n",
              "    }\n",
              "  </style>\n",
              "\n",
              "      <script>\n",
              "        const buttonEl =\n",
              "          document.querySelector('#df-f9083ccf-3089-4fca-83a0-a799eb005109 button.colab-df-convert');\n",
              "        buttonEl.style.display =\n",
              "          google.colab.kernel.accessAllowed ? 'block' : 'none';\n",
              "\n",
              "        async function convertToInteractive(key) {\n",
              "          const element = document.querySelector('#df-f9083ccf-3089-4fca-83a0-a799eb005109');\n",
              "          const dataTable =\n",
              "            await google.colab.kernel.invokeFunction('convertToInteractive',\n",
              "                                                     [key], {});\n",
              "          if (!dataTable) return;\n",
              "\n",
              "          const docLinkHtml = 'Like what you see? Visit the ' +\n",
              "            '<a target=\"_blank\" href=https://colab.research.google.com/notebooks/data_table.ipynb>data table notebook</a>'\n",
              "            + ' to learn more about interactive tables.';\n",
              "          element.innerHTML = '';\n",
              "          dataTable['output_type'] = 'display_data';\n",
              "          await google.colab.output.renderOutput(dataTable, element);\n",
              "          const docLink = document.createElement('div');\n",
              "          docLink.innerHTML = docLinkHtml;\n",
              "          element.appendChild(docLink);\n",
              "        }\n",
              "      </script>\n",
              "    </div>\n",
              "  </div>\n",
              "  "
            ]
          },
          "metadata": {},
          "execution_count": 83
        }
      ]
    },
    {
      "cell_type": "code",
      "source": [
        "obj_df.shape"
      ],
      "metadata": {
        "colab": {
          "base_uri": "https://localhost:8080/"
        },
        "id": "m5ZpxA-hJtb8",
        "outputId": "008a8683-14c1-42c7-d57a-68c74b5f395c"
      },
      "execution_count": 84,
      "outputs": [
        {
          "output_type": "execute_result",
          "data": {
            "text/plain": [
              "(810103, 83)"
            ]
          },
          "metadata": {},
          "execution_count": 84
        }
      ]
    },
    {
      "cell_type": "code",
      "source": [
        "FINAL_df = pd.get_dummies(obj_df, columns=[\"CityName\"])\n",
        "FINAL_df.head(6)"
      ],
      "metadata": {
        "colab": {
          "base_uri": "https://localhost:8080/",
          "height": 348
        },
        "id": "jnkGHUQxJtZl",
        "outputId": "c8d9211c-698e-420a-d72b-41e55f8272bd"
      },
      "execution_count": 85,
      "outputs": [
        {
          "output_type": "execute_result",
          "data": {
            "text/plain": [
              "   GeographicLevel  CategoryID  MeasureId_ACCESS2  MeasureId_ARTHRITIS  \\\n",
              "0               22           1                  0                    0   \n",
              "1               22           1                  0                    0   \n",
              "2               22           1                  0                    0   \n",
              "3               22           1                  0                    0   \n",
              "4               22           3                  0                    0   \n",
              "5               22           1                  0                    0   \n",
              "\n",
              "   MeasureId_BINGE  MeasureId_BPHIGH  MeasureId_BPMED  MeasureId_CANCER  \\\n",
              "0                0                 1                0                 0   \n",
              "1                0                 1                0                 0   \n",
              "2                0                 1                0                 0   \n",
              "3                0                 1                0                 0   \n",
              "4                0                 0                0                 0   \n",
              "5                0                 1                0                 0   \n",
              "\n",
              "   MeasureId_CASTHMA  MeasureId_CHD  ...  CityName_Wichita  \\\n",
              "0                  0              0  ...                 0   \n",
              "1                  0              0  ...                 0   \n",
              "2                  0              0  ...                 0   \n",
              "3                  0              0  ...                 0   \n",
              "4                  0              0  ...                 0   \n",
              "5                  0              0  ...                 0   \n",
              "\n",
              "   CityName_Wichita Falls  CityName_Wilmington  CityName_Winston-Salem  \\\n",
              "0                       0                    0                       0   \n",
              "1                       0                    0                       0   \n",
              "2                       0                    0                       0   \n",
              "3                       0                    0                       0   \n",
              "4                       0                    0                       0   \n",
              "5                       0                    0                       0   \n",
              "\n",
              "   CityName_Worcester  CityName_Wyoming  CityName_Yakima  CityName_Yonkers  \\\n",
              "0                   0                 0                0                 0   \n",
              "1                   0                 0                0                 0   \n",
              "2                   0                 0                0                 0   \n",
              "3                   0                 0                0                 0   \n",
              "4                   0                 0                0                 0   \n",
              "5                   0                 0                0                 0   \n",
              "\n",
              "   CityName_Youngstown  CityName_Yuma  \n",
              "0                    0              0  \n",
              "1                    0              0  \n",
              "2                    0              0  \n",
              "3                    0              0  \n",
              "4                    0              0  \n",
              "5                    0              0  \n",
              "\n",
              "[6 rows x 556 columns]"
            ],
            "text/html": [
              "\n",
              "  <div id=\"df-58f03a1e-f494-4274-90fb-c79d26948512\">\n",
              "    <div class=\"colab-df-container\">\n",
              "      <div>\n",
              "<style scoped>\n",
              "    .dataframe tbody tr th:only-of-type {\n",
              "        vertical-align: middle;\n",
              "    }\n",
              "\n",
              "    .dataframe tbody tr th {\n",
              "        vertical-align: top;\n",
              "    }\n",
              "\n",
              "    .dataframe thead th {\n",
              "        text-align: right;\n",
              "    }\n",
              "</style>\n",
              "<table border=\"1\" class=\"dataframe\">\n",
              "  <thead>\n",
              "    <tr style=\"text-align: right;\">\n",
              "      <th></th>\n",
              "      <th>GeographicLevel</th>\n",
              "      <th>CategoryID</th>\n",
              "      <th>MeasureId_ACCESS2</th>\n",
              "      <th>MeasureId_ARTHRITIS</th>\n",
              "      <th>MeasureId_BINGE</th>\n",
              "      <th>MeasureId_BPHIGH</th>\n",
              "      <th>MeasureId_BPMED</th>\n",
              "      <th>MeasureId_CANCER</th>\n",
              "      <th>MeasureId_CASTHMA</th>\n",
              "      <th>MeasureId_CHD</th>\n",
              "      <th>...</th>\n",
              "      <th>CityName_Wichita</th>\n",
              "      <th>CityName_Wichita Falls</th>\n",
              "      <th>CityName_Wilmington</th>\n",
              "      <th>CityName_Winston-Salem</th>\n",
              "      <th>CityName_Worcester</th>\n",
              "      <th>CityName_Wyoming</th>\n",
              "      <th>CityName_Yakima</th>\n",
              "      <th>CityName_Yonkers</th>\n",
              "      <th>CityName_Youngstown</th>\n",
              "      <th>CityName_Yuma</th>\n",
              "    </tr>\n",
              "  </thead>\n",
              "  <tbody>\n",
              "    <tr>\n",
              "      <th>0</th>\n",
              "      <td>22</td>\n",
              "      <td>1</td>\n",
              "      <td>0</td>\n",
              "      <td>0</td>\n",
              "      <td>0</td>\n",
              "      <td>1</td>\n",
              "      <td>0</td>\n",
              "      <td>0</td>\n",
              "      <td>0</td>\n",
              "      <td>0</td>\n",
              "      <td>...</td>\n",
              "      <td>0</td>\n",
              "      <td>0</td>\n",
              "      <td>0</td>\n",
              "      <td>0</td>\n",
              "      <td>0</td>\n",
              "      <td>0</td>\n",
              "      <td>0</td>\n",
              "      <td>0</td>\n",
              "      <td>0</td>\n",
              "      <td>0</td>\n",
              "    </tr>\n",
              "    <tr>\n",
              "      <th>1</th>\n",
              "      <td>22</td>\n",
              "      <td>1</td>\n",
              "      <td>0</td>\n",
              "      <td>0</td>\n",
              "      <td>0</td>\n",
              "      <td>1</td>\n",
              "      <td>0</td>\n",
              "      <td>0</td>\n",
              "      <td>0</td>\n",
              "      <td>0</td>\n",
              "      <td>...</td>\n",
              "      <td>0</td>\n",
              "      <td>0</td>\n",
              "      <td>0</td>\n",
              "      <td>0</td>\n",
              "      <td>0</td>\n",
              "      <td>0</td>\n",
              "      <td>0</td>\n",
              "      <td>0</td>\n",
              "      <td>0</td>\n",
              "      <td>0</td>\n",
              "    </tr>\n",
              "    <tr>\n",
              "      <th>2</th>\n",
              "      <td>22</td>\n",
              "      <td>1</td>\n",
              "      <td>0</td>\n",
              "      <td>0</td>\n",
              "      <td>0</td>\n",
              "      <td>1</td>\n",
              "      <td>0</td>\n",
              "      <td>0</td>\n",
              "      <td>0</td>\n",
              "      <td>0</td>\n",
              "      <td>...</td>\n",
              "      <td>0</td>\n",
              "      <td>0</td>\n",
              "      <td>0</td>\n",
              "      <td>0</td>\n",
              "      <td>0</td>\n",
              "      <td>0</td>\n",
              "      <td>0</td>\n",
              "      <td>0</td>\n",
              "      <td>0</td>\n",
              "      <td>0</td>\n",
              "    </tr>\n",
              "    <tr>\n",
              "      <th>3</th>\n",
              "      <td>22</td>\n",
              "      <td>1</td>\n",
              "      <td>0</td>\n",
              "      <td>0</td>\n",
              "      <td>0</td>\n",
              "      <td>1</td>\n",
              "      <td>0</td>\n",
              "      <td>0</td>\n",
              "      <td>0</td>\n",
              "      <td>0</td>\n",
              "      <td>...</td>\n",
              "      <td>0</td>\n",
              "      <td>0</td>\n",
              "      <td>0</td>\n",
              "      <td>0</td>\n",
              "      <td>0</td>\n",
              "      <td>0</td>\n",
              "      <td>0</td>\n",
              "      <td>0</td>\n",
              "      <td>0</td>\n",
              "      <td>0</td>\n",
              "    </tr>\n",
              "    <tr>\n",
              "      <th>4</th>\n",
              "      <td>22</td>\n",
              "      <td>3</td>\n",
              "      <td>0</td>\n",
              "      <td>0</td>\n",
              "      <td>0</td>\n",
              "      <td>0</td>\n",
              "      <td>0</td>\n",
              "      <td>0</td>\n",
              "      <td>0</td>\n",
              "      <td>0</td>\n",
              "      <td>...</td>\n",
              "      <td>0</td>\n",
              "      <td>0</td>\n",
              "      <td>0</td>\n",
              "      <td>0</td>\n",
              "      <td>0</td>\n",
              "      <td>0</td>\n",
              "      <td>0</td>\n",
              "      <td>0</td>\n",
              "      <td>0</td>\n",
              "      <td>0</td>\n",
              "    </tr>\n",
              "    <tr>\n",
              "      <th>5</th>\n",
              "      <td>22</td>\n",
              "      <td>1</td>\n",
              "      <td>0</td>\n",
              "      <td>0</td>\n",
              "      <td>0</td>\n",
              "      <td>1</td>\n",
              "      <td>0</td>\n",
              "      <td>0</td>\n",
              "      <td>0</td>\n",
              "      <td>0</td>\n",
              "      <td>...</td>\n",
              "      <td>0</td>\n",
              "      <td>0</td>\n",
              "      <td>0</td>\n",
              "      <td>0</td>\n",
              "      <td>0</td>\n",
              "      <td>0</td>\n",
              "      <td>0</td>\n",
              "      <td>0</td>\n",
              "      <td>0</td>\n",
              "      <td>0</td>\n",
              "    </tr>\n",
              "  </tbody>\n",
              "</table>\n",
              "<p>6 rows × 556 columns</p>\n",
              "</div>\n",
              "      <button class=\"colab-df-convert\" onclick=\"convertToInteractive('df-58f03a1e-f494-4274-90fb-c79d26948512')\"\n",
              "              title=\"Convert this dataframe to an interactive table.\"\n",
              "              style=\"display:none;\">\n",
              "        \n",
              "  <svg xmlns=\"http://www.w3.org/2000/svg\" height=\"24px\"viewBox=\"0 0 24 24\"\n",
              "       width=\"24px\">\n",
              "    <path d=\"M0 0h24v24H0V0z\" fill=\"none\"/>\n",
              "    <path d=\"M18.56 5.44l.94 2.06.94-2.06 2.06-.94-2.06-.94-.94-2.06-.94 2.06-2.06.94zm-11 1L8.5 8.5l.94-2.06 2.06-.94-2.06-.94L8.5 2.5l-.94 2.06-2.06.94zm10 10l.94 2.06.94-2.06 2.06-.94-2.06-.94-.94-2.06-.94 2.06-2.06.94z\"/><path d=\"M17.41 7.96l-1.37-1.37c-.4-.4-.92-.59-1.43-.59-.52 0-1.04.2-1.43.59L10.3 9.45l-7.72 7.72c-.78.78-.78 2.05 0 2.83L4 21.41c.39.39.9.59 1.41.59.51 0 1.02-.2 1.41-.59l7.78-7.78 2.81-2.81c.8-.78.8-2.07 0-2.86zM5.41 20L4 18.59l7.72-7.72 1.47 1.35L5.41 20z\"/>\n",
              "  </svg>\n",
              "      </button>\n",
              "      \n",
              "  <style>\n",
              "    .colab-df-container {\n",
              "      display:flex;\n",
              "      flex-wrap:wrap;\n",
              "      gap: 12px;\n",
              "    }\n",
              "\n",
              "    .colab-df-convert {\n",
              "      background-color: #E8F0FE;\n",
              "      border: none;\n",
              "      border-radius: 50%;\n",
              "      cursor: pointer;\n",
              "      display: none;\n",
              "      fill: #1967D2;\n",
              "      height: 32px;\n",
              "      padding: 0 0 0 0;\n",
              "      width: 32px;\n",
              "    }\n",
              "\n",
              "    .colab-df-convert:hover {\n",
              "      background-color: #E2EBFA;\n",
              "      box-shadow: 0px 1px 2px rgba(60, 64, 67, 0.3), 0px 1px 3px 1px rgba(60, 64, 67, 0.15);\n",
              "      fill: #174EA6;\n",
              "    }\n",
              "\n",
              "    [theme=dark] .colab-df-convert {\n",
              "      background-color: #3B4455;\n",
              "      fill: #D2E3FC;\n",
              "    }\n",
              "\n",
              "    [theme=dark] .colab-df-convert:hover {\n",
              "      background-color: #434B5C;\n",
              "      box-shadow: 0px 1px 3px 1px rgba(0, 0, 0, 0.15);\n",
              "      filter: drop-shadow(0px 1px 2px rgba(0, 0, 0, 0.3));\n",
              "      fill: #FFFFFF;\n",
              "    }\n",
              "  </style>\n",
              "\n",
              "      <script>\n",
              "        const buttonEl =\n",
              "          document.querySelector('#df-58f03a1e-f494-4274-90fb-c79d26948512 button.colab-df-convert');\n",
              "        buttonEl.style.display =\n",
              "          google.colab.kernel.accessAllowed ? 'block' : 'none';\n",
              "\n",
              "        async function convertToInteractive(key) {\n",
              "          const element = document.querySelector('#df-58f03a1e-f494-4274-90fb-c79d26948512');\n",
              "          const dataTable =\n",
              "            await google.colab.kernel.invokeFunction('convertToInteractive',\n",
              "                                                     [key], {});\n",
              "          if (!dataTable) return;\n",
              "\n",
              "          const docLinkHtml = 'Like what you see? Visit the ' +\n",
              "            '<a target=\"_blank\" href=https://colab.research.google.com/notebooks/data_table.ipynb>data table notebook</a>'\n",
              "            + ' to learn more about interactive tables.';\n",
              "          element.innerHTML = '';\n",
              "          dataTable['output_type'] = 'display_data';\n",
              "          await google.colab.output.renderOutput(dataTable, element);\n",
              "          const docLink = document.createElement('div');\n",
              "          docLink.innerHTML = docLinkHtml;\n",
              "          element.appendChild(docLink);\n",
              "        }\n",
              "      </script>\n",
              "    </div>\n",
              "  </div>\n",
              "  "
            ]
          },
          "metadata": {},
          "execution_count": 85
        }
      ]
    },
    {
      "cell_type": "code",
      "source": [
        "FINAL_df.dtypes"
      ],
      "metadata": {
        "colab": {
          "base_uri": "https://localhost:8080/"
        },
        "id": "uFwrjlCMJtX7",
        "outputId": "eb046038-f5f1-403d-f707-4579cda84db1"
      },
      "execution_count": 86,
      "outputs": [
        {
          "output_type": "execute_result",
          "data": {
            "text/plain": [
              "GeographicLevel        int64\n",
              "CategoryID             int64\n",
              "MeasureId_ACCESS2      uint8\n",
              "MeasureId_ARTHRITIS    uint8\n",
              "MeasureId_BINGE        uint8\n",
              "                       ...  \n",
              "CityName_Wyoming       uint8\n",
              "CityName_Yakima        uint8\n",
              "CityName_Yonkers       uint8\n",
              "CityName_Youngstown    uint8\n",
              "CityName_Yuma          uint8\n",
              "Length: 556, dtype: object"
            ]
          },
          "metadata": {},
          "execution_count": 86
        }
      ]
    },
    {
      "cell_type": "code",
      "source": [
        "FINAL_df.shape"
      ],
      "metadata": {
        "colab": {
          "base_uri": "https://localhost:8080/"
        },
        "id": "1vynFqrKJtU2",
        "outputId": "0c7b04e5-2196-42de-cb01-783bc924f387"
      },
      "execution_count": 87,
      "outputs": [
        {
          "output_type": "execute_result",
          "data": {
            "text/plain": [
              "(810103, 556)"
            ]
          },
          "metadata": {},
          "execution_count": 87
        }
      ]
    },
    {
      "cell_type": "markdown",
      "source": [
        "#### By checking the data types of all the columns as above, all the categorical values are encoded into numeric values which is ready to implement in the machine learning models and the shape of the dataset is also correct."
      ],
      "metadata": {
        "id": "dUSTCWbuJ8L1"
      }
    },
    {
      "cell_type": "markdown",
      "source": [
        "### Let us start machine learning models with the dataframe **FINAL_df**."
      ],
      "metadata": {
        "id": "YEVisQ04J_Ao"
      }
    },
    {
      "cell_type": "code",
      "source": [
        "FINAL_df.head()"
      ],
      "metadata": {
        "colab": {
          "base_uri": "https://localhost:8080/",
          "height": 317
        },
        "id": "yq0vXTmdJtSX",
        "outputId": "059fdb32-9b45-4a5f-ec75-f4307681e317"
      },
      "execution_count": 88,
      "outputs": [
        {
          "output_type": "execute_result",
          "data": {
            "text/plain": [
              "   GeographicLevel  CategoryID  MeasureId_ACCESS2  MeasureId_ARTHRITIS  \\\n",
              "0               22           1                  0                    0   \n",
              "1               22           1                  0                    0   \n",
              "2               22           1                  0                    0   \n",
              "3               22           1                  0                    0   \n",
              "4               22           3                  0                    0   \n",
              "\n",
              "   MeasureId_BINGE  MeasureId_BPHIGH  MeasureId_BPMED  MeasureId_CANCER  \\\n",
              "0                0                 1                0                 0   \n",
              "1                0                 1                0                 0   \n",
              "2                0                 1                0                 0   \n",
              "3                0                 1                0                 0   \n",
              "4                0                 0                0                 0   \n",
              "\n",
              "   MeasureId_CASTHMA  MeasureId_CHD  ...  CityName_Wichita  \\\n",
              "0                  0              0  ...                 0   \n",
              "1                  0              0  ...                 0   \n",
              "2                  0              0  ...                 0   \n",
              "3                  0              0  ...                 0   \n",
              "4                  0              0  ...                 0   \n",
              "\n",
              "   CityName_Wichita Falls  CityName_Wilmington  CityName_Winston-Salem  \\\n",
              "0                       0                    0                       0   \n",
              "1                       0                    0                       0   \n",
              "2                       0                    0                       0   \n",
              "3                       0                    0                       0   \n",
              "4                       0                    0                       0   \n",
              "\n",
              "   CityName_Worcester  CityName_Wyoming  CityName_Yakima  CityName_Yonkers  \\\n",
              "0                   0                 0                0                 0   \n",
              "1                   0                 0                0                 0   \n",
              "2                   0                 0                0                 0   \n",
              "3                   0                 0                0                 0   \n",
              "4                   0                 0                0                 0   \n",
              "\n",
              "   CityName_Youngstown  CityName_Yuma  \n",
              "0                    0              0  \n",
              "1                    0              0  \n",
              "2                    0              0  \n",
              "3                    0              0  \n",
              "4                    0              0  \n",
              "\n",
              "[5 rows x 556 columns]"
            ],
            "text/html": [
              "\n",
              "  <div id=\"df-d685fc68-d45c-4485-a256-5d11140a5ecd\">\n",
              "    <div class=\"colab-df-container\">\n",
              "      <div>\n",
              "<style scoped>\n",
              "    .dataframe tbody tr th:only-of-type {\n",
              "        vertical-align: middle;\n",
              "    }\n",
              "\n",
              "    .dataframe tbody tr th {\n",
              "        vertical-align: top;\n",
              "    }\n",
              "\n",
              "    .dataframe thead th {\n",
              "        text-align: right;\n",
              "    }\n",
              "</style>\n",
              "<table border=\"1\" class=\"dataframe\">\n",
              "  <thead>\n",
              "    <tr style=\"text-align: right;\">\n",
              "      <th></th>\n",
              "      <th>GeographicLevel</th>\n",
              "      <th>CategoryID</th>\n",
              "      <th>MeasureId_ACCESS2</th>\n",
              "      <th>MeasureId_ARTHRITIS</th>\n",
              "      <th>MeasureId_BINGE</th>\n",
              "      <th>MeasureId_BPHIGH</th>\n",
              "      <th>MeasureId_BPMED</th>\n",
              "      <th>MeasureId_CANCER</th>\n",
              "      <th>MeasureId_CASTHMA</th>\n",
              "      <th>MeasureId_CHD</th>\n",
              "      <th>...</th>\n",
              "      <th>CityName_Wichita</th>\n",
              "      <th>CityName_Wichita Falls</th>\n",
              "      <th>CityName_Wilmington</th>\n",
              "      <th>CityName_Winston-Salem</th>\n",
              "      <th>CityName_Worcester</th>\n",
              "      <th>CityName_Wyoming</th>\n",
              "      <th>CityName_Yakima</th>\n",
              "      <th>CityName_Yonkers</th>\n",
              "      <th>CityName_Youngstown</th>\n",
              "      <th>CityName_Yuma</th>\n",
              "    </tr>\n",
              "  </thead>\n",
              "  <tbody>\n",
              "    <tr>\n",
              "      <th>0</th>\n",
              "      <td>22</td>\n",
              "      <td>1</td>\n",
              "      <td>0</td>\n",
              "      <td>0</td>\n",
              "      <td>0</td>\n",
              "      <td>1</td>\n",
              "      <td>0</td>\n",
              "      <td>0</td>\n",
              "      <td>0</td>\n",
              "      <td>0</td>\n",
              "      <td>...</td>\n",
              "      <td>0</td>\n",
              "      <td>0</td>\n",
              "      <td>0</td>\n",
              "      <td>0</td>\n",
              "      <td>0</td>\n",
              "      <td>0</td>\n",
              "      <td>0</td>\n",
              "      <td>0</td>\n",
              "      <td>0</td>\n",
              "      <td>0</td>\n",
              "    </tr>\n",
              "    <tr>\n",
              "      <th>1</th>\n",
              "      <td>22</td>\n",
              "      <td>1</td>\n",
              "      <td>0</td>\n",
              "      <td>0</td>\n",
              "      <td>0</td>\n",
              "      <td>1</td>\n",
              "      <td>0</td>\n",
              "      <td>0</td>\n",
              "      <td>0</td>\n",
              "      <td>0</td>\n",
              "      <td>...</td>\n",
              "      <td>0</td>\n",
              "      <td>0</td>\n",
              "      <td>0</td>\n",
              "      <td>0</td>\n",
              "      <td>0</td>\n",
              "      <td>0</td>\n",
              "      <td>0</td>\n",
              "      <td>0</td>\n",
              "      <td>0</td>\n",
              "      <td>0</td>\n",
              "    </tr>\n",
              "    <tr>\n",
              "      <th>2</th>\n",
              "      <td>22</td>\n",
              "      <td>1</td>\n",
              "      <td>0</td>\n",
              "      <td>0</td>\n",
              "      <td>0</td>\n",
              "      <td>1</td>\n",
              "      <td>0</td>\n",
              "      <td>0</td>\n",
              "      <td>0</td>\n",
              "      <td>0</td>\n",
              "      <td>...</td>\n",
              "      <td>0</td>\n",
              "      <td>0</td>\n",
              "      <td>0</td>\n",
              "      <td>0</td>\n",
              "      <td>0</td>\n",
              "      <td>0</td>\n",
              "      <td>0</td>\n",
              "      <td>0</td>\n",
              "      <td>0</td>\n",
              "      <td>0</td>\n",
              "    </tr>\n",
              "    <tr>\n",
              "      <th>3</th>\n",
              "      <td>22</td>\n",
              "      <td>1</td>\n",
              "      <td>0</td>\n",
              "      <td>0</td>\n",
              "      <td>0</td>\n",
              "      <td>1</td>\n",
              "      <td>0</td>\n",
              "      <td>0</td>\n",
              "      <td>0</td>\n",
              "      <td>0</td>\n",
              "      <td>...</td>\n",
              "      <td>0</td>\n",
              "      <td>0</td>\n",
              "      <td>0</td>\n",
              "      <td>0</td>\n",
              "      <td>0</td>\n",
              "      <td>0</td>\n",
              "      <td>0</td>\n",
              "      <td>0</td>\n",
              "      <td>0</td>\n",
              "      <td>0</td>\n",
              "    </tr>\n",
              "    <tr>\n",
              "      <th>4</th>\n",
              "      <td>22</td>\n",
              "      <td>3</td>\n",
              "      <td>0</td>\n",
              "      <td>0</td>\n",
              "      <td>0</td>\n",
              "      <td>0</td>\n",
              "      <td>0</td>\n",
              "      <td>0</td>\n",
              "      <td>0</td>\n",
              "      <td>0</td>\n",
              "      <td>...</td>\n",
              "      <td>0</td>\n",
              "      <td>0</td>\n",
              "      <td>0</td>\n",
              "      <td>0</td>\n",
              "      <td>0</td>\n",
              "      <td>0</td>\n",
              "      <td>0</td>\n",
              "      <td>0</td>\n",
              "      <td>0</td>\n",
              "      <td>0</td>\n",
              "    </tr>\n",
              "  </tbody>\n",
              "</table>\n",
              "<p>5 rows × 556 columns</p>\n",
              "</div>\n",
              "      <button class=\"colab-df-convert\" onclick=\"convertToInteractive('df-d685fc68-d45c-4485-a256-5d11140a5ecd')\"\n",
              "              title=\"Convert this dataframe to an interactive table.\"\n",
              "              style=\"display:none;\">\n",
              "        \n",
              "  <svg xmlns=\"http://www.w3.org/2000/svg\" height=\"24px\"viewBox=\"0 0 24 24\"\n",
              "       width=\"24px\">\n",
              "    <path d=\"M0 0h24v24H0V0z\" fill=\"none\"/>\n",
              "    <path d=\"M18.56 5.44l.94 2.06.94-2.06 2.06-.94-2.06-.94-.94-2.06-.94 2.06-2.06.94zm-11 1L8.5 8.5l.94-2.06 2.06-.94-2.06-.94L8.5 2.5l-.94 2.06-2.06.94zm10 10l.94 2.06.94-2.06 2.06-.94-2.06-.94-.94-2.06-.94 2.06-2.06.94z\"/><path d=\"M17.41 7.96l-1.37-1.37c-.4-.4-.92-.59-1.43-.59-.52 0-1.04.2-1.43.59L10.3 9.45l-7.72 7.72c-.78.78-.78 2.05 0 2.83L4 21.41c.39.39.9.59 1.41.59.51 0 1.02-.2 1.41-.59l7.78-7.78 2.81-2.81c.8-.78.8-2.07 0-2.86zM5.41 20L4 18.59l7.72-7.72 1.47 1.35L5.41 20z\"/>\n",
              "  </svg>\n",
              "      </button>\n",
              "      \n",
              "  <style>\n",
              "    .colab-df-container {\n",
              "      display:flex;\n",
              "      flex-wrap:wrap;\n",
              "      gap: 12px;\n",
              "    }\n",
              "\n",
              "    .colab-df-convert {\n",
              "      background-color: #E8F0FE;\n",
              "      border: none;\n",
              "      border-radius: 50%;\n",
              "      cursor: pointer;\n",
              "      display: none;\n",
              "      fill: #1967D2;\n",
              "      height: 32px;\n",
              "      padding: 0 0 0 0;\n",
              "      width: 32px;\n",
              "    }\n",
              "\n",
              "    .colab-df-convert:hover {\n",
              "      background-color: #E2EBFA;\n",
              "      box-shadow: 0px 1px 2px rgba(60, 64, 67, 0.3), 0px 1px 3px 1px rgba(60, 64, 67, 0.15);\n",
              "      fill: #174EA6;\n",
              "    }\n",
              "\n",
              "    [theme=dark] .colab-df-convert {\n",
              "      background-color: #3B4455;\n",
              "      fill: #D2E3FC;\n",
              "    }\n",
              "\n",
              "    [theme=dark] .colab-df-convert:hover {\n",
              "      background-color: #434B5C;\n",
              "      box-shadow: 0px 1px 3px 1px rgba(0, 0, 0, 0.15);\n",
              "      filter: drop-shadow(0px 1px 2px rgba(0, 0, 0, 0.3));\n",
              "      fill: #FFFFFF;\n",
              "    }\n",
              "  </style>\n",
              "\n",
              "      <script>\n",
              "        const buttonEl =\n",
              "          document.querySelector('#df-d685fc68-d45c-4485-a256-5d11140a5ecd button.colab-df-convert');\n",
              "        buttonEl.style.display =\n",
              "          google.colab.kernel.accessAllowed ? 'block' : 'none';\n",
              "\n",
              "        async function convertToInteractive(key) {\n",
              "          const element = document.querySelector('#df-d685fc68-d45c-4485-a256-5d11140a5ecd');\n",
              "          const dataTable =\n",
              "            await google.colab.kernel.invokeFunction('convertToInteractive',\n",
              "                                                     [key], {});\n",
              "          if (!dataTable) return;\n",
              "\n",
              "          const docLinkHtml = 'Like what you see? Visit the ' +\n",
              "            '<a target=\"_blank\" href=https://colab.research.google.com/notebooks/data_table.ipynb>data table notebook</a>'\n",
              "            + ' to learn more about interactive tables.';\n",
              "          element.innerHTML = '';\n",
              "          dataTable['output_type'] = 'display_data';\n",
              "          await google.colab.output.renderOutput(dataTable, element);\n",
              "          const docLink = document.createElement('div');\n",
              "          docLink.innerHTML = docLinkHtml;\n",
              "          element.appendChild(docLink);\n",
              "        }\n",
              "      </script>\n",
              "    </div>\n",
              "  </div>\n",
              "  "
            ]
          },
          "metadata": {},
          "execution_count": 88
        }
      ]
    },
    {
      "cell_type": "code",
      "source": [
        "FINAL_df.columns"
      ],
      "metadata": {
        "colab": {
          "base_uri": "https://localhost:8080/"
        },
        "id": "Xh5QGaaQJtPy",
        "outputId": "619b9234-24de-4894-cf3f-a5f9d20d4db9"
      },
      "execution_count": 89,
      "outputs": [
        {
          "output_type": "execute_result",
          "data": {
            "text/plain": [
              "Index(['GeographicLevel', 'CategoryID', 'MeasureId_ACCESS2',\n",
              "       'MeasureId_ARTHRITIS', 'MeasureId_BINGE', 'MeasureId_BPHIGH',\n",
              "       'MeasureId_BPMED', 'MeasureId_CANCER', 'MeasureId_CASTHMA',\n",
              "       'MeasureId_CHD',\n",
              "       ...\n",
              "       'CityName_Wichita', 'CityName_Wichita Falls', 'CityName_Wilmington',\n",
              "       'CityName_Winston-Salem', 'CityName_Worcester', 'CityName_Wyoming',\n",
              "       'CityName_Yakima', 'CityName_Yonkers', 'CityName_Youngstown',\n",
              "       'CityName_Yuma'],\n",
              "      dtype='object', length=556)"
            ]
          },
          "metadata": {},
          "execution_count": 89
        }
      ]
    },
    {
      "cell_type": "markdown",
      "source": [
        "# **Machine Learning**"
      ],
      "metadata": {
        "id": "ywWFePt0KHvr"
      }
    },
    {
      "cell_type": "code",
      "source": [
        "X = FINAL_df[FINAL_df.columns]\n",
        "\n",
        "y = FINAL_df[\"CategoryID\"]"
      ],
      "metadata": {
        "id": "4FTfuyBZJVgM"
      },
      "execution_count": 90,
      "outputs": []
    },
    {
      "cell_type": "code",
      "source": [
        "print(X.shape, y.shape)"
      ],
      "metadata": {
        "colab": {
          "base_uri": "https://localhost:8080/"
        },
        "id": "LPzAV0axKOHl",
        "outputId": "ac4f134c-d151-4382-fee4-dc6765c996b1"
      },
      "execution_count": 91,
      "outputs": [
        {
          "output_type": "stream",
          "name": "stdout",
          "text": [
            "(810103, 556) (810103,)\n"
          ]
        }
      ]
    },
    {
      "cell_type": "code",
      "source": [
        "X_train, y_train, X_test, y_test = train_test_split(X,\n",
        "                                                    y,\n",
        "                                                    test_size=0.3, \n",
        "                                                    random_state=42)\n",
        "print(X_train.shape, X_test.shape, y_train.shape, y_test.shape)"
      ],
      "metadata": {
        "colab": {
          "base_uri": "https://localhost:8080/"
        },
        "id": "zJkOKdIsKOE9",
        "outputId": "e0fbff39-0900-4ee4-ae44-eafb6934d66b"
      },
      "execution_count": 92,
      "outputs": [
        {
          "output_type": "stream",
          "name": "stdout",
          "text": [
            "(567072, 556) (567072,) (243031, 556) (243031,)\n"
          ]
        }
      ]
    },
    {
      "cell_type": "markdown",
      "source": [
        "### Converting X_train & y_train to be with same number of entries."
      ],
      "metadata": {
        "id": "UdjbhsBZKUuS"
      }
    },
    {
      "cell_type": "code",
      "source": [
        "X_train = X_train.transpose()\n",
        "y_train = y_train.transpose()"
      ],
      "metadata": {
        "id": "vCBSsk_oKOCz"
      },
      "execution_count": 93,
      "outputs": []
    },
    {
      "cell_type": "code",
      "source": [
        "print(X_train.shape, X_test.shape, y_train.shape, y_test.shape)"
      ],
      "metadata": {
        "colab": {
          "base_uri": "https://localhost:8080/"
        },
        "id": "J3RTep6TKN_-",
        "outputId": "be63a5e4-927d-4dfd-b305-7319673358f3"
      },
      "execution_count": 94,
      "outputs": [
        {
          "output_type": "stream",
          "name": "stdout",
          "text": [
            "(556, 567072) (567072,) (556, 243031) (243031,)\n"
          ]
        }
      ]
    },
    {
      "cell_type": "markdown",
      "source": [
        "### **Cross validation for Decision Tree Classifier**"
      ],
      "metadata": {
        "id": "7tPvcYnOKjJX"
      }
    },
    {
      "cell_type": "code",
      "source": [
        "X, y = make_blobs(n_samples=10000, n_features=10, centers=100, random_state=0)\n",
        "\n",
        "dec_clf = DecisionTreeClassifier(max_depth=None, min_samples_split=2, random_state=0) \n",
        "dec_scores = cross_val_score(dec_clf, X, y, cv=5)\n",
        "print(\"Cross validated scores for DecisionTree classifier:\", dec_scores)\n",
        "print(\"Accuracy is:\", dec_scores.mean())\n",
        "print(\"Standard Deviation is:\", dec_scores.std())"
      ],
      "metadata": {
        "colab": {
          "base_uri": "https://localhost:8080/"
        },
        "id": "ByAOaZafKN9N",
        "outputId": "d210a7f1-3ea6-4bf1-f4ad-f1b4385ae1b0"
      },
      "execution_count": 95,
      "outputs": [
        {
          "output_type": "stream",
          "name": "stdout",
          "text": [
            "Cross validated scores for DecisionTree classifier: [0.982  0.982  0.9855 0.982  0.98  ]\n"
          ]
        },
        {
          "output_type": "execute_result",
          "data": {
            "text/plain": [
              "0.9823000000000001"
            ]
          },
          "metadata": {},
          "execution_count": 95
        }
      ]
    },
    {
      "cell_type": "markdown",
      "source": [
        "## Accuracy of Cross Validation for decisiontree is 0.98 and Standard Deviation is 0.0017"
      ],
      "metadata": {
        "id": "R88NDggEeP7s"
      }
    },
    {
      "cell_type": "code",
      "source": [
        "X.shape, y.shape"
      ],
      "metadata": {
        "colab": {
          "base_uri": "https://localhost:8080/"
        },
        "id": "QqckZA17KN6g",
        "outputId": "02f34683-42f2-4aa5-967f-7a046d78722d"
      },
      "execution_count": 96,
      "outputs": [
        {
          "output_type": "execute_result",
          "data": {
            "text/plain": [
              "((10000, 10), (10000,))"
            ]
          },
          "metadata": {},
          "execution_count": 96
        }
      ]
    },
    {
      "cell_type": "markdown",
      "source": [
        "### **Cross validation for Random Forest classifier**"
      ],
      "metadata": {
        "id": "sRb4GTNSKplf"
      }
    },
    {
      "cell_type": "code",
      "source": [
        "ran_clf = RandomForestClassifier(n_estimators=10, max_depth=None, min_samples_split=2, random_state=0)\n",
        "ran_scores = cross_val_score(ran_clf, X, y, cv=5)\n",
        "print(\"Cross validated scores for RandomForest classifier:\", ran_scores)\n",
        "print(\"Accuracy is:\", ran_scores.mean())\n",
        "print(\"Standard Deviation is:\", ran_scores.std())"
      ],
      "metadata": {
        "colab": {
          "base_uri": "https://localhost:8080/"
        },
        "id": "Xr4hFMdwKnZw",
        "outputId": "129ed0a3-15d0-46bf-9ea0-157b0e6c2cd7"
      },
      "execution_count": 97,
      "outputs": [
        {
          "output_type": "stream",
          "name": "stdout",
          "text": [
            "Cross validated scores for RandomForest classifier: [1.     1.     0.9995 1.     0.999 ]\n"
          ]
        },
        {
          "output_type": "execute_result",
          "data": {
            "text/plain": [
              "0.9997"
            ]
          },
          "metadata": {},
          "execution_count": 97
        }
      ]
    },
    {
      "cell_type": "markdown",
      "source": [
        "## Accuracy of Cross Validation for Randomforest is 0.99 and Standard Deviation is 0.0003"
      ],
      "metadata": {
        "id": "yrMWZ8MYeR_V"
      }
    }
  ]
}